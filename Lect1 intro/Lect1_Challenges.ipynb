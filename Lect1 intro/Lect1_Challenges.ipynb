{
 "cells": [
  {
   "cell_type": "markdown",
   "metadata": {},
   "source": [
    "# Занятие 1. Задачи"
   ]
  },
  {
   "cell_type": "markdown",
   "metadata": {
    "id": "DkeJhbQq0-9j"
   },
   "source": [
    "## 1. Самая первая задача\n",
    "\n",
    "Напишите программу, которая пригласит человека забрать готовую пиццу из зоны выдачи, написав `“Имя, Ваша пицца готова!”`."
   ]
  },
  {
   "cell_type": "code",
   "execution_count": 2,
   "metadata": {},
   "outputs": [
    {
     "name": "stdout",
     "output_type": "stream",
     "text": [
      "Ваше имя: Елена\n",
      "Елена, Ваша пицца готова!\n"
     ]
    }
   ],
   "source": [
    "name = input(\"Ваше имя: \")\n",
    "print(f'{name}, Ваша пицца готова!')"
   ]
  },
  {
   "cell_type": "code",
   "execution_count": 3,
   "metadata": {},
   "outputs": [
    {
     "name": "stdout",
     "output_type": "stream",
     "text": [
      "Елена, Ваша пицца готова!\n"
     ]
    }
   ],
   "source": [
    "print(name + ', Ваша пицца готова!')"
   ]
  },
  {
   "cell_type": "markdown",
   "metadata": {
    "id": "MO78tXXx6wlt"
   },
   "source": [
    "## 2. Признание\n",
    "\n",
    "Решительный Владимир пообещал своей возлюбленной Лиле написать слово `“ЛЮБ”` 1000 раз. Помогите ему, написав программу, которая выведет на экран строчку `“ЛЮБ”` нужное количество раз."
   ]
  },
  {
   "cell_type": "code",
   "execution_count": 6,
   "metadata": {},
   "outputs": [
    {
     "name": "stdout",
     "output_type": "stream",
     "text": [
      "100\n",
      "ЛЮБЛЮБЛЮБЛЮБЛЮБЛЮБЛЮБЛЮБЛЮБЛЮБЛЮБЛЮБЛЮБЛЮБЛЮБЛЮБЛЮБЛЮБЛЮБЛЮБЛЮБЛЮБЛЮБЛЮБЛЮБЛЮБЛЮБЛЮБЛЮБЛЮБЛЮБЛЮБЛЮБЛЮБЛЮБЛЮБЛЮБЛЮБЛЮБЛЮБЛЮБЛЮБЛЮБЛЮБЛЮБЛЮБЛЮБЛЮБЛЮБЛЮБЛЮБЛЮБЛЮБЛЮБЛЮБЛЮБЛЮБЛЮБЛЮБЛЮБЛЮБЛЮБЛЮБЛЮБЛЮБЛЮБЛЮБЛЮБЛЮБЛЮБЛЮБЛЮБЛЮБЛЮБЛЮБЛЮБЛЮБЛЮБЛЮБЛЮБЛЮБЛЮБЛЮБЛЮБЛЮБЛЮБЛЮБЛЮБЛЮБЛЮБЛЮБЛЮБЛЮБЛЮБЛЮБЛЮБЛЮБЛЮБЛЮБЛЮБ\n"
     ]
    }
   ],
   "source": [
    "num = int(input())\n",
    "str = \"ЛЮБ\"\n",
    "\n",
    "print(str*num)"
   ]
  },
  {
   "cell_type": "markdown",
   "metadata": {
    "id": "7_9YkkUDcfEi"
   },
   "source": [
    "## 3. Налоги\n",
    "\n",
    "Вася открыл собственное кафе и сейчас заполняет налоговую декларацию по упрощённой системе налогообложения “доходы минус расходы”.\n",
    "\n",
    "Посчитайте сумму налогов за год, зная доходы кафе, расходы кафе и процент налоговой ставки, принятой в Васином регионе (этот код уже написан)."
   ]
  },
  {
   "cell_type": "code",
   "execution_count": 8,
   "metadata": {},
   "outputs": [
    {
     "name": "stdout",
     "output_type": "stream",
     "text": [
      "150000.0\n"
     ]
    }
   ],
   "source": [
    "income = 2500000\n",
    "expenses = 1000000\n",
    "tax = 10\n",
    "\n",
    "print((income - expenses)*tax/100)"
   ]
  },
  {
   "cell_type": "code",
   "execution_count": 10,
   "metadata": {},
   "outputs": [
    {
     "name": "stdout",
     "output_type": "stream",
     "text": [
      "Налог за год: 150000.0\n"
     ]
    }
   ],
   "source": [
    "# В классе:\n",
    "income = 2500000\n",
    "expenses = 1000000\n",
    "tax = 10 / 100\n",
    "\n",
    "print('Налог за год:', (income - expenses)*tax)"
   ]
  },
  {
   "cell_type": "markdown",
   "metadata": {},
   "source": [
    "## 4. Долг\n",
    "\n",
    "Алеша постоянно берет у Маши деньги в долг и потом возвращает их с процентами. Помогите Маше написать программу, которая будет высчитывать, сколько денег получит Маша от очередного займа. \n",
    "\n",
    "**ФОРМАТ ВВОДА** \\\n",
    "На первой строке вводится целое число — сумма, которую дала Маша в долг. \\\n",
    "На второй строке вводится целое число — проценты, с которыми Алеша обещал вернуть долг. \n",
    "\n",
    "**ФОРМАТ ВЫВОДА** \\\n",
    "Целое число рублей — сумма денег, которую Даша должна получить от Алеши. Без копеек. "
   ]
  },
  {
   "cell_type": "code",
   "execution_count": 18,
   "metadata": {},
   "outputs": [
    {
     "name": "stdout",
     "output_type": "stream",
     "text": [
      "Cумма, которую дала Маша в долг = 100\n",
      "Проценты, с которыми Алеша обещал вернуть долг = 10\n",
      "110.0\n"
     ]
    }
   ],
   "source": [
    "summ = int(input(\"Cумма, которую дала Маша в долг = \"))\n",
    "persent = int(input(\"Проценты, с которыми Алеша обещал вернуть долг = \"))\n",
    "newsumm = summ + summ * persent / 100\n",
    "print(newsumm // 1)"
   ]
  },
  {
   "cell_type": "code",
   "execution_count": 13,
   "metadata": {},
   "outputs": [
    {
     "name": "stdout",
     "output_type": "stream",
     "text": [
      "1000\n",
      "10\n",
      "Сумма к получению: 1100\n"
     ]
    }
   ],
   "source": [
    "dolg = int(input())\n",
    "perc = int(input()) / 100\n",
    "\n",
    "print(f'Сумма к получению: {int(dolg + dolg * perc)}')"
   ]
  },
  {
   "cell_type": "markdown",
   "metadata": {},
   "source": [
    "## 5. Контактные данные\n",
    "\n",
    "Вы составляете базу данных контактов. Пользователь вводит имя, e-mail и номер телефона, а ваша программа должна напечатать `Пользователь: <ИМЯ>. E-mail: <E-MAIL>. Контактный номер телефона: <НОМЕР ТЕЛЕФОНА>.`"
   ]
  },
  {
   "cell_type": "code",
   "execution_count": 20,
   "metadata": {},
   "outputs": [
    {
     "name": "stdout",
     "output_type": "stream",
     "text": [
      "Ваше имя: Елена\n",
      "Ваш email: lena@mail.ru\n",
      "Ваш номер телефона: +790012345678\n"
     ]
    }
   ],
   "source": [
    "name = input(\"Ваше имя: \")\n",
    "email = input(\"Ваш email: \")\n",
    "phone = input(\"Ваш номер телефона: \")"
   ]
  },
  {
   "cell_type": "markdown",
   "metadata": {},
   "source": [
    "Вариант1:"
   ]
  },
  {
   "cell_type": "code",
   "execution_count": 21,
   "metadata": {},
   "outputs": [
    {
     "name": "stdout",
     "output_type": "stream",
     "text": [
      "Пользователь: Елена. E-mail: lena@mail.ru. Контактный номер телефона: +790012345678.\n"
     ]
    }
   ],
   "source": [
    "print(f'Пользователь: {name}. E-mail: {email}. Контактный номер телефона: {phone}.')"
   ]
  },
  {
   "cell_type": "markdown",
   "metadata": {},
   "source": [
    "Вариант2:"
   ]
  },
  {
   "cell_type": "code",
   "execution_count": 22,
   "metadata": {},
   "outputs": [
    {
     "name": "stdout",
     "output_type": "stream",
     "text": [
      "Пользователь: Елена. E-mail: lena@mail.ru. Контактный номер телефона: +790012345678.\n"
     ]
    }
   ],
   "source": [
    "print('Пользователь: {0}. E-mail: {1}. Контактный номер телефона: {2}.'.format(name,email,phone))"
   ]
  },
  {
   "cell_type": "markdown",
   "metadata": {},
   "source": [
    "Вариант3:"
   ]
  },
  {
   "cell_type": "code",
   "execution_count": 23,
   "metadata": {},
   "outputs": [
    {
     "name": "stdout",
     "output_type": "stream",
     "text": [
      "Пользователь: Елена. E-mail: lena@mail.ru. Контактный номер телефона: +790012345678.\n"
     ]
    }
   ],
   "source": [
    "print('Пользователь: {}. E-mail: {}. Контактный номер телефона: {}.'.format(name,email,phone))"
   ]
  }
 ],
 "metadata": {
  "kernelspec": {
   "display_name": "Python 3 (ipykernel)",
   "language": "python",
   "name": "python3"
  },
  "language_info": {
   "codemirror_mode": {
    "name": "ipython",
    "version": 3
   },
   "file_extension": ".py",
   "mimetype": "text/x-python",
   "name": "python",
   "nbconvert_exporter": "python",
   "pygments_lexer": "ipython3",
   "version": "3.11.5"
  }
 },
 "nbformat": 4,
 "nbformat_minor": 4
}
