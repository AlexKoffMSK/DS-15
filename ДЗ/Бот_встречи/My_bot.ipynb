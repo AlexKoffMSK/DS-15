{
 "cells": [
  {
   "cell_type": "code",
   "execution_count": null,
   "metadata": {
    "scrolled": true
   },
   "outputs": [],
   "source": [
    "# !pip install pyTelegramBotAPI"
   ]
  },
  {
   "cell_type": "code",
   "execution_count": 71,
   "metadata": {},
   "outputs": [],
   "source": [
    "import telebot\n",
    "from telebot import types\n",
    "\n",
    "import sqlite3\n",
    "# подключаем базу данных\n",
    "conn = sqlite3.connect('meeting_reminder.db')\n",
    "\n",
    "# курсор для работы с таблицами\n",
    "cursor = conn.cursor()\n",
    "\n",
    "try:\n",
    "    # sql запрос для создания таблицы\n",
    "    query = 'DROP TABLE \"meeting_reminder\"'\n",
    "    # исполняем его –> ура, теперь у нас есть таблица, куда будем все сохранять!\n",
    "    cursor.execute(query)\n",
    "except:\n",
    "    pass\n",
    "\n",
    "try:\n",
    "    # sql запрос для создания таблицы\n",
    "    query = 'CREATE TABLE \"meeting_reminder\" (\"ID\" INTEGER UNIQUE, \"user_id\" INTEGER, \"meet_time\" TEXT, \"meet_location\" TEXT, \"meet_name\" TEXT, \"meet_text_msg\" TEXT, PRIMARY KEY (\"ID\"))'\n",
    "    # исполняем его –> ура, теперь у нас есть таблица, куда будем все сохранять!\n",
    "    cursor.execute(query)\n",
    "except:\n",
    "    pass\n"
   ]
  },
  {
   "cell_type": "code",
   "execution_count": 64,
   "metadata": {},
   "outputs": [],
   "source": [
    "# подключим токен нашего бота (bot_token - это просто наш файлик (в который мы токен положили))\n",
    "from bot_token import token\n",
    "bot = telebot.TeleBot(token)"
   ]
  },
  {
   "cell_type": "code",
   "execution_count": 65,
   "metadata": {},
   "outputs": [],
   "source": [
    "# напишем, что делать нашему боту при команде старт\n",
    "@bot.message_handler(commands=['start']) #декоратор \n",
    "def send_keyboard(message, text=\"Привет, я просто напоминаю о твоих встречах\"):\n",
    "    keyboard = types.ReplyKeyboardMarkup(row_width=2)  # наша клавиатура\n",
    "    itembtn1 = types.KeyboardButton('Добавить встречу') # создадим кнопку\n",
    "    itembtn2 = types.KeyboardButton('Показать встречи на сегодня')\n",
    "    itembtn3 = types.KeyboardButton(\"Отредактировать встречу\")\n",
    "    itembtn4 = types.KeyboardButton('Удалить встречу')\n",
    "    keyboard.add(itembtn1, itembtn2) # добавим кнопки 1 и 2 на первый ряд\n",
    "    keyboard.add(itembtn3, itembtn4) # добавим кнопки 3, 4, 5 на второй ряд\n",
    "    # но если кнопок слишком много, они пойдут на след ряд автоматически\n",
    "\n",
    "    # пришлем это все сообщением и запишем выбранный вариант\n",
    "    msg = bot.send_message(message.from_user.id,\n",
    "                     text=text, reply_markup=keyboard) #бот возращает юзеру клавиатуру с кнопками\n",
    "\n",
    "    # отправим этот вариант в функцию, которая его обработает\n",
    "    bot.register_next_step_handler(msg, callback_worker)\n",
    "    "
   ]
  },
  {
   "cell_type": "code",
   "execution_count": 120,
   "metadata": {},
   "outputs": [],
   "source": [
    "bot.polling(none_stop=True)"
   ]
  },
  {
   "cell_type": "code",
   "execution_count": 117,
   "metadata": {},
   "outputs": [],
   "source": [
    "# эта добавляет строчку с планом в хранилище\n",
    "def add_plan(msg):\n",
    "    try:\n",
    "        meet_time = msg.text.split(';')[0].strip()\n",
    "        meet_location = msg.text.split(';')[1].strip()\n",
    "        meet_name = msg.text.split(';')[2].strip()\n",
    "    except:\n",
    "#         raise Exception(\"Строка имеет неверный формат\")\n",
    "        send_keyboard(msg, \"Строка имеет неверный формат. Чем еще могу помочь?\")\n",
    "        return None\n",
    "    \n",
    "    with sqlite3.connect('meeting_reminder.db') as con:\n",
    "        cursor = con.cursor()\n",
    "        cursor.execute('INSERT INTO meeting_reminder (user_id, meet_time, meet_location, meet_name, meet_text_msg) VALUES (?, ?, ?, ?, ?)',\n",
    "                       (msg.from_user.id, meet_time, meet_location, meet_name, msg.text.strip()))\n",
    "        con.commit()\n",
    "    bot.send_message(msg.chat.id, 'Запомню :-)')\n",
    "    send_keyboard(msg, \"Чем еще могу помочь?\")\n",
    "\n",
    "    \n",
    "    "
   ]
  },
  {
   "cell_type": "code",
   "execution_count": 116,
   "metadata": {},
   "outputs": [
    {
     "data": {
      "text/plain": [
       "<function __main__.ddd()>"
      ]
     },
     "execution_count": 116,
     "metadata": {},
     "output_type": "execute_result"
    }
   ],
   "source": [
    "def ddd():\n",
    "    print(1)\n",
    "    return None\n",
    "    print(2)\n",
    "ddd"
   ]
  },
  {
   "cell_type": "code",
   "execution_count": 78,
   "metadata": {},
   "outputs": [],
   "source": [
    "# просто функция, которая делает нам красивые строки для отправки пользователю\n",
    "def get_plans_string(tasks):\n",
    "    tasks_str = []\n",
    "    for val in list(enumerate(tasks)): # val=(0, (дело1))\n",
    "#         tasks_str.append(str(val[0] + 1) + ') ' + val[1][0] + val[1][1] + val[1][2]  + '\\n')\n",
    "        tasks_str.append(f'{str(val[0] + 1)}) {val[1][0]} {val[1][1]} {val[1][2]} \\n')\n",
    "    return ''.join(tasks_str)\n",
    "\n",
    "# отправляем пользователю его планы\n",
    "def show_plans(msg):\n",
    "    with sqlite3.connect('meeting_reminder.db') as con:\n",
    "        cursor = con.cursor()\n",
    "        cursor.execute('SELECT meet_time, meet_location, meet_name, meet_text_msg FROM meeting_reminder WHERE user_id=={}'.format(msg.from_user.id))\n",
    "        tasks = get_plans_string(cursor.fetchall())\n",
    "        bot.send_message(msg.chat.id, tasks)\n",
    "        send_keyboard(msg, \"Чем еще могу помочь?\")\n",
    "        \n",
    "# get_plans_string(())        "
   ]
  },
  {
   "cell_type": "code",
   "execution_count": 109,
   "metadata": {},
   "outputs": [
    {
     "data": {
      "text/plain": [
       "[(2, '9:30', 'dion skonkin', 'Daily', '9:30;dion skonkin;Daily'),\n",
       " (3, '14:00', 'dion dsel', 'OnBoarding', '14:00;dion dsel;OnBoarding'),\n",
       " (5, '5:00', 'asdf', 'asdfg', 'Напишите в чат новое дело'),\n",
       " (6, '20:30', 'dion pupu', 'tututu', '20:30;dion pupu; tututu')]"
      ]
     },
     "execution_count": 109,
     "metadata": {},
     "output_type": "execute_result"
    }
   ],
   "source": [
    "conn = sqlite3.connect('meeting_reminder.db')\n",
    "\n",
    "# курсор для работы с таблицами\n",
    "cursor = conn.cursor()\n",
    "\n",
    "# sql запрос для создания таблицы\n",
    "query = 'SELECT ID, meet_time, meet_location, meet_name, meet_text_msg FROM meeting_reminder ORDER BY ID'\n",
    "# исполняем его –> ура, теперь у нас есть таблица, куда будем все сохранять!\n",
    "cursor.execute(query)\n",
    "cursor.fetchall()\n",
    "\n"
   ]
  },
  {
   "cell_type": "code",
   "execution_count": 84,
   "metadata": {},
   "outputs": [],
   "source": [
    "# выделяет одно дело, которое пользователь хочет удалить\n",
    "def delete_one_plan(msg):\n",
    "    markup = types.ReplyKeyboardMarkup(row_width=2) #вот тут не разбивает по две штуки в ряд, потому что ццикл for это убивает. Нужно сразу по два выдавать\n",
    "    with sqlite3.connect('meeting_reminder.db') as con:\n",
    "        cursor = con.cursor()\n",
    "        # достаем все задачи пользователя\n",
    "        cursor.execute('SELECT meet_text_msg FROM meeting_reminder WHERE user_id=={}'.format(msg.from_user.id))\n",
    "        # достанем результат запроса\n",
    "        tasks = cursor.fetchall()\n",
    "        for i in range(0, len(tasks), 2):\n",
    "            try:\n",
    "                markup.add(types.KeyboardButton(tasks[i][0]), types.KeyboardButton(tasks[i+1][0]))\n",
    "            except:\n",
    "                markup.add(types.KeyboardButton(tasks[i][0]))\n",
    "#         for value in tasks:\n",
    "#             markup.add(types.KeyboardButton(value[0]))\n",
    "        msg = bot.send_message(msg.from_user.id,\n",
    "                               text = \"Выбери одну встречу из списка для удаления\",\n",
    "                               reply_markup=markup)\n",
    "        bot.register_next_step_handler(msg, modify_one_plan)\n",
    "        \n",
    "        \n",
    "# удаляет это дело\n",
    "def delete_one_plan_(msg):\n",
    "    with sqlite3.connect('meeting_reminder.db') as con:\n",
    "        cursor = con.cursor()\n",
    "        cursor.execute('DELETE FROM meeting_reminder WHERE user_id==? AND meet_text_msg==?', (msg.from_user.id, msg.text))\n",
    "        con.commit()\n",
    "        bot.send_message(msg.chat.id, 'Ура, минус одна встреча!')\n",
    "        send_keyboard(msg, \"Чем еще могу помочь?\")"
   ]
  },
  {
   "cell_type": "code",
   "execution_count": 119,
   "metadata": {},
   "outputs": [],
   "source": [
    "# выделяет одно дело, которое пользователь хочет удалить\n",
    "def modify_one_plan(msg):\n",
    "    markup = types.ReplyKeyboardMarkup(row_width=2) #вот тут не разбивает по две штуки в ряд, потому что ццикл for это убивает. Нужно сразу по два выдавать\n",
    "    with sqlite3.connect('meeting_reminder.db') as con:\n",
    "        cursor = con.cursor()\n",
    "        # достаем все задачи пользователя\n",
    "        cursor.execute('SELECT meet_text_msg FROM meeting_reminder WHERE user_id=={}'.format(msg.from_user.id))\n",
    "        # достанем результат запроса\n",
    "        tasks = cursor.fetchall()\n",
    "        for i in range(0, len(tasks), 2):\n",
    "            try:\n",
    "                markup.add(types.KeyboardButton(tasks[i][0]), types.KeyboardButton(tasks[i+1][0]))\n",
    "            except:\n",
    "                markup.add(types.KeyboardButton(tasks[i][0]))\n",
    "#         for value in tasks:\n",
    "#             markup.add(types.KeyboardButton(value[0]))\n",
    "        msg = bot.send_message(msg.from_user.id,\n",
    "                               text = \"Выбери одну встречу из списка для редактирования\",\n",
    "                               reply_markup=markup)\n",
    "        bot.register_next_step_handler(msg, modify_one_plan_on)\n",
    "\n",
    "    \n",
    "def modify_one_plan_on(msg):\n",
    "    msg_old = msg.text\n",
    "    while True:\n",
    "        try:\n",
    "            msg = bot.send_message(msg.chat.id, 'Напишите в чат новое дело')\n",
    "            msg_new = msg.text\n",
    "        \n",
    "            meet_time = msg_new.split(';')[0].strip()\n",
    "            meet_location = msg_new.split(';')[1].strip()\n",
    "            meet_name = msg_new.split(';')[2].strip()\n",
    "            break\n",
    "        except:  \n",
    "            send_keyboard(msg, \"Строка имеет неверный формат. Попробуй еще раз\")\n",
    "            return None\n",
    "        \n",
    "    bot.register_next_step_handler(msg, modify_one_plan_, msg_old, msg_new, meet_time, meet_location, meet_name)\n",
    "        \n",
    "# удаляет это дело\n",
    "def modify_one_plan_(msg, msg_old, msg_new, meet_time, meet_location, meet_name):\n",
    "    \n",
    "    with sqlite3.connect('meeting_reminder.db') as con:\n",
    "        cursor = con.cursor()\n",
    "        cursor.execute(f'UPDATE meeting_reminder SET meet_time == ?, meet_location == ?, meet_name == ?, meet_text_msg==? WHERE user_id==? AND meet_text_msg==?', \\\n",
    "                       (meet_time, meet_location, meet_name, msg_new, msg.from_user.id, msg_old))\n",
    "        con.commit()\n",
    "        bot.send_message(msg.chat.id, 'Встреча изменена')\n",
    "        send_keyboard(msg, \"Чем еще могу помочь?\")"
   ]
  },
  {
   "cell_type": "code",
   "execution_count": 88,
   "metadata": {},
   "outputs": [],
   "source": [
    "# привязываем функции к кнопкам на клавиатуре\n",
    "def callback_worker(call):\n",
    "    if call.text == \"Добавить встречу\":\n",
    "        msg = bot.send_message(call.chat.id, 'Давайте добавим дело! Напишите его в чат')\n",
    "        bot.register_next_step_handler(msg, add_plan)\n",
    "\n",
    "    elif call.text == \"Показать встречи на сегодня\":\n",
    "        try:\n",
    "            show_plans(call)\n",
    "        except:\n",
    "            bot.send_message(call.chat.id, 'Здесь пусто. Можно пойти поесть :-)')\n",
    "            send_keyboard(call, \"Чем еще могу помочь?\")\n",
    "            raise\n",
    "\n",
    "    elif call.text == \"Удалить встречу\":\n",
    "        try:\n",
    "            delete_one_plan(call)\n",
    "        except:\n",
    "            bot.send_message(call.chat.id, 'Здесь пусто. Можно отдыхать :-)')\n",
    "            send_keyboard(call, \"Чем еще могу помочь?\")\n",
    "\n",
    "    elif call.text == \"Отредактировать встречу\":\n",
    "        try:\n",
    "            modify_one_plan(call)\n",
    "        except:\n",
    "            bot.send_message(call.chat.id, 'Здесь пусто. Можно отдыхать :-)')\n",
    "            send_keyboard(call, \"Чем еще могу помочь?\")\n",
    "            \n",
    "#     elif call.text == \"Удалить все дела из списка\":\n",
    "#         try:\n",
    "#             delete_all_plans(call)\n",
    "#         except:\n",
    "#             bot.send_message(call.chat.id, 'Здесь пусто. Можно отдыхать :-)')\n",
    "#             send_keyboard(call, \"Чем еще могу помочь?\")\n",
    "\n",
    "#     elif call.text == \"Ваше настроение\":\n",
    "#         try:\n",
    "#             mood(call)\n",
    "#         except:\n",
    "#             #bot.send_message(call.chat.id, 'Что-то пошло не так')\n",
    "#             raise\n",
    "\n",
    "    elif call.text == \"Пока все!\":\n",
    "        bot.send_message(call.chat.id, 'Хорошего дня! Когда захотите продолжнить нажмите на команду /start')"
   ]
  },
  {
   "cell_type": "code",
   "execution_count": null,
   "metadata": {},
   "outputs": [],
   "source": []
  },
  {
   "cell_type": "code",
   "execution_count": null,
   "metadata": {},
   "outputs": [],
   "source": []
  },
  {
   "cell_type": "code",
   "execution_count": null,
   "metadata": {},
   "outputs": [],
   "source": []
  },
  {
   "cell_type": "code",
   "execution_count": null,
   "metadata": {},
   "outputs": [],
   "source": []
  },
  {
   "cell_type": "code",
   "execution_count": 53,
   "metadata": {},
   "outputs": [
    {
     "ename": "ModuleNotFoundError",
     "evalue": "No module named 'telegram'",
     "output_type": "error",
     "traceback": [
      "\u001b[1;31m---------------------------------------------------------------------------\u001b[0m",
      "\u001b[1;31mModuleNotFoundError\u001b[0m                       Traceback (most recent call last)",
      "Cell \u001b[1;32mIn[53], line 3\u001b[0m\n\u001b[0;32m      1\u001b[0m \u001b[38;5;28;01mimport\u001b[39;00m \u001b[38;5;21;01mlogging\u001b[39;00m\n\u001b[1;32m----> 3\u001b[0m \u001b[38;5;28;01mfrom\u001b[39;00m \u001b[38;5;21;01mtelegram\u001b[39;00m\u001b[38;5;21;01m.\u001b[39;00m\u001b[38;5;21;01mext\u001b[39;00m \u001b[38;5;28;01mimport\u001b[39;00m Updater,CallbackQueryHandler,CommandHandler, CallbackContext\n\u001b[0;32m      4\u001b[0m \u001b[38;5;28;01mfrom\u001b[39;00m \u001b[38;5;21;01mtelegram\u001b[39;00m \u001b[38;5;28;01mimport\u001b[39;00m  ReplyKeyboardRemove,ParseMode, Update\n\u001b[0;32m      6\u001b[0m \u001b[38;5;28;01mimport\u001b[39;00m \u001b[38;5;21;01mtelegramcalendar\u001b[39;00m\u001b[38;5;241m,\u001b[39m \u001b[38;5;21;01mtelegramjcalendar\u001b[39;00m\n",
      "\u001b[1;31mModuleNotFoundError\u001b[0m: No module named 'telegram'"
     ]
    }
   ],
   "source": [
    "# import logging\n",
    "\n",
    "# from telegram.ext import Updater,CallbackQueryHandler,CommandHandler, CallbackContext\n",
    "# from telegram import  ReplyKeyboardRemove,ParseMode, Update\n",
    "\n",
    "# import telegramcalendar, telegramjcalendar\n",
    "# import utils\n",
    "# import messages\n",
    "\n",
    "# # Go to botfather and create a bot and copy the token and paste it here in token\n",
    "# # token = \"\" # token of the bot\n",
    "\n",
    "\n",
    "# logging.basicConfig(format='%(asctime)s - %(name)s - %(levelname)s - %(message)s',\n",
    "#                     level=logging.INFO)\n",
    "\n",
    "# logger = logging.getLogger(__name__)\n",
    "\n",
    "# def start(update, context):\n",
    "#     context.bot.send_message(\n",
    "#         chat_id=update.message.chat_id,\n",
    "#         text=messages.start_message.format(update.message.from_user.first_name),\n",
    "#         parse_mode=ParseMode.HTML)\n",
    "\n",
    "# # A simple command to display the calender\n",
    "# def calendar_handler(update, context):\n",
    "#     update.message.reply_text(text=messages.calendar_message,\n",
    "#                     reply_markup=telegramcalendar.create_calendar())\n",
    "    \n",
    "\n",
    "# def jcalendar_handler(update: Update, context: CallbackContext) -> int:\n",
    "#     update.message.reply_text(\n",
    "#         text=messages.jcalendar_message,\n",
    "#         reply_markup=telegramjcalendar.create_calendar()\n",
    "#     )\n",
    "\n",
    "# def inline_handler(update, context):\n",
    "#     query = update.callback_query\n",
    "#     (kind, _, _, _, _) = utils.separate_callback_data(query.data)\n",
    "#     if kind == messages.CALENDAR_CALLBACK:\n",
    "#         inline_calendar_handler(update, context)\n",
    "#     elif kind == messages.JCALENDAR_CALLBACK:\n",
    "#         inline_jcalendar_handler(update, context)\n",
    "\n",
    "\n",
    "# def inline_calendar_handler(update, context):\n",
    "#     selected,date = telegramcalendar.process_calendar_selection(update, context)\n",
    "#     if selected:\n",
    "#         context.bot.send_message(chat_id=update.callback_query.from_user.id,\n",
    "#                         text=messages.calendar_response_message % (date.strftime(\"%d/%m/%Y\")),\n",
    "#                         reply_markup=ReplyKeyboardRemove())\n",
    "\n",
    "\n",
    "# def inline_jcalendar_handler(update: Update, context: CallbackContext):\n",
    "#     selected, date = telegramjcalendar.process_calendar_selection(context.bot, update)\n",
    "#     if selected:\n",
    "#         context.bot.send_message(chat_id=update.callback_query.from_user.id,\n",
    "#                 text=messages.jcalendar_response_message % date,\n",
    "#                 reply_markup=ReplyKeyboardRemove())\n",
    "        \n",
    "# updater = Updater(token,use_context=True)\n",
    "# dp=updater.dispatcher\n",
    "\n",
    "# dp.add_handler(CommandHandler(\"start\",start))\n",
    "# dp.add_handler(CommandHandler(\"calendar\",calendar_handler))\n",
    "# dp.add_handler(CommandHandler(\"jcalendar\",jcalendar_handler))\n",
    "# dp.add_handler(CallbackQueryHandler(inline_handler))"
   ]
  }
 ],
 "metadata": {
  "kernelspec": {
   "display_name": "Python 3 (ipykernel)",
   "language": "python",
   "name": "python3"
  },
  "language_info": {
   "codemirror_mode": {
    "name": "ipython",
    "version": 3
   },
   "file_extension": ".py",
   "mimetype": "text/x-python",
   "name": "python",
   "nbconvert_exporter": "python",
   "pygments_lexer": "ipython3",
   "version": "3.11.5"
  },
  "toc": {
   "base_numbering": 1,
   "nav_menu": {},
   "number_sections": true,
   "sideBar": true,
   "skip_h1_title": false,
   "title_cell": "Table of Contents",
   "title_sidebar": "Contents",
   "toc_cell": false,
   "toc_position": {},
   "toc_section_display": true,
   "toc_window_display": false
  },
  "varInspector": {
   "cols": {
    "lenName": 16,
    "lenType": 16,
    "lenVar": 40
   },
   "kernels_config": {
    "python": {
     "delete_cmd_postfix": "",
     "delete_cmd_prefix": "del ",
     "library": "var_list.py",
     "varRefreshCmd": "print(var_dic_list())"
    },
    "r": {
     "delete_cmd_postfix": ") ",
     "delete_cmd_prefix": "rm(",
     "library": "var_list.r",
     "varRefreshCmd": "cat(var_dic_list()) "
    }
   },
   "types_to_exclude": [
    "module",
    "function",
    "builtin_function_or_method",
    "instance",
    "_Feature"
   ],
   "window_display": false
  }
 },
 "nbformat": 4,
 "nbformat_minor": 4
}
