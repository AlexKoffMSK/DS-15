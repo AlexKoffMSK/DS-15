{
 "cells": [
  {
   "cell_type": "markdown",
   "id": "7984befb",
   "metadata": {},
   "source": [
    "# Задачи для самопроверки после занятий 3, 4"
   ]
  },
  {
   "cell_type": "markdown",
   "id": "1e2add38",
   "metadata": {},
   "source": [
    "# Дата\n",
    "Напишите программу, которая принимает на вход дату в формате \"DD.MM.YYYY\" и выводит эту же дату в формате \"DD месяца YYYY года\". \n",
    "\n",
    "Для подстановки текстовых названий месяцев воспользуйтесь списком months, уже заданным в коде.\n",
    "\n",
    "ФОРМАТ ВВОДА\n",
    "\n",
    "Строка, в которой содержится некоторая дата в формате \"DD.MM.YYYY\", например, \"1.04.2017\". \n",
    "ФОРМАТ ВЫВОДА \n",
    "\n",
    "Введенная дата в формате \"DD месяца YYYY\" года например, “1 апреля 2017 года”\n",
    "\n",
    "КЛИКНИТЕ, ЧТОБЫ ПОКАЗАТЬ/СКРЫТЬ ПОДСКАЗКУ\n",
    "Если у вас не получилось решить задачу самостоятельно, можете воспользоваться нашим алгоритмом с подсказкой.\n",
    "\n",
    "Помните, предложенный алгоритм и элементы не всегда единственный способ решить задачу — необязательно использовать этот вариант, если вы придумали другой.\n",
    "\n",
    "ЧТО ИСПОЛЬЗУЕМ:\n",
    "int(), input(), split(), print(), действия со списками\n",
    "ЧТО ДЕЛАЕМ:\n",
    "Считать строку с датой в новую переменную-список, сразу разделив на части с помощью split(\".\") (так как там разделитель точка).\n",
    "Записать второй элемент списка (то есть элемент с индексом 1) в новую переменную, предварительно превратив его в число с помощью int(). Так мы получили номер месяца.\n",
    "Отбираем в новую переменную название месяца: для этого надо взять из списка months элемент с индексом номер месяца минус один.\n",
    "Собрать и вывести итоговую дату: первый элемент списка из п. 1, потом название месяца, потом последний элемент списка из п. 3\n",
    "Для примера:\n",
    "\n",
    "Ввод\tРезультат\n",
    "1.04.2017\n",
    "1 апреля 2017 года\n",
    "\n"
   ]
  },
  {
   "cell_type": "code",
   "execution_count": 14,
   "id": "fc802e3c",
   "metadata": {},
   "outputs": [
    {
     "name": "stdout",
     "output_type": "stream",
     "text": [
      "1.04.2023\n",
      "1 апреля 2023 года\n"
     ]
    }
   ],
   "source": [
    "months =    [\"января\" ,\"февраля\", \n",
    "            \"марта\", \"апреля\" ,\"мая\" ,\n",
    "            \"июня\" , \"июля\", \"августа\", \n",
    "            \"сентября\", \"октября\", \"ноября\", \n",
    "            \"декабря\"] \n",
    "\n",
    "\n",
    "date_input = input()\n",
    "lst = date_input.split('.')\n",
    "date_out = f'{lst[0]} {months[int(lst[1])-1]} {lst[2]} года'\n",
    "print(date_out)"
   ]
  },
  {
   "cell_type": "markdown",
   "id": "29bb7162",
   "metadata": {},
   "source": [
    "# Диктант\n",
    "Учитель составляет диктант, который должен проверять, как хорошо ученики усвоили новое правило правописания. Напишите программу, которая будет проверять, сколько слов на заданное правило в диктанте. \n",
    "\n",
    "ФОРМАТ ВВОДА \n",
    "\n",
    "На первой строке — буквосочетания, которые должны встречаться в словах диктанта, разделённые пробелом. \n",
    "На второй — текст диктанта: все предложения набраны строчными буквами, без заглавных. \n",
    "Гарантируется, что каждое слово не содержит двух или более различных проверяемых буквосочетаний. \n",
    "ФОРМАТ ВЫВОДА \n",
    "\n",
    "Одно число — сколько слов в тексте диктанта содержат нужные буквосочетания."
   ]
  },
  {
   "cell_type": "code",
   "execution_count": 3,
   "id": "819eb018",
   "metadata": {},
   "outputs": [
    {
     "name": "stdout",
     "output_type": "stream",
     "text": [
      "жи ши\n",
      "наступила зима. падают крупные снежишинки. кружит ветер. бежит по земле поземка. все покрыл пушистый снег.\n",
      "4\n"
     ]
    }
   ],
   "source": [
    "rules = input().split(' ')\n",
    "dictant = input()\n",
    "\n",
    "count = 0\n",
    "\n",
    "# for rule in rules:\n",
    "#     for word in dictant.split(' '):\n",
    "#         if rule in word:\n",
    "#             count += 1\n",
    "\n",
    "for word in dictant.split(' '):\n",
    "    flg = 0\n",
    "    for rule in rules:\n",
    "        if rule in word:\n",
    "            flg = 1\n",
    "    count += flg\n",
    "            \n",
    "print(count)"
   ]
  },
  {
   "cell_type": "code",
   "execution_count": 16,
   "id": "30a23fea",
   "metadata": {},
   "outputs": [
    {
     "name": "stdout",
     "output_type": "stream",
     "text": [
      "наступила зима. падают крупные снежинки. кружит ветер. бежит по земле поземка. все покрыл пушистый снег.\n"
     ]
    }
   ],
   "source": [
    "dictant = input()"
   ]
  },
  {
   "cell_type": "code",
   "execution_count": 26,
   "id": "ea3cc68f",
   "metadata": {},
   "outputs": [
    {
     "name": "stdout",
     "output_type": "stream",
     "text": [
      "ли 11\n"
     ]
    },
    {
     "data": {
      "text/plain": [
       "11"
      ]
     },
     "execution_count": 26,
     "metadata": {},
     "output_type": "execute_result"
    }
   ],
   "source": [
    "count = 0\n",
    "for rule in rules:\n",
    "    count_rule = dictant.count(rule)\n",
    "    print (rule, count_rule)\n",
    "    count += count_rule\n",
    "count"
   ]
  },
  {
   "cell_type": "code",
   "execution_count": 25,
   "id": "7e3b820b",
   "metadata": {
    "collapsed": true
   },
   "outputs": [
    {
     "name": "stdout",
     "output_type": "stream",
     "text": [
      "ли на False\n",
      "ли мели True\n",
      "ли мы False\n",
      "ли лениво False\n",
      "ли налима True\n",
      "ли ловили, True\n",
      "ли и False\n",
      "ли меняли True\n",
      "ли налима True\n",
      "ли вы False\n",
      "ли мне False\n",
      "ли на False\n",
      "ли линя, True\n",
      "ли о False\n",
      "ли любви False\n",
      "ли не False\n",
      "ли меня False\n",
      "ли ли True\n",
      "ли вы False\n",
      "ли мило False\n",
      "ли молили True\n",
      "ли и False\n",
      "ли в False\n",
      "ли туманы False\n",
      "ли лимана True\n",
      "ли манили True\n",
      "ли меня False\n"
     ]
    },
    {
     "data": {
      "text/plain": [
       "10"
      ]
     },
     "execution_count": 25,
     "metadata": {},
     "output_type": "execute_result"
    }
   ],
   "source": [
    "count = 0\n",
    "for rule in rules:\n",
    "    for word in dictant.split(' '):\n",
    "        print(rule, word, rule in word)\n",
    "        if rule in word:\n",
    "            count += 1\n",
    "count"
   ]
  },
  {
   "cell_type": "markdown",
   "id": "553d831d",
   "metadata": {},
   "source": [
    "Добрый день!\n",
    "Это Лена Дорошенко, обучаюсь на курсе \"Специалист по Data Science\" (DS-15 Python)\n",
    "\n",
    "У меня вопрос по домашнему заданию: Задачи для самопроверки после занятий 3, 4\n",
    "Задача: Диктант\n",
    "Реализовала код так: \n",
    "rules = input().split(' ')\n",
    "dictant = input().split(' ')\n",
    "\n",
    "count = 0\n",
    "\n",
    "for rule in rules:\n",
    "    for word in dictant:\n",
    "        if rule in word:\n",
    "            count += 1\n",
    "print(count)\n",
    "\n",
    "Но не прохожу проверку: \n",
    "ли\n",
    "на мели мы лениво налима ловили, и меняли налима вы мне на линя, о любви не меня ли вы мило молили и в туманы лимана манили меня\n",
    "\n",
    "\n",
    "Я получаю в результате 10, а ожидается 11.\n",
    "Подскажите, пожалуйста, почему здесь ожидаемый ответ 11, я насчитала 10 слов всего.\n"
   ]
  },
  {
   "cell_type": "markdown",
   "id": "1445bc34",
   "metadata": {},
   "source": [
    "# Домашние дела - 2\n",
    "Женя и Саша распределяют между собой домашние дела из общего списка, при этом чередуя между собой задачи: Женя берет первую, третью и так далее, а Саша — вторую, четвертую и так далее. Напишите программу, которая принимает на вход общий список дел и выводит списки дел для Саши и Жени. \n",
    "\n",
    "ФОРМАТ ВВОДА\n",
    "\n",
    "Общий непустой список дел, перечисленных через запятую и пробел.\n",
    "ФОРМАТ ВЫВОДА \n",
    "\n",
    "Два списка через запятую и пробел: сначала список дел Саши, затем список дел Жени.\n",
    "Каждый список выводится с новой строки.\n",
    "\n",
    "КЛИКНИТЕ, ЧТОБЫ ПОКАЗАТЬ/СКРЫТЬ ПОДСКАЗКУ\n",
    "Если у вас не получилось решить задачу самостоятельно, можете воспользоваться нашим алгоритмом с подсказкой.\n",
    "\n",
    "Помните, предложенный алгоритм и элементы не всегда единственный способ решить задачу — необязательно использовать этот вариант, если вы придумали другой.\n",
    "\n",
    "ЧТО ИСПОЛЬЗУЕМ:\n",
    "input(), split(), range(), len(), print()\n",
    "ЧТО ДЕЛАЕМ:\n",
    "Считать в новую переменную общий список дел (tasks). Сразу превращаем эту строку в список с помощью .split(). Обратите внимание, что разделитель здесь — запятая и пробел. \n",
    "Создать два пустых списка для списков дел Жени и Саши. Пустой список можно задать пустыми квадратными скобками ([]). \n",
    "Реализуем цикл for i in range() от 1 до len(tasks) с интервалом 2 (т.е. все четные по счету дела) и добавляем все дела под индексом i в список дел Саши. \n",
    "Реализуем цикл for i in range() от 0 до len(tasks) с интервалом 2 (т.е. все нечетные по счету дела) и добавляем все дела под индексом i в список дел Жени. \n",
    "Напечатать список Саши. Обратите внимание, что у вас должен выйти список дел в соответствующем оформлении. Это можно сделать как print(*Список Саши, sep=', ') \n",
    "Напечатать список Жени аналогично списку Саши."
   ]
  },
  {
   "cell_type": "code",
   "execution_count": 28,
   "id": "576c3d3f",
   "metadata": {},
   "outputs": [
    {
     "name": "stdout",
     "output_type": "stream",
     "text": [
      "разморозить холодильник, вернуть книги в библиотеку, сварить сосиски, помыть пол, выгулять собаку, купить билеты\n"
     ]
    },
    {
     "data": {
      "text/plain": [
       "['разморозить холодильник',\n",
       " 'вернуть книги в библиотеку',\n",
       " 'сварить сосиски',\n",
       " 'помыть пол',\n",
       " 'выгулять собаку',\n",
       " 'купить билеты']"
      ]
     },
     "execution_count": 28,
     "metadata": {},
     "output_type": "execute_result"
    }
   ],
   "source": [
    "main_lst = input().split(', ')\n",
    "main_lst"
   ]
  },
  {
   "cell_type": "code",
   "execution_count": 43,
   "id": "cbdf6236",
   "metadata": {},
   "outputs": [
    {
     "name": "stdout",
     "output_type": "stream",
     "text": [
      "разморозить холодильник, сварить сосиски, выгулять собаку\n",
      "вернуть книги в библиотеку, помыть пол, купить билеты\n"
     ]
    }
   ],
   "source": [
    "print(', '.join([main_lst[i] for i in range(len(main_lst)) if i % 2 == 1 ])) # четные (Список дел Саши)\n",
    "print(', '.join([main_lst[i] for i in range(len(main_lst)) if i % 2 == 0 ])) # нечетные (Список дел Жени)\n"
   ]
  },
  {
   "cell_type": "code",
   "execution_count": 11,
   "id": "0f1ba4b9",
   "metadata": {},
   "outputs": [
    {
     "data": {
      "text/plain": [
       "[0, 5]"
      ]
     },
     "execution_count": 11,
     "metadata": {},
     "output_type": "execute_result"
    }
   ],
   "source": [
    "[i for i in range(0,10,5)]"
   ]
  },
  {
   "cell_type": "markdown",
   "id": "dc7c34b3",
   "metadata": {},
   "source": [
    "# Библиотека\n",
    "У Жени есть список учебников, которые нужно взять в библиотеке, и соответствующие им идентификационные номера ISBN (книга и соответствующий ей номер находятся в двух списках на одной и той же позиции). Чтобы найти книгу в библиотеке, нужно назвать ее ISBN. Часть книг у Жени уже есть, и их брать в библиотеке не нужно. \n",
    "\n",
    "Напишите программу, которая принимает на вход список названий книг, затем список номеров ISBN, затем названия книг, которые уже есть у Жени, и выводит ISBN тех книг, которых еще нет. \n",
    "\n",
    "ФОРМАТ ВВОДА \n",
    "\n",
    "Точные названия книг из списка учебников, с соблюдением регистра, разделенные запятой и пробелом. \n",
    "ISBN книг из списка учебников, с соблюдением регистра, разделенные запятой и пробелом. \n",
    "Точные названия книг, которые есть у Жени, с соблюдением регистра, разделенные запятой и пробелом. У Жени может и не быть учебника вовсе. Если у Жени нет никаких книг — вводится пустая строка. \n",
    "ФОРМАТ ВЫВОДА \n",
    "\n",
    "ISBN тех книг, которых у Жени нет, каждый номер на новой строке\n",
    "КЛИКНИТЕ, ЧТОБЫ ПОКАЗАТЬ/СКРЫТЬ ПОДСКАЗКУ\n",
    "Если у вас не получилось решить задачу самостоятельно, можете воспользоваться нашим алгоритмом с подсказкой.\n",
    "\n",
    "Помните, предложенный алгоритм и элементы не всегда единственный способ решить задачу — необязательно использовать этот вариант, если вы придумали другой.\n",
    "\n",
    "ЧТО ИСПОЛЬЗУЕМ:\n",
    "input(), split(), range(), len(), цикл for, проверка условий с if, print()\n",
    "ЧТО ДЕЛАЕМ:\n",
    "Считать три строки: список учебников, их ISBN номера и список книг, которые у Жени уже есть. Превратим каждую строку в список с помощью split() и сохраним в переменную. Обратите внимание, разделитель — точка с запятой. В конце шага у вас должно получиться три переменных со списками.\n",
    "Реализовать цикл for i in range() — ограничиваем интервал длиной списка учебников. Для каждого индекса i делаем следующее:\n",
    "если название книги, хранящейся под этим индексом в списке 1, НЕ входит в список 3, то напечатать ISBN номер этой книги, хранящийся под тем же индексом в списке 2."
   ]
  },
  {
   "cell_type": "code",
   "execution_count": 44,
   "id": "254bd7bd",
   "metadata": {},
   "outputs": [
    {
     "name": "stdout",
     "output_type": "stream",
     "text": [
      "Литературное чтение: Хрестоматия, Математика, Курс общей физики, Немецкий язык, Изобразительное искусство, Основы безопасности жизнедеятельности\n",
      "979-5-494-01620-1, 978-5-358-16896-1, 978-5-8114-1208-2, 978-5-09-037247-3, 978-5-358-16082-8, 978-5-09-037719-5\n",
      "Курс общей физики, Немецкий язык\n",
      "['Литературное чтение: Хрестоматия', 'Математика', 'Курс общей физики', 'Немецкий язык', 'Изобразительное искусство', 'Основы безопасности жизнедеятельности']\n",
      "['979-5-494-01620-1', '978-5-358-16896-1', '978-5-8114-1208-2', '978-5-09-037247-3', '978-5-358-16082-8', '978-5-09-037719-5']\n",
      "['Курс общей физики', 'Немецкий язык']\n"
     ]
    }
   ],
   "source": [
    "book_name = input().split(', ')\n",
    "book_ISBN = input().split(', ')\n",
    "book_not_need = input().split(', ')\n",
    "print(book_name)\n",
    "print(book_ISBN)\n",
    "print(book_not_need)"
   ]
  },
  {
   "cell_type": "code",
   "execution_count": null,
   "id": "49c2d416",
   "metadata": {},
   "outputs": [],
   "source": [
    "[book_ISBN[i] for i in book_name ]"
   ]
  },
  {
   "cell_type": "code",
   "execution_count": 51,
   "id": "1e277f93",
   "metadata": {},
   "outputs": [
    {
     "name": "stdout",
     "output_type": "stream",
     "text": [
      "0 Литературное чтение: Хрестоматия 979-5-494-01620-1\n",
      "1 Математика 978-5-358-16896-1\n",
      "2 Курс общей физики 978-5-8114-1208-2\n",
      "3 Немецкий язык 978-5-09-037247-3\n",
      "4 Изобразительное искусство 978-5-358-16082-8\n",
      "5 Основы безопасности жизнедеятельности 978-5-09-037719-5\n",
      "979-5-494-01620-1\n",
      "978-5-358-16896-1\n",
      "978-5-358-16082-8\n",
      "978-5-09-037719-5\n"
     ]
    }
   ],
   "source": [
    "book_need = []\n",
    "for i in range(len(book_name)):\n",
    "    print(i, book_name[i], book_ISBN[i])\n",
    "    if book_name[i] not in book_not_need:\n",
    "        book_need += [book_ISBN[i]]\n",
    "print('\\n'.join(book_need))"
   ]
  },
  {
   "cell_type": "code",
   "execution_count": 56,
   "id": "f5909747",
   "metadata": {},
   "outputs": [
    {
     "name": "stdout",
     "output_type": "stream",
     "text": [
      "979-5-494-01620-1\n",
      "978-5-358-16896-1\n",
      "978-5-358-16082-8\n",
      "978-5-09-037719-5\n"
     ]
    }
   ],
   "source": [
    "#Вариант решения 2\n",
    "print('\\n'.join([book_ISBN[i] for i in range(len(book_name)) if book_name[i] not in book_not_need]))"
   ]
  },
  {
   "cell_type": "markdown",
   "id": "f6540e8e",
   "metadata": {},
   "source": [
    "# Электронные адреса\n",
    "Таисия обновляет в своем списке электронные адреса одногруппников, перед тем как сделать рассылку. Одногруппники в сообщениях пишут ей свой неиспользуемый электронный адрес и через пробел тот, на который надо его заменить. Таисия находит адрес в своем списке и заменяет его на новый. \n",
    "\n",
    "ФОРМАТ ВВОДА\n",
    "\n",
    "Почтовые адреса одногруппников, записанные у Таисии, через запятую \n",
    "Количество одногруппников, чей адрес надо заменить — целое неотрицательное число. Если таких одногруппников нет (введен 0), то следующий шаг не выполняется.\n",
    "Для каждого одногруппника считывается пара \"<старый адрес> <новый адрес>\", записанные через пробел. \n",
    "ФОРМАТ ВЫВОДА\n",
    "\n",
    "В ответе нужно вывести итоговый список адресов, адреса записаны через точку с запятой\n",
    "КЛИКНИТЕ, ЧТОБЫ ПОКАЗАТЬ/СКРЫТЬ ПОДСКАЗКУ\n",
    "Если у вас не получилось решить задачу самостоятельно, можете воспользоваться нашим алгоритмом с подсказкой.\n",
    "\n",
    "Помните, предложенный алгоритм и элементы не всегда единственный способ решить задачу — необязательно использовать этот вариант, если вы придумали другой.\n",
    "\n",
    "ЧТО ИСПОЛЬЗУЕМ:\n",
    "input(), split(),int(), print(), цикл for, print()\n",
    "ЧТО ДЕЛАЕМ:\n",
    "Считать строку с почтовыми адресами в новую переменную. Сразу же превратить ее в список с помощью split() с аргументом запятая.\n",
    "Считать строку с целым числом в новую переменную, превратить ее в тип данных целое число.\n",
    "Реализовать цикл for i in range(). Ограничиваем интервал числом из п. 2. Внутри цикла считываем строку со старым и новым адресом — сразу превращаем ее в список и сохраняем адреса в разные переменные (первый и второй элемент списка).\n",
    "Теперь (все еще внутри цикла) начинаем вложенный цикл for i in range(), для интервала от 0 до длины списка записанных адресов. Для каждого почтового адреса в списке проверяем — не является ли он тем считанным адресом, который нужно заменить. Если да, то перезаписываем элемент под найденным индексом (старый адрес) новым адресом.\n",
    "Через break выходим из вложенного цикла. Python запросит на ввод новую пару адресов или закончит главный цикл.\n",
    "После окончания работы цикла печатаем итоговый список — или с помощью параметра sep=';'."
   ]
  },
  {
   "cell_type": "code",
   "execution_count": 6,
   "id": "b284661d",
   "metadata": {},
   "outputs": [
    {
     "name": "stdout",
     "output_type": "stream",
     "text": [
      "oleg_romashka@m.edu,zaika888@m.edu,12124243@m.edu,ooivanova@m.com,python_master@m.ru,taisia@m.edu\n",
      "2\n"
     ]
    }
   ],
   "source": [
    "email_all = input().split(',')\n",
    "email_count_err = int(input())\n"
   ]
  },
  {
   "cell_type": "code",
   "execution_count": 5,
   "id": "d0d336d6",
   "metadata": {},
   "outputs": [
    {
     "name": "stdout",
     "output_type": "stream",
     "text": [
      "['romashka@m.edu', 'zaika888@m.edu', '12124243@m.edu', 'ooivanova@m.com', 'python_master@m.ru', 'taisia@m.edu']\n",
      "2\n"
     ]
    }
   ],
   "source": [
    "print(email_all)\n",
    "print(email_count_err)"
   ]
  },
  {
   "cell_type": "code",
   "execution_count": 7,
   "id": "406cf457",
   "metadata": {},
   "outputs": [
    {
     "name": "stdout",
     "output_type": "stream",
     "text": [
      "oleg_romashka@m.edu romashka@m.edu\n",
      "oleg_romashka@m.edu\n",
      "12124243@m.edu 121@m.edu\n",
      "12124243@m.edu\n",
      "romashka@m.edu;zaika888@m.edu;121@m.edu;ooivanova@m.com;python_master@m.ru;taisia@m.edu\n"
     ]
    }
   ],
   "source": [
    "email_all = input().split(',')\n",
    "email_count_err = int(input())\n",
    "\n",
    "i = email_count_err\n",
    "while i > 0:\n",
    "    error_para = input().split(' ')\n",
    "    print(error_para[0])\n",
    "    error_index = email_all.index(error_para[0])\n",
    "    email_all[error_index] = error_para[1]\n",
    "    i -= 1\n",
    "print(';'.join(email_all))"
   ]
  },
  {
   "cell_type": "code",
   "execution_count": 79,
   "id": "12551f5d",
   "metadata": {},
   "outputs": [
    {
     "name": "stdout",
     "output_type": "stream",
     "text": [
      "['romashka@m.edu', 'zaika888@m.edu', '121@m.edu', 'ooivanova@m.com', 'python_master@m.ru', 'taisia@m.edu']\n",
      "oleg_romashka@m.edu\n",
      "romashka@m.edu\n"
     ]
    },
    {
     "ename": "ValueError",
     "evalue": "'oleg_romashka@m.edu' is not in list",
     "output_type": "error",
     "traceback": [
      "\u001b[1;31m---------------------------------------------------------------------------\u001b[0m",
      "\u001b[1;31mValueError\u001b[0m                                Traceback (most recent call last)",
      "Cell \u001b[1;32mIn[79], line 4\u001b[0m\n\u001b[0;32m      2\u001b[0m \u001b[38;5;28mprint\u001b[39m(error_para[\u001b[38;5;241m0\u001b[39m])\n\u001b[0;32m      3\u001b[0m \u001b[38;5;28mprint\u001b[39m(error_para[\u001b[38;5;241m1\u001b[39m])\n\u001b[1;32m----> 4\u001b[0m email_all\u001b[38;5;241m.\u001b[39mindex(error_para[\u001b[38;5;241m0\u001b[39m])\n",
      "\u001b[1;31mValueError\u001b[0m: 'oleg_romashka@m.edu' is not in list"
     ]
    }
   ],
   "source": [
    "print(email_all)\n",
    "print(error_para[0])\n",
    "print(error_para[1])\n",
    "email_all.index(error_para[0])"
   ]
  },
  {
   "cell_type": "code",
   "execution_count": 68,
   "id": "02c9f803",
   "metadata": {},
   "outputs": [
    {
     "data": {
      "text/plain": [
       "['romashka@m.edu',\n",
       " 'zaika888@m.edu',\n",
       " '121@m.edu',\n",
       " 'ooivanova@m.com',\n",
       " 'python_master@m.ru',\n",
       " 'taisia@m.edu']"
      ]
     },
     "execution_count": 68,
     "metadata": {},
     "output_type": "execute_result"
    }
   ],
   "source": [
    "email_all"
   ]
  },
  {
   "cell_type": "code",
   "execution_count": 69,
   "id": "10d22c50",
   "metadata": {},
   "outputs": [
    {
     "data": {
      "text/plain": [
       "'oleg_romashka@m.edu'"
      ]
     },
     "execution_count": 69,
     "metadata": {},
     "output_type": "execute_result"
    }
   ],
   "source": [
    "error_para[0]"
   ]
  },
  {
   "cell_type": "code",
   "execution_count": 72,
   "id": "40f816d9",
   "metadata": {},
   "outputs": [
    {
     "ename": "NameError",
     "evalue": "name 'error_indexx' is not defined",
     "output_type": "error",
     "traceback": [
      "\u001b[1;31m---------------------------------------------------------------------------\u001b[0m",
      "\u001b[1;31mNameError\u001b[0m                                 Traceback (most recent call last)",
      "Cell \u001b[1;32mIn[72], line 1\u001b[0m\n\u001b[1;32m----> 1\u001b[0m error_indexx\n",
      "\u001b[1;31mNameError\u001b[0m: name 'error_indexx' is not defined"
     ]
    }
   ],
   "source": [
    "error_indexx"
   ]
  },
  {
   "cell_type": "code",
   "execution_count": 77,
   "id": "d22a9fb0",
   "metadata": {},
   "outputs": [
    {
     "data": {
      "text/plain": [
       "1"
      ]
     },
     "execution_count": 77,
     "metadata": {},
     "output_type": "execute_result"
    }
   ],
   "source": [
    "lst = ['q','w','e']\n",
    "lst.index('w')"
   ]
  },
  {
   "cell_type": "code",
   "execution_count": 78,
   "id": "4668e7ed",
   "metadata": {},
   "outputs": [
    {
     "name": "stdout",
     "output_type": "stream",
     "text": [
      "['q', 'w', 'e']\n"
     ]
    }
   ],
   "source": [
    "print(lst)"
   ]
  },
  {
   "cell_type": "markdown",
   "id": "24000dc5",
   "metadata": {},
   "source": [
    "# Задачи для самопроверки list comrehension, set comprehension, dict somprehensionТест"
   ]
  },
  {
   "attachments": {
    "image.png": {
     "image/png": "[encoded data removed]"
    }
   },
   "cell_type": "markdown",
   "id": "565dddf6",
   "metadata": {},
   "source": [
    "# Задача 1\n",
    "Используя list comprehension напишите программу, которая принимает на вход строку из чисел через пробел, разбивает строку на список, преобразовывает каждое число в int.  Затем программа печатает новый список, содержащий квадраты каждого числа из исходного списка.\n",
    "\n",
    "Для примера:\n",
    "\n",
    "Ввод\tРезультат\n",
    "1 2 3 4 5\n",
    "[1, 4, 9, 16, 25]\n",
    "36 13 28 12 22 26 37 1 14 16 12 15 23 2 34 11 22 21 27 15\n",
    "[1296, 169, 784, 144, 484, 676, 1369, 1, 196, 256, 144, 225, 529, 4, 1156, 121, 484, 441, 729, 225]\n",
    "![image.png](attachment:image.png)\n"
   ]
  },
  {
   "cell_type": "code",
   "execution_count": 9,
   "id": "cc9c1d87",
   "metadata": {},
   "outputs": [
    {
     "name": "stdout",
     "output_type": "stream",
     "text": [
      "36 13 28 12 22 26 37 1 14 16 12 15 23 2 34 11 22 21 27 15\n",
      "[1296, 169, 784, 144, 484, 676, 1369, 1, 196, 256, 144, 225, 529, 4, 1156, 121, 484, 441, 729, 225]\n"
     ]
    }
   ],
   "source": [
    "input_list = input().split()\n",
    "print([int(i)**2 for i in input_list])"
   ]
  },
  {
   "cell_type": "code",
   "execution_count": null,
   "id": "d4a4cfd6",
   "metadata": {},
   "outputs": [],
   "source": [
    "# Их решение:\n",
    "lst = list(map(int, input().split()))\n",
    "lst2 = [i**2 for i in lst]\n",
    "print(lst2)"
   ]
  },
  {
   "attachments": {
    "image.png": {
     "image/png": "[encoded data removed]"
    }
   },
   "cell_type": "markdown",
   "id": "f24ba1ad",
   "metadata": {},
   "source": [
    "# Задача 2\n",
    "Используя list comprehension создайте список, в котором будут только четные числа от 2 (включительно) до введенного пользователем числа (этот код уже написан). Выведите полученный список с помощью функции print().\n",
    "\n",
    "Гарантируется, что пользователь введет число >= 2.\n",
    "![image.png](attachment:image.png)"
   ]
  },
  {
   "cell_type": "code",
   "execution_count": 13,
   "id": "133d0d3c",
   "metadata": {},
   "outputs": [
    {
     "name": "stdout",
     "output_type": "stream",
     "text": [
      "14\n",
      "[2, 4, 6, 8, 10, 12, 14]\n"
     ]
    }
   ],
   "source": [
    "N = int(input())\n",
    "\n",
    "print([i for i in range(2,N+1,2)])"
   ]
  },
  {
   "cell_type": "code",
   "execution_count": null,
   "id": "c73f24c6",
   "metadata": {},
   "outputs": [],
   "source": [
    "# Их решение:\n",
    "N = int(input())\n",
    "\n",
    "print([i for i in range(2, N + 1) if i % 2 == 0])"
   ]
  },
  {
   "attachments": {
    "image-2.png": {
     "image/png": "[encoded data removed]"
    },
    "image.png": {
     "image/png": "[encoded data removed]"
    }
   },
   "cell_type": "markdown",
   "id": "5abdf945",
   "metadata": {},
   "source": [
    "# Задача 3\n",
    "На вход вашей программе подается предложение, в котором могут встречаться повторяющиеся слова.\n",
    "\n",
    "Ваша задача - с использованием set comprehension создать множество, содержащее только уникальные слова, которые строго короче 5 символов. Затем выведите получившиеся слова в отсортированном порядке по алфавиту, разделенные запятой и пробелом.\n",
    "\n",
    "Обратите внимание, что все слова могут быть написаны в разном регистре, а также в предложении могут встречаться знаки препинания, такие как запятые, точки, восклицательные и вопросительные знаки.\n",
    "\n",
    "![image.png](attachment:image.png)\n",
    "![image-2.png](attachment:image-2.png)\n",
    "\n",
    "sentence = input()\n",
    "\n",
    "-- ваш код"
   ]
  },
  {
   "cell_type": "code",
   "execution_count": 14,
   "id": "3a6b343e",
   "metadata": {},
   "outputs": [
    {
     "name": "stdout",
     "output_type": "stream",
     "text": [
      "Каждый день я замечаю, что рядом с моим домом живет кот. Это твой кот? Он гуляет здесь каждый день!\n"
     ]
    }
   ],
   "source": [
    "sentence = input()"
   ]
  },
  {
   "cell_type": "code",
   "execution_count": 26,
   "id": "df9e4335",
   "metadata": {},
   "outputs": [
    {
     "name": "stdout",
     "output_type": "stream",
     "text": [
      "день, кот, моим, он, с, твой, что, это, я\n"
     ]
    }
   ],
   "source": [
    "sentence_clear = {i.strip(',.!?').lower() for i in sentence.split(' ')}\n",
    "print(', '.join(sorted([i for i in sentence_clear if len(i) < 5])))"
   ]
  },
  {
   "cell_type": "code",
   "execution_count": null,
   "id": "368db946",
   "metadata": {},
   "outputs": [],
   "source": [
    "# Их решение:\n",
    "sentence = input().lower().split()\n",
    "\n",
    "print(*sorted({i.strip('?!,.') for i in sentence if len(i) < 5}), sep = \", \")"
   ]
  },
  {
   "attachments": {
    "image.png": {
     "image/png": "[encoded data removed]"
    }
   },
   "cell_type": "markdown",
   "id": "a498227c",
   "metadata": {},
   "source": [
    "# Задача 4\n",
    "Напишите программу, которая принимает слово в качестве входных данных и создает словарь, где ключами являются буквы в слове, а значениями - количество раз, которое каждая буква встречается в слове.\n",
    "\n",
    "Используйте dictionary comprehension, чтобы выполнить это задание. Учтите, что регистр букв (верхний или нижний) не должен влиять на подсчет букв.\n",
    "![image.png](attachment:image.png)\n",
    "\n",
    "word = input().replace(' ', '')\n"
   ]
  },
  {
   "cell_type": "code",
   "execution_count": 43,
   "id": "f6505bc3",
   "metadata": {},
   "outputs": [
    {
     "name": "stdout",
     "output_type": "stream",
     "text": [
      "And All That Jazz\n",
      "andallthatjazz\n",
      "{'a': 4, 'n': 1, 'd': 1, 'l': 2, 't': 2, 'h': 1, 'j': 1, 'z': 2}\n"
     ]
    }
   ],
   "source": [
    "word = input().replace(' ', '').lower()\n",
    "print(word)\n",
    "print({s: sum(1 for s2 in word if s2 == s) for s in word})"
   ]
  },
  {
   "cell_type": "code",
   "execution_count": 47,
   "id": "32eb2dfd",
   "metadata": {},
   "outputs": [
    {
     "name": "stdout",
     "output_type": "stream",
     "text": [
      "{'a': 4, 'n': 1, 'd': 1, 'l': 2, 't': 2, 'h': 1, 'j': 1, 'z': 2}\n"
     ]
    }
   ],
   "source": [
    "# Решение2\n",
    "print({s: word.count(s) for s in word})"
   ]
  },
  {
   "cell_type": "code",
   "execution_count": 45,
   "id": "4cabdbe1",
   "metadata": {},
   "outputs": [
    {
     "name": "stdout",
     "output_type": "stream",
     "text": [
      "And All That Jazz\n",
      "{'a': 4, 'n': 1, 'd': 1, 'l': 2, 't': 2, 'h': 1, 'j': 1, 'z': 2}\n"
     ]
    }
   ],
   "source": [
    "# Их решение:\n",
    "word = input().replace(' ', '').lower()\n",
    "\n",
    "print({letter: word.count(letter) for letter in word})"
   ]
  },
  {
   "cell_type": "code",
   "execution_count": null,
   "id": "515e5831",
   "metadata": {},
   "outputs": [],
   "source": []
  },
  {
   "cell_type": "code",
   "execution_count": null,
   "id": "be6db6c9",
   "metadata": {},
   "outputs": [],
   "source": []
  }
 ],
 "metadata": {
  "kernelspec": {
   "display_name": "Python 3 (ipykernel)",
   "language": "python",
   "name": "python3"
  },
  "language_info": {
   "codemirror_mode": {
    "name": "ipython",
    "version": 3
   },
   "file_extension": ".py",
   "mimetype": "text/x-python",
   "name": "python",
   "nbconvert_exporter": "python",
   "pygments_lexer": "ipython3",
   "version": "3.11.5"
  }
 },
 "nbformat": 4,
 "nbformat_minor": 5
}
