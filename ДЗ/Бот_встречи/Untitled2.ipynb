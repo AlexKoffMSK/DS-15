{
 "cells": [
  {
   "cell_type": "markdown",
   "id": "9d732435",
   "metadata": {},
   "source": [
    "## Второй бот для отправки уведомлений о встречах"
   ]
  },
  {
   "cell_type": "code",
   "execution_count": 6,
   "id": "cafd92b5",
   "metadata": {},
   "outputs": [],
   "source": [
    "import sqlite3\n",
    "import telebot\n",
    "from telebot import types\n",
    "import json\n",
    "import random\n",
    "from datetime import datetime\n",
    "from time import sleep\n",
    "\n",
    "\n",
    "bot = telebot.TeleBot(\"6637092297:AAE7hUz7mBorW-gP9r_qL_x-3UdEWlPRBpU\") # нужен токен вашего бота meetingreminderzi16_notify_bot\n",
    "\n",
    "# шедулер для отправки сообщений в чат\n",
    "@bot.message_handler(func = lambda message: 1==1)\n",
    "def send_remind_message(message):\n",
    "    # Собираю все встречи на сегодня в ношу их в расписание (думаю с 8:00 до 19:00 нужно делать это каждые 10 минут, в остальное время только в 07:00)\n",
    "    while True:\n",
    "        if datetime.now().hour == 7:\n",
    "            \n",
    "    \n",
    "    # \n",
    "    \n",
    "    \n",
    "    time_meet = datetime.strptime('1900-01-01 14:28', '%Y-%m-%d %H:%M').replace(year=1900, month=1, day=1, microsecond=0)\n",
    "    print(f'time_meet = {time_meet}')\n",
    "    while True:\n",
    "        time_diff = time_meet - datetime.now().replace(year=1900, month=1, day=1, microsecond=0)\n",
    "        datenow = datetime.now().replace(year=1900, month=1, day=1, microsecond=0)\n",
    "        print(time_meet - datetime.now().replace(year=1900, month=1, day=1, microsecond=0))\n",
    "#         print(f'time_meet = {time_meet}')\n",
    "        print(f'datenow={datenow}')\n",
    "        print(f'time_diff={time_diff}')\n",
    "        if time_diff.days >= 0 and time_diff.seconds >=0 and time_diff.seconds <= 120:\n",
    "            text = f'Встреча начнется через: {str(time_diff)} секунд'\n",
    "            break\n",
    "        elif time_diff.days < 0:\n",
    "            text = f'Встреча уже началась: {str(-time_diff)} секунд назад'\n",
    "            break\n",
    "            \n",
    "        sleep(10)\n",
    "#     text = 'ha'    \n",
    "    bot.send_message(message.chat.id, text)\n",
    "    print('отправили')\n",
    "\n",
    "    \n"
   ]
  },
  {
   "cell_type": "code",
   "execution_count": 18,
   "id": "f0ea8f4c",
   "metadata": {},
   "outputs": [
    {
     "data": {
      "text/plain": [
       "1"
      ]
     },
     "execution_count": 18,
     "metadata": {},
     "output_type": "execute_result"
    }
   ],
   "source": [
    "datetime.now().hour\n",
    "datetime.now().day\n",
    "datetime.now().month\n",
    "datetime.now().year"
   ]
  },
  {
   "cell_type": "code",
   "execution_count": null,
   "id": "2b627046",
   "metadata": {},
   "outputs": [],
   "source": [
    "import pandas as pd\n",
    "cnx = sqlite3.connect('file.db')\n",
    "df = pd.read_sql_query(\"SELECT * FROM table_name\", cnx)\n",
    "\n",
    "\n",
    "# подключаем базу данных\n",
    "conn = sqlite3.connect('meeting_reminder.db')\n",
    "\n",
    "# курсор для работы с таблицами\n",
    "cursor = conn.cursor()\n",
    "\n",
    "# try:\n",
    "#     # sql запрос для создания таблицы\n",
    "#     query = 'DROP TABLE \"meeting_reminder\"'\n",
    "#     # исполняем его –> ура, теперь у нас есть таблица, куда будем все сохранять!\n",
    "#     cursor.execute(query)\n",
    "# except:\n",
    "#     pass\n",
    "#     raise\n",
    "\n",
    "try:\n",
    "    # sql запрос для создания таблицы\n",
    "    query = 'CREATE TABLE \"meeting_reminder\" (\"ID\" INTEGER UNIQUE, \"chat_id\" INTEGER, \"meet_time\" TEXT, \"meet_location\" TEXT, \"meet_name\" TEXT, \"meet_text_msg\" TEXT, PRIMARY KEY (\"ID\"))'\n",
    "    # исполняем его –> ура, теперь у нас есть таблица, куда будем все сохранять!\n",
    "    cursor.execute(query)\n",
    "    \n",
    "    "
   ]
  },
  {
   "cell_type": "code",
   "execution_count": null,
   "id": "ac87582d",
   "metadata": {},
   "outputs": [],
   "source": []
  },
  {
   "cell_type": "code",
   "execution_count": null,
   "id": "d36fda4a",
   "metadata": {},
   "outputs": [],
   "source": []
  },
  {
   "cell_type": "code",
   "execution_count": 15,
   "id": "9b5a9279",
   "metadata": {},
   "outputs": [
    {
     "data": {
      "text/plain": [
       "datetime.timedelta"
      ]
     },
     "execution_count": 15,
     "metadata": {},
     "output_type": "execute_result"
    }
   ],
   "source": [
    "type(datetime.now() - datetime.now())"
   ]
  },
  {
   "cell_type": "code",
   "execution_count": null,
   "id": "21e19ec8",
   "metadata": {},
   "outputs": [],
   "source": []
  },
  {
   "cell_type": "code",
   "execution_count": 7,
   "id": "49cd8f63",
   "metadata": {
    "scrolled": false
   },
   "outputs": [
    {
     "name": "stdout",
     "output_type": "stream",
     "text": [
      "time_meet = 1900-01-01 14:28:00\n",
      "0:02:43\n",
      "datenow=1900-01-01 14:25:17\n",
      "time_diff=0:02:43\n",
      "0:02:33\n",
      "datenow=1900-01-01 14:25:27\n",
      "time_diff=0:02:33\n",
      "0:02:23\n",
      "datenow=1900-01-01 14:25:37\n",
      "time_diff=0:02:23\n",
      "0:02:13\n",
      "datenow=1900-01-01 14:25:47\n",
      "time_diff=0:02:13\n",
      "0:02:03\n",
      "datenow=1900-01-01 14:25:57\n",
      "time_diff=0:02:03\n",
      "0:01:53\n",
      "datenow=1900-01-01 14:26:07\n",
      "time_diff=0:01:53\n",
      "отправили\n"
     ]
    }
   ],
   "source": [
    "bot.polling(none_stop=True, interval=0)"
   ]
  },
  {
   "cell_type": "code",
   "execution_count": null,
   "id": "d2d3752b",
   "metadata": {},
   "outputs": [],
   "source": []
  },
  {
   "cell_type": "code",
   "execution_count": 3,
   "id": "23ecc5aa",
   "metadata": {},
   "outputs": [],
   "source": [
    "# time_meet = datetime.strptime('1900-01-01 22:25:00', '%Y-%m-%d %H:%M:%S').replace(year=1900, month=1, day=1, microsecond=0)\n",
    "# time_meet"
   ]
  },
  {
   "cell_type": "code",
   "execution_count": 4,
   "id": "407143b0",
   "metadata": {},
   "outputs": [],
   "source": [
    "# datenow = datetime.now().replace(year=1900, month=1, day=1, microsecond=0)\n",
    "# datenow"
   ]
  },
  {
   "cell_type": "code",
   "execution_count": 5,
   "id": "48bf1146",
   "metadata": {},
   "outputs": [],
   "source": [
    "# time_meet-datenow"
   ]
  },
  {
   "cell_type": "code",
   "execution_count": null,
   "id": "2fef4833",
   "metadata": {},
   "outputs": [],
   "source": []
  },
  {
   "cell_type": "code",
   "execution_count": null,
   "id": "b53c43d8",
   "metadata": {},
   "outputs": [],
   "source": []
  }
 ],
 "metadata": {
  "kernelspec": {
   "display_name": "Python 3 (ipykernel)",
   "language": "python",
   "name": "python3"
  },
  "language_info": {
   "codemirror_mode": {
    "name": "ipython",
    "version": 3
   },
   "file_extension": ".py",
   "mimetype": "text/x-python",
   "name": "python",
   "nbconvert_exporter": "python",
   "pygments_lexer": "ipython3",
   "version": "3.11.5"
  }
 },
 "nbformat": 4,
 "nbformat_minor": 5
}
