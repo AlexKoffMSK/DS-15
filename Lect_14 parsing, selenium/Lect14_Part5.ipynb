{
 "cells": [
  {
   "cell_type": "markdown",
   "id": "8dc732bb",
   "metadata": {},
   "source": [
    "## Пример авторизации на сайтах через Selenium"
   ]
  },
  {
   "cell_type": "code",
   "execution_count": 1,
   "id": "07127da6",
   "metadata": {},
   "outputs": [],
   "source": [
    "from selenium import webdriver\n",
    "from selenium.webdriver.support.ui import WebDriverWait\n",
    "from selenium.webdriver.common.by import By"
   ]
  },
  {
   "cell_type": "code",
   "execution_count": 2,
   "id": "13dd0bf6",
   "metadata": {},
   "outputs": [
    {
     "ename": "ModuleNotFoundError",
     "evalue": "No module named 'passw_et'",
     "output_type": "error",
     "traceback": [
      "\u001b[1;31m---------------------------------------------------------------------------\u001b[0m",
      "\u001b[1;31mModuleNotFoundError\u001b[0m                       Traceback (most recent call last)",
      "Cell \u001b[1;32mIn[2], line 1\u001b[0m\n\u001b[1;32m----> 1\u001b[0m \u001b[38;5;28;01mfrom\u001b[39;00m \u001b[38;5;21;01mpassw_et\u001b[39;00m \u001b[38;5;28;01mimport\u001b[39;00m PASSW, LOGIN\n\u001b[0;32m      3\u001b[0m username \u001b[38;5;241m=\u001b[39m LOGIN\n\u001b[0;32m      4\u001b[0m password \u001b[38;5;241m=\u001b[39m PASSW\n",
      "\u001b[1;31mModuleNotFoundError\u001b[0m: No module named 'passw_et'"
     ]
    }
   ],
   "source": [
    "from passw_et import PASSW, LOGIN\n",
    "\n",
    "username = LOGIN\n",
    "password = PASSW"
   ]
  },
  {
   "cell_type": "code",
   "execution_count": 3,
   "id": "62a42361",
   "metadata": {},
   "outputs": [],
   "source": [
    "# инициализировать окно Chrome\n",
    "driver = webdriver.Chrome()"
   ]
  },
  {
   "cell_type": "code",
   "execution_count": 4,
   "id": "f5ad9ca1",
   "metadata": {},
   "outputs": [],
   "source": [
    "# перейти на страницу входа\n",
    "driver.get(\"https://et.hse.ru/login/hseloginfull.php\")"
   ]
  },
  {
   "cell_type": "code",
   "execution_count": 5,
   "id": "08fb1868",
   "metadata": {},
   "outputs": [
    {
     "ename": "NameError",
     "evalue": "name 'username' is not defined",
     "output_type": "error",
     "traceback": [
      "\u001b[1;31m---------------------------------------------------------------------------\u001b[0m",
      "\u001b[1;31mNameError\u001b[0m                                 Traceback (most recent call last)",
      "Cell \u001b[1;32mIn[5], line 2\u001b[0m\n\u001b[0;32m      1\u001b[0m \u001b[38;5;66;03m# найти поле имени пользователя / электронной почты и отправить само имя пользователя в поле ввода\u001b[39;00m\n\u001b[1;32m----> 2\u001b[0m driver\u001b[38;5;241m.\u001b[39mfind_element(By\u001b[38;5;241m.\u001b[39mID, \u001b[38;5;124m\"\u001b[39m\u001b[38;5;124musername\u001b[39m\u001b[38;5;124m\"\u001b[39m)\u001b[38;5;241m.\u001b[39msend_keys(username)\n",
      "\u001b[1;31mNameError\u001b[0m: name 'username' is not defined"
     ]
    }
   ],
   "source": [
    "# найти поле имени пользователя / электронной почты и отправить само имя пользователя в поле ввода\n",
    "driver.find_element(By.ID, \"username\").send_keys(username)"
   ]
  },
  {
   "cell_type": "code",
   "execution_count": 6,
   "id": "766f3cde",
   "metadata": {},
   "outputs": [],
   "source": [
    "# найти поле ввода пароля и также вставить пароль\n",
    "driver.find_element(By.ID, \"password\").send_keys(password)"
   ]
  },
  {
   "cell_type": "code",
   "execution_count": 7,
   "id": "31bfe668",
   "metadata": {},
   "outputs": [],
   "source": [
    "# нажмите кнопку входа в систему\n",
    "driver.find_element(By.ID, \"loginbtn\").click()"
   ]
  }
 ],
 "metadata": {
  "kernelspec": {
   "display_name": "Python 3 (ipykernel)",
   "language": "python",
   "name": "python3"
  },
  "language_info": {
   "codemirror_mode": {
    "name": "ipython",
    "version": 3
   },
   "file_extension": ".py",
   "mimetype": "text/x-python",
   "name": "python",
   "nbconvert_exporter": "python",
   "pygments_lexer": "ipython3",
   "version": "3.11.5"
  }
 },
 "nbformat": 4,
 "nbformat_minor": 5
}
