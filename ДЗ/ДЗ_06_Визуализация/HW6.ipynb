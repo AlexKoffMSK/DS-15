{
 "cells": [
  {
   "cell_type": "markdown",
   "id": "68ceeacc",
   "metadata": {},
   "source": [
    "# Домашнее задание 6. Визуализация"
   ]
  },
  {
   "cell_type": "markdown",
   "id": "1a0aaacd",
   "metadata": {},
   "source": [
    "27 ноября 1895 года Альфред Нобель подписал в Париже свое последнее завещание. Когда завещание было вскрыто после его смерти, оно вызвало много споров, поскольку Нобель оставил большую часть своего состояния для учреждения премии.\n",
    "\n",
    "Альфред Нобель постановил, что все его оставшееся состояние должно быть использовано для учреждения \"премий тем, кто в течение предшествующего года принес наибольшую пользу человечеству\".\n",
    "\n",
    "Каждый год Нобелевская премия присуждается ученым и исследователям в категориях химии, литературы, физики, физиологии или медицины, экономики и мира.\n",
    "\n",
    "\n",
    "Давайте посмотрим, какие закономерности мы можем найти в данных о прошлых нобелевских лауреатах."
   ]
  },
  {
   "cell_type": "code",
   "execution_count": 2,
   "id": "927cc75b",
   "metadata": {},
   "outputs": [],
   "source": [
    "import pandas as pd\n",
    "import numpy as np\n",
    "# импортируйте нужные библиотеки для визуализации"
   ]
  },
  {
   "cell_type": "code",
   "execution_count": 3,
   "id": "b123a0a5",
   "metadata": {},
   "outputs": [],
   "source": [
    "df = pd.read_csv('https://raw.githubusercontent.com/DPO-CS/DPO_Python_DS13/main/Lect%2017%20plotly/nobel_prize_data.csv')"
   ]
  },
  {
   "cell_type": "markdown",
   "id": "2bca43a5",
   "metadata": {},
   "source": [
    "## Задание 1\n",
    "\n",
    "Визуализируйте распределение возраста лауреатов на момент награждения (**winning_age**) в виде гистограммы с помощью функции [.histplot()](https://seaborn.pydata.org/generated/seaborn.histplot.html).\n",
    "Поэкспериментируйте с размером bin. Попробуйте 10, 20, 30 и 50.\n",
    "\n",
    "Чтобы сделать содержательные выводы, выведите описательную статистику для возраста лауреата на момент награждения (.describe())"
   ]
  },
  {
   "cell_type": "code",
   "execution_count": 8,
   "id": "2e92ba99",
   "metadata": {},
   "outputs": [
    {
     "data": {
      "text/html": [
       "<div>\n",
       "<style scoped>\n",
       "    .dataframe tbody tr th:only-of-type {\n",
       "        vertical-align: middle;\n",
       "    }\n",
       "\n",
       "    .dataframe tbody tr th {\n",
       "        vertical-align: top;\n",
       "    }\n",
       "\n",
       "    .dataframe thead th {\n",
       "        text-align: right;\n",
       "    }\n",
       "</style>\n",
       "<table border=\"1\" class=\"dataframe\">\n",
       "  <thead>\n",
       "    <tr style=\"text-align: right;\">\n",
       "      <th></th>\n",
       "      <th>year</th>\n",
       "      <th>category</th>\n",
       "      <th>prize</th>\n",
       "      <th>motivation</th>\n",
       "      <th>prize_share</th>\n",
       "      <th>laureate_type</th>\n",
       "      <th>full_name</th>\n",
       "      <th>birth_date</th>\n",
       "      <th>birth_city</th>\n",
       "      <th>birth_country</th>\n",
       "      <th>birth_country_current</th>\n",
       "      <th>sex</th>\n",
       "      <th>organization_name</th>\n",
       "      <th>organization_city</th>\n",
       "      <th>organization_country</th>\n",
       "      <th>ISO</th>\n",
       "      <th>winning_age</th>\n",
       "    </tr>\n",
       "  </thead>\n",
       "  <tbody>\n",
       "    <tr>\n",
       "      <th>0</th>\n",
       "      <td>1901</td>\n",
       "      <td>Chemistry</td>\n",
       "      <td>The Nobel Prize in Chemistry 1901</td>\n",
       "      <td>\"in recognition of the extraordinary services ...</td>\n",
       "      <td>1/1</td>\n",
       "      <td>Individual</td>\n",
       "      <td>Jacobus Henricus van 't Hoff</td>\n",
       "      <td>1852-08-30</td>\n",
       "      <td>Rotterdam</td>\n",
       "      <td>Netherlands</td>\n",
       "      <td>Netherlands</td>\n",
       "      <td>Male</td>\n",
       "      <td>Berlin University</td>\n",
       "      <td>Berlin</td>\n",
       "      <td>Germany</td>\n",
       "      <td>NLD</td>\n",
       "      <td>49.0</td>\n",
       "    </tr>\n",
       "    <tr>\n",
       "      <th>1</th>\n",
       "      <td>1901</td>\n",
       "      <td>Literature</td>\n",
       "      <td>The Nobel Prize in Literature 1901</td>\n",
       "      <td>\"in special recognition of his poetic composit...</td>\n",
       "      <td>1/1</td>\n",
       "      <td>Individual</td>\n",
       "      <td>Sully Prudhomme</td>\n",
       "      <td>1839-03-16</td>\n",
       "      <td>Paris</td>\n",
       "      <td>France</td>\n",
       "      <td>France</td>\n",
       "      <td>Male</td>\n",
       "      <td>NaN</td>\n",
       "      <td>NaN</td>\n",
       "      <td>NaN</td>\n",
       "      <td>FRA</td>\n",
       "      <td>62.0</td>\n",
       "    </tr>\n",
       "    <tr>\n",
       "      <th>2</th>\n",
       "      <td>1901</td>\n",
       "      <td>Medicine</td>\n",
       "      <td>The Nobel Prize in Physiology or Medicine 1901</td>\n",
       "      <td>\"for his work on serum therapy, especially its...</td>\n",
       "      <td>1/1</td>\n",
       "      <td>Individual</td>\n",
       "      <td>Emil Adolf von Behring</td>\n",
       "      <td>1854-03-15</td>\n",
       "      <td>Hansdorf (Lawice)</td>\n",
       "      <td>Prussia (Poland)</td>\n",
       "      <td>Poland</td>\n",
       "      <td>Male</td>\n",
       "      <td>Marburg University</td>\n",
       "      <td>Marburg</td>\n",
       "      <td>Germany</td>\n",
       "      <td>POL</td>\n",
       "      <td>47.0</td>\n",
       "    </tr>\n",
       "    <tr>\n",
       "      <th>3</th>\n",
       "      <td>1901</td>\n",
       "      <td>Peace</td>\n",
       "      <td>The Nobel Peace Prize 1901</td>\n",
       "      <td>NaN</td>\n",
       "      <td>1/2</td>\n",
       "      <td>Individual</td>\n",
       "      <td>Frédéric Passy</td>\n",
       "      <td>1822-05-20</td>\n",
       "      <td>Paris</td>\n",
       "      <td>France</td>\n",
       "      <td>France</td>\n",
       "      <td>Male</td>\n",
       "      <td>NaN</td>\n",
       "      <td>NaN</td>\n",
       "      <td>NaN</td>\n",
       "      <td>FRA</td>\n",
       "      <td>79.0</td>\n",
       "    </tr>\n",
       "    <tr>\n",
       "      <th>4</th>\n",
       "      <td>1901</td>\n",
       "      <td>Peace</td>\n",
       "      <td>The Nobel Peace Prize 1901</td>\n",
       "      <td>NaN</td>\n",
       "      <td>1/2</td>\n",
       "      <td>Individual</td>\n",
       "      <td>Jean Henry Dunant</td>\n",
       "      <td>1828-05-08</td>\n",
       "      <td>Geneva</td>\n",
       "      <td>Switzerland</td>\n",
       "      <td>Switzerland</td>\n",
       "      <td>Male</td>\n",
       "      <td>NaN</td>\n",
       "      <td>NaN</td>\n",
       "      <td>NaN</td>\n",
       "      <td>CHE</td>\n",
       "      <td>73.0</td>\n",
       "    </tr>\n",
       "  </tbody>\n",
       "</table>\n",
       "</div>"
      ],
      "text/plain": [
       "   year    category                                           prize  \\\n",
       "0  1901   Chemistry               The Nobel Prize in Chemistry 1901   \n",
       "1  1901  Literature              The Nobel Prize in Literature 1901   \n",
       "2  1901    Medicine  The Nobel Prize in Physiology or Medicine 1901   \n",
       "3  1901       Peace                      The Nobel Peace Prize 1901   \n",
       "4  1901       Peace                      The Nobel Peace Prize 1901   \n",
       "\n",
       "                                          motivation prize_share  \\\n",
       "0  \"in recognition of the extraordinary services ...         1/1   \n",
       "1  \"in special recognition of his poetic composit...         1/1   \n",
       "2  \"for his work on serum therapy, especially its...         1/1   \n",
       "3                                                NaN         1/2   \n",
       "4                                                NaN         1/2   \n",
       "\n",
       "  laureate_type                     full_name birth_date         birth_city  \\\n",
       "0    Individual  Jacobus Henricus van 't Hoff 1852-08-30          Rotterdam   \n",
       "1    Individual               Sully Prudhomme 1839-03-16              Paris   \n",
       "2    Individual        Emil Adolf von Behring 1854-03-15  Hansdorf (Lawice)   \n",
       "3    Individual                Frédéric Passy 1822-05-20              Paris   \n",
       "4    Individual             Jean Henry Dunant 1828-05-08             Geneva   \n",
       "\n",
       "      birth_country birth_country_current   sex   organization_name  \\\n",
       "0       Netherlands           Netherlands  Male   Berlin University   \n",
       "1            France                France  Male                 NaN   \n",
       "2  Prussia (Poland)                Poland  Male  Marburg University   \n",
       "3            France                France  Male                 NaN   \n",
       "4       Switzerland           Switzerland  Male                 NaN   \n",
       "\n",
       "  organization_city organization_country  ISO  winning_age  \n",
       "0            Berlin              Germany  NLD         49.0  \n",
       "1               NaN                  NaN  FRA         62.0  \n",
       "2           Marburg              Germany  POL         47.0  \n",
       "3               NaN                  NaN  FRA         79.0  \n",
       "4               NaN                  NaN  CHE         73.0  "
      ]
     },
     "execution_count": 8,
     "metadata": {},
     "output_type": "execute_result"
    }
   ],
   "source": [
    "# Рассчитаем возраст лауреатов\n",
    "\n",
    "df['birth_date'] = pd.to_datetime(df['birth_date'])\n",
    "df['winning_age'] = df['year'] - df['birth_date'].dt.year\n",
    "df.head()"
   ]
  },
  {
   "cell_type": "code",
   "execution_count": null,
   "id": "5d0c8a5f",
   "metadata": {},
   "outputs": [],
   "source": [
    "# ваш код для визуализации"
   ]
  },
  {
   "cell_type": "markdown",
   "id": "1a8553b5",
   "metadata": {},
   "source": [
    "Ваша ячейка для содержательных выводов. Что мы можем сказать по этому графику?"
   ]
  },
  {
   "cell_type": "markdown",
   "id": "7bd8b1c0",
   "metadata": {},
   "source": [
    "## Задание 2\n",
    "\n",
    "Как меняется возраст лауреатов в зависимости от категории премии?\n",
    "\n",
    "Используйте [.boxplot()](https://seaborn.pydata.org/generated/seaborn.boxplot.html?highlight=boxplot#seaborn.boxplot), чтобы показать, как среднее, квартили, максимальное и минимальное значения различаются по категориям. \n",
    "\n",
    "У какой категории самые длинные \"усы\"?\n",
    "\n",
    "В какой призовой категории средние победители самые старые?\n",
    "\n",
    "В какой призовой категории средние победители самые молодые?"
   ]
  },
  {
   "cell_type": "code",
   "execution_count": null,
   "id": "7ada049d",
   "metadata": {},
   "outputs": [],
   "source": [
    "# ваш код для визуализации"
   ]
  },
  {
   "cell_type": "markdown",
   "id": "4a7b5da5",
   "metadata": {},
   "source": [
    "Ваша ячейка для содержательных выводов. Что мы можем сказать по этому графику?"
   ]
  },
  {
   "cell_type": "markdown",
   "id": "2e6ed180",
   "metadata": {},
   "source": [
    "## Задание 3\n",
    "\n",
    "Постройте [stacked bar chart](https://matplotlib.org/stable/gallery/lines_bars_and_markers/bar_stacked.html), который показывает количество мужчин- и женщин-победителей по категориям.\n",
    "\n",
    "Сколько премий получили женщины в области литературы по сравнению с физикой?"
   ]
  },
  {
   "cell_type": "code",
   "execution_count": null,
   "id": "e01c5e70",
   "metadata": {},
   "outputs": [],
   "source": [
    "# ваш код для визуализации"
   ]
  },
  {
   "cell_type": "markdown",
   "id": "977b83b2",
   "metadata": {},
   "source": [
    "Ваша ячейка для содержательных выводов. Что мы можем сказать по этому графику?"
   ]
  }
 ],
 "metadata": {
  "kernelspec": {
   "display_name": "Python 3 (ipykernel)",
   "language": "python",
   "name": "python3"
  },
  "language_info": {
   "codemirror_mode": {
    "name": "ipython",
    "version": 3
   },
   "file_extension": ".py",
   "mimetype": "text/x-python",
   "name": "python",
   "nbconvert_exporter": "python",
   "pygments_lexer": "ipython3",
   "version": "3.9.7"
  }
 },
 "nbformat": 4,
 "nbformat_minor": 5
}
