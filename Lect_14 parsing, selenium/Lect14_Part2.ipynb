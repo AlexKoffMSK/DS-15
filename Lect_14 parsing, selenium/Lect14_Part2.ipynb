{
 "cells": [
  {
   "cell_type": "markdown",
   "id": "3e258d77",
   "metadata": {},
   "source": [
    " # Парсинг данных и анализ. Кассовые сборы фильмов и бюджеты\n",
    " \n",
    "Поработаем с данными о бюджетах фильмов и финансовых показателях с помощью сайта [The Numbers](https://www.the-numbers.com/movie/budgets/all)."
   ]
  },
  {
   "cell_type": "code",
   "execution_count": 1,
   "id": "e4f71ccc",
   "metadata": {},
   "outputs": [
    {
     "name": "stdout",
     "output_type": "stream",
     "text": [
      "Collecting fake_useragent\n",
      "  Obtaining dependency information for fake_useragent from https://files.pythonhosted.org/packages/33/c9/ff44922639b8827dbc86d463d870dabfc19d1567d8a6427dcb2289d83fd8/fake_useragent-1.4.0-py3-none-any.whl.metadata\n",
      "  Downloading fake_useragent-1.4.0-py3-none-any.whl.metadata (13 kB)\n",
      "Downloading fake_useragent-1.4.0-py3-none-any.whl (15 kB)\n",
      "Installing collected packages: fake_useragent\n",
      "Successfully installed fake_useragent-1.4.0\n"
     ]
    }
   ],
   "source": [
    "!pip install fake_useragent"
   ]
  },
  {
   "cell_type": "code",
   "execution_count": 2,
   "id": "bc04ff69",
   "metadata": {},
   "outputs": [],
   "source": [
    "# импортируйте нужные библиотеки\n",
    "import requests\n",
    "from bs4 import BeautifulSoup\n",
    "import pandas as pd\n",
    "from fake_useragent import UserAgent\n",
    "from tqdm import tqdm\n",
    "import matplotlib\n",
    "%matplotlib inline "
   ]
  },
  {
   "cell_type": "code",
   "execution_count": 3,
   "id": "6efbb20e",
   "metadata": {},
   "outputs": [],
   "source": [
    "import warnings\n",
    "warnings.filterwarnings(\"ignore\")"
   ]
  },
  {
   "cell_type": "markdown",
   "id": "09b9db02",
   "metadata": {},
   "source": [
    "### Парсинг данных"
   ]
  },
  {
   "cell_type": "code",
   "execution_count": 9,
   "id": "48c45760",
   "metadata": {},
   "outputs": [
    {
     "name": "stdout",
     "output_type": "stream",
     "text": [
      "<Response [403]>\n"
     ]
    }
   ],
   "source": [
    "req = requests.get('https://www.the-numbers.com/movie/budgets/all')\n",
    "print(req)"
   ]
  },
  {
   "cell_type": "markdown",
   "id": "7c855e28",
   "metadata": {},
   "source": [
    "Мы впервые сталкиваемся с тем, что сервер не отдает нам данные по запросу. Но и из этой ситуации есть выход! Библиотека `fake_useragent`."
   ]
  },
  {
   "cell_type": "code",
   "execution_count": 10,
   "id": "16449db2",
   "metadata": {},
   "outputs": [],
   "source": [
    "ua = UserAgent()\n",
    "headers = {'User-Agent': ua.chrome}"
   ]
  },
  {
   "cell_type": "code",
   "execution_count": 11,
   "id": "05994a6d",
   "metadata": {},
   "outputs": [
    {
     "name": "stdout",
     "output_type": "stream",
     "text": [
      "<Response [200]>\n"
     ]
    }
   ],
   "source": [
    "req = requests.get('https://www.the-numbers.com/movie/budgets/all', headers=headers)\n",
    "print(req)"
   ]
  },
  {
   "cell_type": "code",
   "execution_count": 12,
   "id": "127a0aa7",
   "metadata": {},
   "outputs": [],
   "source": [
    "soup = BeautifulSoup(req.text, 'html')"
   ]
  },
  {
   "cell_type": "code",
   "execution_count": 13,
   "id": "780ad5c4",
   "metadata": {},
   "outputs": [],
   "source": [
    "df = pd.read_html(str(soup.find('table')))[0]"
   ]
  },
  {
   "cell_type": "code",
   "execution_count": 14,
   "id": "e7e36820",
   "metadata": {},
   "outputs": [
    {
     "name": "stdout",
     "output_type": "stream",
     "text": [
      "Help on function read_html in module pandas.io.html:\n",
      "\n",
      "read_html(io: 'FilePath | ReadBuffer[str]', *, match: 'str | Pattern' = '.+', flavor: 'str | None' = None, header: 'int | Sequence[int] | None' = None, index_col: 'int | Sequence[int] | None' = None, skiprows: 'int | Sequence[int] | slice | None' = None, attrs: 'dict[str, str] | None' = None, parse_dates: 'bool' = False, thousands: 'str | None' = ',', encoding: 'str | None' = None, decimal: 'str' = '.', converters: 'dict | None' = None, na_values: 'Iterable[object] | None' = None, keep_default_na: 'bool' = True, displayed_only: 'bool' = True, extract_links: \"Literal[None, 'header', 'footer', 'body', 'all']\" = None, dtype_backend: 'DtypeBackend | lib.NoDefault' = <no_default>) -> 'list[DataFrame]'\n",
      "    Read HTML tables into a ``list`` of ``DataFrame`` objects.\n",
      "    \n",
      "    Parameters\n",
      "    ----------\n",
      "    io : str, path object, or file-like object\n",
      "        String, path object (implementing ``os.PathLike[str]``), or file-like\n",
      "        object implementing a string ``read()`` function.\n",
      "        The string can represent a URL or the HTML itself. Note that\n",
      "        lxml only accepts the http, ftp and file url protocols. If you have a\n",
      "        URL that starts with ``'https'`` you might try removing the ``'s'``.\n",
      "    \n",
      "    match : str or compiled regular expression, optional\n",
      "        The set of tables containing text matching this regex or string will be\n",
      "        returned. Unless the HTML is extremely simple you will probably need to\n",
      "        pass a non-empty string here. Defaults to '.+' (match any non-empty\n",
      "        string). The default value will return all tables contained on a page.\n",
      "        This value is converted to a regular expression so that there is\n",
      "        consistent behavior between Beautiful Soup and lxml.\n",
      "    \n",
      "    flavor : str, optional\n",
      "        The parsing engine to use. 'bs4' and 'html5lib' are synonymous with\n",
      "        each other, they are both there for backwards compatibility. The\n",
      "        default of ``None`` tries to use ``lxml`` to parse and if that fails it\n",
      "        falls back on ``bs4`` + ``html5lib``.\n",
      "    \n",
      "    header : int or list-like, optional\n",
      "        The row (or list of rows for a :class:`~pandas.MultiIndex`) to use to\n",
      "        make the columns headers.\n",
      "    \n",
      "    index_col : int or list-like, optional\n",
      "        The column (or list of columns) to use to create the index.\n",
      "    \n",
      "    skiprows : int, list-like or slice, optional\n",
      "        Number of rows to skip after parsing the column integer. 0-based. If a\n",
      "        sequence of integers or a slice is given, will skip the rows indexed by\n",
      "        that sequence.  Note that a single element sequence means 'skip the nth\n",
      "        row' whereas an integer means 'skip n rows'.\n",
      "    \n",
      "    attrs : dict, optional\n",
      "        This is a dictionary of attributes that you can pass to use to identify\n",
      "        the table in the HTML. These are not checked for validity before being\n",
      "        passed to lxml or Beautiful Soup. However, these attributes must be\n",
      "        valid HTML table attributes to work correctly. For example, ::\n",
      "    \n",
      "            attrs = {'id': 'table'}\n",
      "    \n",
      "        is a valid attribute dictionary because the 'id' HTML tag attribute is\n",
      "        a valid HTML attribute for *any* HTML tag as per `this document\n",
      "        <https://html.spec.whatwg.org/multipage/dom.html#global-attributes>`__. ::\n",
      "    \n",
      "            attrs = {'asdf': 'table'}\n",
      "    \n",
      "        is *not* a valid attribute dictionary because 'asdf' is not a valid\n",
      "        HTML attribute even if it is a valid XML attribute.  Valid HTML 4.01\n",
      "        table attributes can be found `here\n",
      "        <http://www.w3.org/TR/REC-html40/struct/tables.html#h-11.2>`__. A\n",
      "        working draft of the HTML 5 spec can be found `here\n",
      "        <https://html.spec.whatwg.org/multipage/tables.html>`__. It contains the\n",
      "        latest information on table attributes for the modern web.\n",
      "    \n",
      "    parse_dates : bool, optional\n",
      "        See :func:`~read_csv` for more details.\n",
      "    \n",
      "    thousands : str, optional\n",
      "        Separator to use to parse thousands. Defaults to ``','``.\n",
      "    \n",
      "    encoding : str, optional\n",
      "        The encoding used to decode the web page. Defaults to ``None``.``None``\n",
      "        preserves the previous encoding behavior, which depends on the\n",
      "        underlying parser library (e.g., the parser library will try to use\n",
      "        the encoding provided by the document).\n",
      "    \n",
      "    decimal : str, default '.'\n",
      "        Character to recognize as decimal point (e.g. use ',' for European\n",
      "        data).\n",
      "    \n",
      "    converters : dict, default None\n",
      "        Dict of functions for converting values in certain columns. Keys can\n",
      "        either be integers or column labels, values are functions that take one\n",
      "        input argument, the cell (not column) content, and return the\n",
      "        transformed content.\n",
      "    \n",
      "    na_values : iterable, default None\n",
      "        Custom NA values.\n",
      "    \n",
      "    keep_default_na : bool, default True\n",
      "        If na_values are specified and keep_default_na is False the default NaN\n",
      "        values are overridden, otherwise they're appended to.\n",
      "    \n",
      "    displayed_only : bool, default True\n",
      "        Whether elements with \"display: none\" should be parsed.\n",
      "    \n",
      "    extract_links : {None, \"all\", \"header\", \"body\", \"footer\"}\n",
      "        Table elements in the specified section(s) with <a> tags will have their\n",
      "        href extracted.\n",
      "    \n",
      "        .. versionadded:: 1.5.0\n",
      "    \n",
      "    dtype_backend : {\"numpy_nullable\", \"pyarrow\"}, defaults to NumPy backed DataFrames\n",
      "        Which dtype_backend to use, e.g. whether a DataFrame should have NumPy\n",
      "        arrays, nullable dtypes are used for all dtypes that have a nullable\n",
      "        implementation when \"numpy_nullable\" is set, pyarrow is used for all\n",
      "        dtypes if \"pyarrow\" is set.\n",
      "    \n",
      "        The dtype_backends are still experimential.\n",
      "    \n",
      "        .. versionadded:: 2.0\n",
      "    \n",
      "    Returns\n",
      "    -------\n",
      "    dfs\n",
      "        A list of DataFrames.\n",
      "    \n",
      "    See Also\n",
      "    --------\n",
      "    read_csv : Read a comma-separated values (csv) file into DataFrame.\n",
      "    \n",
      "    Notes\n",
      "    -----\n",
      "    Before using this function you should read the :ref:`gotchas about the\n",
      "    HTML parsing libraries <io.html.gotchas>`.\n",
      "    \n",
      "    Expect to do some cleanup after you call this function. For example, you\n",
      "    might need to manually assign column names if the column names are\n",
      "    converted to NaN when you pass the `header=0` argument. We try to assume as\n",
      "    little as possible about the structure of the table and push the\n",
      "    idiosyncrasies of the HTML contained in the table to the user.\n",
      "    \n",
      "    This function searches for ``<table>`` elements and only for ``<tr>``\n",
      "    and ``<th>`` rows and ``<td>`` elements within each ``<tr>`` or ``<th>``\n",
      "    element in the table. ``<td>`` stands for \"table data\". This function\n",
      "    attempts to properly handle ``colspan`` and ``rowspan`` attributes.\n",
      "    If the function has a ``<thead>`` argument, it is used to construct\n",
      "    the header, otherwise the function attempts to find the header within\n",
      "    the body (by putting rows with only ``<th>`` elements into the header).\n",
      "    \n",
      "    Similar to :func:`~read_csv` the `header` argument is applied\n",
      "    **after** `skiprows` is applied.\n",
      "    \n",
      "    This function will *always* return a list of :class:`DataFrame` *or*\n",
      "    it will fail, e.g., it will *not* return an empty list.\n",
      "    \n",
      "    Examples\n",
      "    --------\n",
      "    See the :ref:`read_html documentation in the IO section of the docs\n",
      "    <io.read_html>` for some examples of reading in HTML tables.\n",
      "\n"
     ]
    }
   ],
   "source": [
    "help(pd.read_html)"
   ]
  },
  {
   "cell_type": "code",
   "execution_count": 20,
   "id": "3756aa5c",
   "metadata": {},
   "outputs": [
    {
     "data": {
      "text/html": [
       "<div>\n",
       "<style scoped>\n",
       "    .dataframe tbody tr th:only-of-type {\n",
       "        vertical-align: middle;\n",
       "    }\n",
       "\n",
       "    .dataframe tbody tr th {\n",
       "        vertical-align: top;\n",
       "    }\n",
       "\n",
       "    .dataframe thead th {\n",
       "        text-align: right;\n",
       "    }\n",
       "</style>\n",
       "<table border=\"1\" class=\"dataframe\">\n",
       "  <thead>\n",
       "    <tr style=\"text-align: right;\">\n",
       "      <th></th>\n",
       "      <th>Release Date</th>\n",
       "      <th>Movie</th>\n",
       "      <th>Production Budget</th>\n",
       "      <th>Domestic Gross</th>\n",
       "      <th>Worldwide Gross</th>\n",
       "    </tr>\n",
       "    <tr>\n",
       "      <th>Unnamed: 0</th>\n",
       "      <th></th>\n",
       "      <th></th>\n",
       "      <th></th>\n",
       "      <th></th>\n",
       "      <th></th>\n",
       "    </tr>\n",
       "  </thead>\n",
       "  <tbody>\n",
       "    <tr>\n",
       "      <th>1</th>\n",
       "      <td>Dec 9, 2022</td>\n",
       "      <td>Avatar: The Way of Water</td>\n",
       "      <td>$460,000,000</td>\n",
       "      <td>$684,075,767</td>\n",
       "      <td>$2,319,591,720</td>\n",
       "    </tr>\n",
       "    <tr>\n",
       "      <th>2</th>\n",
       "      <td>Apr 23, 2019</td>\n",
       "      <td>Avengers: Endgame</td>\n",
       "      <td>$400,000,000</td>\n",
       "      <td>$858,373,000</td>\n",
       "      <td>$2,788,912,285</td>\n",
       "    </tr>\n",
       "    <tr>\n",
       "      <th>3</th>\n",
       "      <td>May 20, 2011</td>\n",
       "      <td>Pirates of the Caribbean: On Stranger Tides</td>\n",
       "      <td>$379,000,000</td>\n",
       "      <td>$241,071,802</td>\n",
       "      <td>$1,045,713,802</td>\n",
       "    </tr>\n",
       "    <tr>\n",
       "      <th>4</th>\n",
       "      <td>Apr 22, 2015</td>\n",
       "      <td>Avengers: Age of Ultron</td>\n",
       "      <td>$365,000,000</td>\n",
       "      <td>$459,005,868</td>\n",
       "      <td>$1,395,316,979</td>\n",
       "    </tr>\n",
       "    <tr>\n",
       "      <th>5</th>\n",
       "      <td>May 17, 2023</td>\n",
       "      <td>Fast X</td>\n",
       "      <td>$340,000,000</td>\n",
       "      <td>$146,126,015</td>\n",
       "      <td>$714,581,860</td>\n",
       "    </tr>\n",
       "    <tr>\n",
       "      <th>...</th>\n",
       "      <td>...</td>\n",
       "      <td>...</td>\n",
       "      <td>...</td>\n",
       "      <td>...</td>\n",
       "      <td>...</td>\n",
       "    </tr>\n",
       "    <tr>\n",
       "      <th>6466</th>\n",
       "      <td>Apr 2, 1999</td>\n",
       "      <td>Following</td>\n",
       "      <td>$6,000</td>\n",
       "      <td>$48,482</td>\n",
       "      <td>$240,495</td>\n",
       "    </tr>\n",
       "    <tr>\n",
       "      <th>6467</th>\n",
       "      <td>Jul 13, 2005</td>\n",
       "      <td>Return to the Land of Wonders</td>\n",
       "      <td>$5,000</td>\n",
       "      <td>$1,338</td>\n",
       "      <td>$1,338</td>\n",
       "    </tr>\n",
       "    <tr>\n",
       "      <th>6468</th>\n",
       "      <td>Sep 29, 2015</td>\n",
       "      <td>A Plague So Pleasant</td>\n",
       "      <td>$1,400</td>\n",
       "      <td>$0</td>\n",
       "      <td>$0</td>\n",
       "    </tr>\n",
       "    <tr>\n",
       "      <th>6469</th>\n",
       "      <td>Aug 5, 2005</td>\n",
       "      <td>My Date With Drew</td>\n",
       "      <td>$1,100</td>\n",
       "      <td>$181,041</td>\n",
       "      <td>$181,041</td>\n",
       "    </tr>\n",
       "    <tr>\n",
       "      <th>6470</th>\n",
       "      <td>Mar 2, 2021</td>\n",
       "      <td>Neeras</td>\n",
       "      <td>$86</td>\n",
       "      <td>$0</td>\n",
       "      <td>$0</td>\n",
       "    </tr>\n",
       "  </tbody>\n",
       "</table>\n",
       "<p>6470 rows × 5 columns</p>\n",
       "</div>"
      ],
      "text/plain": [
       "            Release Date                                        Movie  \\\n",
       "Unnamed: 0                                                              \n",
       "1            Dec 9, 2022                     Avatar: The Way of Water   \n",
       "2           Apr 23, 2019                            Avengers: Endgame   \n",
       "3           May 20, 2011  Pirates of the Caribbean: On Stranger Tides   \n",
       "4           Apr 22, 2015                      Avengers: Age of Ultron   \n",
       "5           May 17, 2023                                       Fast X   \n",
       "...                  ...                                          ...   \n",
       "6466         Apr 2, 1999                                    Following   \n",
       "6467        Jul 13, 2005                Return to the Land of Wonders   \n",
       "6468        Sep 29, 2015                         A Plague So Pleasant   \n",
       "6469         Aug 5, 2005                            My Date With Drew   \n",
       "6470         Mar 2, 2021                                       Neeras   \n",
       "\n",
       "           Production Budget Domestic Gross Worldwide Gross  \n",
       "Unnamed: 0                                                   \n",
       "1               $460,000,000   $684,075,767  $2,319,591,720  \n",
       "2               $400,000,000   $858,373,000  $2,788,912,285  \n",
       "3               $379,000,000   $241,071,802  $1,045,713,802  \n",
       "4               $365,000,000   $459,005,868  $1,395,316,979  \n",
       "5               $340,000,000   $146,126,015    $714,581,860  \n",
       "...                      ...            ...             ...  \n",
       "6466                  $6,000        $48,482        $240,495  \n",
       "6467                  $5,000         $1,338          $1,338  \n",
       "6468                  $1,400             $0              $0  \n",
       "6469                  $1,100       $181,041        $181,041  \n",
       "6470                     $86             $0              $0  \n",
       "\n",
       "[6470 rows x 5 columns]"
      ]
     },
     "execution_count": 20,
     "metadata": {},
     "output_type": "execute_result"
    }
   ],
   "source": [
    "df"
   ]
  },
  {
   "cell_type": "markdown",
   "id": "d2fd54c0",
   "metadata": {},
   "source": [
    "Спарсим все данные по ссылке выше."
   ]
  },
  {
   "cell_type": "code",
   "execution_count": 16,
   "id": "cdae1958",
   "metadata": {},
   "outputs": [
    {
     "name": "stderr",
     "output_type": "stream",
     "text": [
      "100%|██████████████████████████████████████████████████████████████████████████████████| 64/64 [02:04<00:00,  1.94s/it]\n"
     ]
    }
   ],
   "source": [
    "main = pd.DataFrame()\n",
    "\n",
    "for i in tqdm(range(1, 65)):\n",
    "    req = requests.get(f'https://www.the-numbers.com/movie/budgets/all/{i}01', headers=headers)\n",
    "    soup = BeautifulSoup(req.text, 'html')\n",
    "    table = soup.find('table')\n",
    "    df1 = pd.read_html(str(table))[0]\n",
    "    main = pd.concat([main, df1])"
   ]
  },
  {
   "cell_type": "code",
   "execution_count": 17,
   "id": "c8a5f52a",
   "metadata": {},
   "outputs": [],
   "source": [
    "df = pd.concat([df, main])"
   ]
  },
  {
   "cell_type": "code",
   "execution_count": 18,
   "id": "26fbbda6",
   "metadata": {},
   "outputs": [],
   "source": [
    "df = df.set_index('Unnamed: 0')"
   ]
  },
  {
   "cell_type": "code",
   "execution_count": 19,
   "id": "be429202",
   "metadata": {},
   "outputs": [
    {
     "data": {
      "text/plain": [
       "(6470, 5)"
      ]
     },
     "execution_count": 19,
     "metadata": {},
     "output_type": "execute_result"
    }
   ],
   "source": [
    "df.shape"
   ]
  },
  {
   "cell_type": "code",
   "execution_count": 22,
   "id": "ab2e89ad",
   "metadata": {},
   "outputs": [
    {
     "data": {
      "text/html": [
       "<div>\n",
       "<style scoped>\n",
       "    .dataframe tbody tr th:only-of-type {\n",
       "        vertical-align: middle;\n",
       "    }\n",
       "\n",
       "    .dataframe tbody tr th {\n",
       "        vertical-align: top;\n",
       "    }\n",
       "\n",
       "    .dataframe thead th {\n",
       "        text-align: right;\n",
       "    }\n",
       "</style>\n",
       "<table border=\"1\" class=\"dataframe\">\n",
       "  <thead>\n",
       "    <tr style=\"text-align: right;\">\n",
       "      <th></th>\n",
       "      <th>Release Date</th>\n",
       "      <th>Movie</th>\n",
       "      <th>Production Budget</th>\n",
       "      <th>Domestic Gross</th>\n",
       "      <th>Worldwide Gross</th>\n",
       "    </tr>\n",
       "    <tr>\n",
       "      <th>Unnamed: 0</th>\n",
       "      <th></th>\n",
       "      <th></th>\n",
       "      <th></th>\n",
       "      <th></th>\n",
       "      <th></th>\n",
       "    </tr>\n",
       "  </thead>\n",
       "  <tbody>\n",
       "    <tr>\n",
       "      <th>6289</th>\n",
       "      <td>Jan 18, 1967</td>\n",
       "      <td>Per un pugno di dollari</td>\n",
       "      <td>$200,000</td>\n",
       "      <td>$3,500,000</td>\n",
       "      <td>$3,528,283</td>\n",
       "    </tr>\n",
       "    <tr>\n",
       "      <th>878</th>\n",
       "      <td>Sep 20, 2002</td>\n",
       "      <td>Ballistic: Ecks vs. Sever</td>\n",
       "      <td>$70,000,000</td>\n",
       "      <td>$14,294,842</td>\n",
       "      <td>$14,294,842</td>\n",
       "    </tr>\n",
       "    <tr>\n",
       "      <th>4685</th>\n",
       "      <td>May 8, 2009</td>\n",
       "      <td>Julia</td>\n",
       "      <td>$6,000,000</td>\n",
       "      <td>$65,108</td>\n",
       "      <td>$1,365,108</td>\n",
       "    </tr>\n",
       "    <tr>\n",
       "      <th>5572</th>\n",
       "      <td>Nov 20, 2009</td>\n",
       "      <td>The Missing Person</td>\n",
       "      <td>$2,000,000</td>\n",
       "      <td>$17,896</td>\n",
       "      <td>$17,896</td>\n",
       "    </tr>\n",
       "    <tr>\n",
       "      <th>4611</th>\n",
       "      <td>Jul 25, 1980</td>\n",
       "      <td>Caddyshack</td>\n",
       "      <td>$6,000,000</td>\n",
       "      <td>$39,846,344</td>\n",
       "      <td>$39,849,764</td>\n",
       "    </tr>\n",
       "  </tbody>\n",
       "</table>\n",
       "</div>"
      ],
      "text/plain": [
       "            Release Date                      Movie Production Budget  \\\n",
       "Unnamed: 0                                                              \n",
       "6289        Jan 18, 1967    Per un pugno di dollari          $200,000   \n",
       "878         Sep 20, 2002  Ballistic: Ecks vs. Sever       $70,000,000   \n",
       "4685         May 8, 2009                      Julia        $6,000,000   \n",
       "5572        Nov 20, 2009         The Missing Person        $2,000,000   \n",
       "4611        Jul 25, 1980                 Caddyshack        $6,000,000   \n",
       "\n",
       "           Domestic Gross Worldwide Gross  \n",
       "Unnamed: 0                                 \n",
       "6289           $3,500,000      $3,528,283  \n",
       "878           $14,294,842     $14,294,842  \n",
       "4685              $65,108      $1,365,108  \n",
       "5572              $17,896         $17,896  \n",
       "4611          $39,846,344     $39,849,764  "
      ]
     },
     "execution_count": 22,
     "metadata": {},
     "output_type": "execute_result"
    }
   ],
   "source": [
    "df.sample(5)"
   ]
  },
  {
   "cell_type": "markdown",
   "id": "a4152d7e",
   "metadata": {},
   "source": [
    "### EDA\n",
    "\n",
    "* Сколько строк и столбцов содержит набор данных?\n",
    "* Присутствуют ли значения NaN?\n",
    "* Есть ли дублирующиеся строки?\n",
    "* Какие типы данных столбцов?"
   ]
  },
  {
   "cell_type": "code",
   "execution_count": 24,
   "id": "724a7a55",
   "metadata": {},
   "outputs": [
    {
     "data": {
      "text/plain": [
       "(6470, 5)"
      ]
     },
     "execution_count": 24,
     "metadata": {},
     "output_type": "execute_result"
    }
   ],
   "source": [
    "df.shape"
   ]
  },
  {
   "cell_type": "code",
   "execution_count": 25,
   "id": "343d59c5",
   "metadata": {},
   "outputs": [
    {
     "data": {
      "text/plain": [
       "False"
      ]
     },
     "execution_count": 25,
     "metadata": {},
     "output_type": "execute_result"
    }
   ],
   "source": [
    "# ваш код\n",
    "df.isna().values.any()"
   ]
  },
  {
   "cell_type": "code",
   "execution_count": 26,
   "id": "9b02bb5e",
   "metadata": {
    "scrolled": false
   },
   "outputs": [
    {
     "data": {
      "text/plain": [
       "False"
      ]
     },
     "execution_count": 26,
     "metadata": {},
     "output_type": "execute_result"
    }
   ],
   "source": [
    "df.duplicated().values.any()"
   ]
  },
  {
   "cell_type": "code",
   "execution_count": null,
   "id": "fd215cd2",
   "metadata": {},
   "outputs": [],
   "source": [
    "# Если у нас False и False значит у нас нет ни пустых значений ни дублей\n"
   ]
  },
  {
   "cell_type": "code",
   "execution_count": 27,
   "id": "cbab8707",
   "metadata": {},
   "outputs": [],
   "source": [
    "?df.dropna"
   ]
  },
  {
   "cell_type": "code",
   "execution_count": 28,
   "id": "fb019103",
   "metadata": {},
   "outputs": [],
   "source": [
    "?df.drop_duplicates"
   ]
  },
  {
   "cell_type": "code",
   "execution_count": 29,
   "id": "3cf837a9",
   "metadata": {},
   "outputs": [
    {
     "name": "stdout",
     "output_type": "stream",
     "text": [
      "<class 'pandas.core.frame.DataFrame'>\n",
      "Index: 6470 entries, 1 to 6470\n",
      "Data columns (total 5 columns):\n",
      " #   Column             Non-Null Count  Dtype \n",
      "---  ------             --------------  ----- \n",
      " 0   Release Date       6470 non-null   object\n",
      " 1   Movie              6470 non-null   object\n",
      " 2   Production Budget  6470 non-null   object\n",
      " 3   Domestic Gross     6470 non-null   object\n",
      " 4   Worldwide Gross    6470 non-null   object\n",
      "dtypes: object(5)\n",
      "memory usage: 303.3+ KB\n"
     ]
    }
   ],
   "source": [
    "df.info()"
   ]
  },
  {
   "cell_type": "markdown",
   "id": "60bf75ae",
   "metadata": {},
   "source": [
    "### Перевод данных\n",
    "\n",
    "Переводим столбцы в нужные типы данных"
   ]
  },
  {
   "cell_type": "code",
   "execution_count": 30,
   "id": "a46eb39c",
   "metadata": {},
   "outputs": [
    {
     "data": {
      "text/plain": [
       "['Release Date',\n",
       " 'Movie',\n",
       " 'Production Budget',\n",
       " 'Domestic Gross',\n",
       " 'Worldwide Gross']"
      ]
     },
     "execution_count": 30,
     "metadata": {},
     "output_type": "execute_result"
    }
   ],
   "source": [
    "my_cols = list(df.columns)\n",
    "my_cols"
   ]
  },
  {
   "cell_type": "code",
   "execution_count": 32,
   "id": "da43a069",
   "metadata": {},
   "outputs": [],
   "source": [
    "cols = ['Production Budget', 'Domestic Gross', 'Worldwide Gross']\n",
    "\n",
    "for col in cols:\n",
    "    df[col] = df[col].str.replace('$', '')\n",
    "    df[col] = df[col].str.replace(',', '')\n",
    "    df[col] = pd.to_numeric(df[col])"
   ]
  },
  {
   "cell_type": "code",
   "execution_count": 34,
   "id": "f3a0bb9a",
   "metadata": {},
   "outputs": [
    {
     "name": "stdout",
     "output_type": "stream",
     "text": [
      "<class 'pandas.core.frame.DataFrame'>\n",
      "Index: 6470 entries, 1 to 6470\n",
      "Data columns (total 5 columns):\n",
      " #   Column             Non-Null Count  Dtype \n",
      "---  ------             --------------  ----- \n",
      " 0   Release Date       6470 non-null   object\n",
      " 1   Movie              6470 non-null   object\n",
      " 2   Production Budget  6470 non-null   int64 \n",
      " 3   Domestic Gross     6470 non-null   int64 \n",
      " 4   Worldwide Gross    6470 non-null   int64 \n",
      "dtypes: int64(3), object(2)\n",
      "memory usage: 303.3+ KB\n"
     ]
    }
   ],
   "source": [
    "df.info()"
   ]
  },
  {
   "cell_type": "markdown",
   "id": "718b07f7",
   "metadata": {},
   "source": [
    "### Описательная статистика\n",
    "\n",
    "* Какой средний бюджет фильмов в наборе данных?\n",
    "* Какой средний мировой доход фильмов?\n",
    "* Какие минимальные показатели мирового и локального дохода фильмов?\n",
    "* Какие самый высокий бюджет и самый высокий мировой доход среди фильмов?\n",
    "* Какой доход принесли фильмы с самым низким и самым высоким бюджетом?"
   ]
  },
  {
   "cell_type": "code",
   "execution_count": 37,
   "id": "0d99b702",
   "metadata": {},
   "outputs": [
    {
     "data": {
      "text/html": [
       "<div>\n",
       "<style scoped>\n",
       "    .dataframe tbody tr th:only-of-type {\n",
       "        vertical-align: middle;\n",
       "    }\n",
       "\n",
       "    .dataframe tbody tr th {\n",
       "        vertical-align: top;\n",
       "    }\n",
       "\n",
       "    .dataframe thead th {\n",
       "        text-align: right;\n",
       "    }\n",
       "</style>\n",
       "<table border=\"1\" class=\"dataframe\">\n",
       "  <thead>\n",
       "    <tr style=\"text-align: right;\">\n",
       "      <th></th>\n",
       "      <th>Production Budget</th>\n",
       "      <th>Domestic Gross</th>\n",
       "      <th>Worldwide Gross</th>\n",
       "    </tr>\n",
       "  </thead>\n",
       "  <tbody>\n",
       "    <tr>\n",
       "      <th>count</th>\n",
       "      <td>6,470.00</td>\n",
       "      <td>6,470.00</td>\n",
       "      <td>6,470.00</td>\n",
       "    </tr>\n",
       "    <tr>\n",
       "      <th>mean</th>\n",
       "      <td>32,574,090.87</td>\n",
       "      <td>41,942,440.98</td>\n",
       "      <td>93,286,774.93</td>\n",
       "    </tr>\n",
       "    <tr>\n",
       "      <th>std</th>\n",
       "      <td>43,949,080.38</td>\n",
       "      <td>71,834,702.38</td>\n",
       "      <td>185,769,917.22</td>\n",
       "    </tr>\n",
       "    <tr>\n",
       "      <th>min</th>\n",
       "      <td>86.00</td>\n",
       "      <td>0.00</td>\n",
       "      <td>0.00</td>\n",
       "    </tr>\n",
       "    <tr>\n",
       "      <th>25%</th>\n",
       "      <td>5,000,000.00</td>\n",
       "      <td>1,082,370.50</td>\n",
       "      <td>3,730,082.75</td>\n",
       "    </tr>\n",
       "    <tr>\n",
       "      <th>50%</th>\n",
       "      <td>17,000,000.00</td>\n",
       "      <td>16,108,537.50</td>\n",
       "      <td>27,148,444.50</td>\n",
       "    </tr>\n",
       "    <tr>\n",
       "      <th>75%</th>\n",
       "      <td>40,000,000.00</td>\n",
       "      <td>51,622,412.00</td>\n",
       "      <td>96,935,655.00</td>\n",
       "    </tr>\n",
       "    <tr>\n",
       "      <th>max</th>\n",
       "      <td>460,000,000.00</td>\n",
       "      <td>936,662,225.00</td>\n",
       "      <td>2,923,706,026.00</td>\n",
       "    </tr>\n",
       "  </tbody>\n",
       "</table>\n",
       "</div>"
      ],
      "text/plain": [
       "       Production Budget  Domestic Gross  Worldwide Gross\n",
       "count           6,470.00        6,470.00         6,470.00\n",
       "mean       32,574,090.87   41,942,440.98    93,286,774.93\n",
       "std        43,949,080.38   71,834,702.38   185,769,917.22\n",
       "min                86.00            0.00             0.00\n",
       "25%         5,000,000.00    1,082,370.50     3,730,082.75\n",
       "50%        17,000,000.00   16,108,537.50    27,148,444.50\n",
       "75%        40,000,000.00   51,622,412.00    96,935,655.00\n",
       "max       460,000,000.00  936,662,225.00 2,923,706,026.00"
      ]
     },
     "execution_count": 37,
     "metadata": {},
     "output_type": "execute_result"
    }
   ],
   "source": [
    "# ваш код\n",
    "pd.options.display.float_format = '{:,.2f}'.format\n",
    "\n",
    "df.describe()"
   ]
  },
  {
   "cell_type": "code",
   "execution_count": 38,
   "id": "da187720",
   "metadata": {},
   "outputs": [
    {
     "data": {
      "text/html": [
       "<div>\n",
       "<style scoped>\n",
       "    .dataframe tbody tr th:only-of-type {\n",
       "        vertical-align: middle;\n",
       "    }\n",
       "\n",
       "    .dataframe tbody tr th {\n",
       "        vertical-align: top;\n",
       "    }\n",
       "\n",
       "    .dataframe thead th {\n",
       "        text-align: right;\n",
       "    }\n",
       "</style>\n",
       "<table border=\"1\" class=\"dataframe\">\n",
       "  <thead>\n",
       "    <tr style=\"text-align: right;\">\n",
       "      <th></th>\n",
       "      <th>Release Date</th>\n",
       "      <th>Movie</th>\n",
       "      <th>Production Budget</th>\n",
       "      <th>Domestic Gross</th>\n",
       "      <th>Worldwide Gross</th>\n",
       "    </tr>\n",
       "    <tr>\n",
       "      <th>Unnamed: 0</th>\n",
       "      <th></th>\n",
       "      <th></th>\n",
       "      <th></th>\n",
       "      <th></th>\n",
       "      <th></th>\n",
       "    </tr>\n",
       "  </thead>\n",
       "  <tbody>\n",
       "    <tr>\n",
       "      <th>6470</th>\n",
       "      <td>Mar 2, 2021</td>\n",
       "      <td>Neeras</td>\n",
       "      <td>86</td>\n",
       "      <td>0</td>\n",
       "      <td>0</td>\n",
       "    </tr>\n",
       "  </tbody>\n",
       "</table>\n",
       "</div>"
      ],
      "text/plain": [
       "           Release Date   Movie  Production Budget  Domestic Gross  \\\n",
       "Unnamed: 0                                                           \n",
       "6470        Mar 2, 2021  Neeras                 86               0   \n",
       "\n",
       "            Worldwide Gross  \n",
       "Unnamed: 0                   \n",
       "6470                      0  "
      ]
     },
     "execution_count": 38,
     "metadata": {},
     "output_type": "execute_result"
    }
   ],
   "source": [
    "df[df['Production Budget'] == 86.0]"
   ]
  },
  {
   "cell_type": "code",
   "execution_count": 44,
   "id": "4aa9dbd3",
   "metadata": {},
   "outputs": [
    {
     "data": {
      "text/html": [
       "<div>\n",
       "<style scoped>\n",
       "    .dataframe tbody tr th:only-of-type {\n",
       "        vertical-align: middle;\n",
       "    }\n",
       "\n",
       "    .dataframe tbody tr th {\n",
       "        vertical-align: top;\n",
       "    }\n",
       "\n",
       "    .dataframe thead th {\n",
       "        text-align: right;\n",
       "    }\n",
       "</style>\n",
       "<table border=\"1\" class=\"dataframe\">\n",
       "  <thead>\n",
       "    <tr style=\"text-align: right;\">\n",
       "      <th></th>\n",
       "      <th>Release Date</th>\n",
       "      <th>Movie</th>\n",
       "      <th>Production Budget</th>\n",
       "      <th>Domestic Gross</th>\n",
       "      <th>Worldwide Gross</th>\n",
       "    </tr>\n",
       "    <tr>\n",
       "      <th>Unnamed: 0</th>\n",
       "      <th></th>\n",
       "      <th></th>\n",
       "      <th></th>\n",
       "      <th></th>\n",
       "      <th></th>\n",
       "    </tr>\n",
       "  </thead>\n",
       "  <tbody>\n",
       "    <tr>\n",
       "      <th>6470</th>\n",
       "      <td>Mar 2, 2021</td>\n",
       "      <td>Neeras</td>\n",
       "      <td>86</td>\n",
       "      <td>0</td>\n",
       "      <td>0</td>\n",
       "    </tr>\n",
       "    <tr>\n",
       "      <th>6469</th>\n",
       "      <td>Aug 5, 2005</td>\n",
       "      <td>My Date With Drew</td>\n",
       "      <td>1100</td>\n",
       "      <td>181041</td>\n",
       "      <td>181041</td>\n",
       "    </tr>\n",
       "    <tr>\n",
       "      <th>6468</th>\n",
       "      <td>Sep 29, 2015</td>\n",
       "      <td>A Plague So Pleasant</td>\n",
       "      <td>1400</td>\n",
       "      <td>0</td>\n",
       "      <td>0</td>\n",
       "    </tr>\n",
       "  </tbody>\n",
       "</table>\n",
       "</div>"
      ],
      "text/plain": [
       "            Release Date                 Movie  Production Budget  \\\n",
       "Unnamed: 0                                                          \n",
       "6470         Mar 2, 2021                Neeras                 86   \n",
       "6469         Aug 5, 2005     My Date With Drew               1100   \n",
       "6468        Sep 29, 2015  A Plague So Pleasant               1400   \n",
       "\n",
       "            Domestic Gross  Worldwide Gross  \n",
       "Unnamed: 0                                   \n",
       "6470                     0                0  \n",
       "6469                181041           181041  \n",
       "6468                     0                0  "
      ]
     },
     "execution_count": 44,
     "metadata": {},
     "output_type": "execute_result"
    }
   ],
   "source": [
    "df.sort_values(by=['Production Budget'], ascending = True).iloc[0:3]"
   ]
  },
  {
   "cell_type": "code",
   "execution_count": 53,
   "id": "4bf31524",
   "metadata": {},
   "outputs": [
    {
     "data": {
      "text/html": [
       "<div>\n",
       "<style scoped>\n",
       "    .dataframe tbody tr th:only-of-type {\n",
       "        vertical-align: middle;\n",
       "    }\n",
       "\n",
       "    .dataframe tbody tr th {\n",
       "        vertical-align: top;\n",
       "    }\n",
       "\n",
       "    .dataframe thead th {\n",
       "        text-align: right;\n",
       "    }\n",
       "</style>\n",
       "<table border=\"1\" class=\"dataframe\">\n",
       "  <thead>\n",
       "    <tr style=\"text-align: right;\">\n",
       "      <th></th>\n",
       "      <th>Release Date</th>\n",
       "      <th>Movie</th>\n",
       "      <th>Production Budget</th>\n",
       "      <th>Domestic Gross</th>\n",
       "      <th>Worldwide Gross</th>\n",
       "    </tr>\n",
       "    <tr>\n",
       "      <th>Unnamed: 0</th>\n",
       "      <th></th>\n",
       "      <th></th>\n",
       "      <th></th>\n",
       "      <th></th>\n",
       "      <th></th>\n",
       "    </tr>\n",
       "  </thead>\n",
       "  <tbody>\n",
       "    <tr>\n",
       "      <th>32</th>\n",
       "      <td>Dec 17, 2009</td>\n",
       "      <td>Avatar</td>\n",
       "      <td>237000000</td>\n",
       "      <td>785221649</td>\n",
       "      <td>2923706026</td>\n",
       "    </tr>\n",
       "    <tr>\n",
       "      <th>2</th>\n",
       "      <td>Apr 23, 2019</td>\n",
       "      <td>Avengers: Endgame</td>\n",
       "      <td>400000000</td>\n",
       "      <td>858373000</td>\n",
       "      <td>2788912285</td>\n",
       "    </tr>\n",
       "    <tr>\n",
       "      <th>1</th>\n",
       "      <td>Dec 9, 2022</td>\n",
       "      <td>Avatar: The Way of Water</td>\n",
       "      <td>460000000</td>\n",
       "      <td>684075767</td>\n",
       "      <td>2319591720</td>\n",
       "    </tr>\n",
       "    <tr>\n",
       "      <th>57</th>\n",
       "      <td>Dec 18, 1997</td>\n",
       "      <td>Titanic</td>\n",
       "      <td>200000000</td>\n",
       "      <td>674460013</td>\n",
       "      <td>2223048786</td>\n",
       "    </tr>\n",
       "    <tr>\n",
       "      <th>6</th>\n",
       "      <td>Dec 16, 2015</td>\n",
       "      <td>Star Wars Ep. VII: The Force Awakens</td>\n",
       "      <td>306000000</td>\n",
       "      <td>936662225</td>\n",
       "      <td>2064615817</td>\n",
       "    </tr>\n",
       "    <tr>\n",
       "      <th>7</th>\n",
       "      <td>Apr 25, 2018</td>\n",
       "      <td>Avengers: Infinity War</td>\n",
       "      <td>300000000</td>\n",
       "      <td>678815482</td>\n",
       "      <td>2048359754</td>\n",
       "    </tr>\n",
       "    <tr>\n",
       "      <th>55</th>\n",
       "      <td>Dec 14, 2021</td>\n",
       "      <td>Spider-Man: No Way Home</td>\n",
       "      <td>200000000</td>\n",
       "      <td>814115070</td>\n",
       "      <td>1907836254</td>\n",
       "    </tr>\n",
       "    <tr>\n",
       "      <th>45</th>\n",
       "      <td>Jun 9, 2015</td>\n",
       "      <td>Jurassic World</td>\n",
       "      <td>215000000</td>\n",
       "      <td>652306625</td>\n",
       "      <td>1669963641</td>\n",
       "    </tr>\n",
       "    <tr>\n",
       "      <th>18</th>\n",
       "      <td>Jul 11, 2019</td>\n",
       "      <td>The Lion King</td>\n",
       "      <td>260000000</td>\n",
       "      <td>543638043</td>\n",
       "      <td>1646106779</td>\n",
       "    </tr>\n",
       "    <tr>\n",
       "      <th>37</th>\n",
       "      <td>Apr 25, 2012</td>\n",
       "      <td>The Avengers</td>\n",
       "      <td>225000000</td>\n",
       "      <td>623357910</td>\n",
       "      <td>1515100211</td>\n",
       "    </tr>\n",
       "  </tbody>\n",
       "</table>\n",
       "</div>"
      ],
      "text/plain": [
       "            Release Date                                 Movie  \\\n",
       "Unnamed: 0                                                       \n",
       "32          Dec 17, 2009                                Avatar   \n",
       "2           Apr 23, 2019                     Avengers: Endgame   \n",
       "1            Dec 9, 2022              Avatar: The Way of Water   \n",
       "57          Dec 18, 1997                               Titanic   \n",
       "6           Dec 16, 2015  Star Wars Ep. VII: The Force Awakens   \n",
       "7           Apr 25, 2018                Avengers: Infinity War   \n",
       "55          Dec 14, 2021               Spider-Man: No Way Home   \n",
       "45           Jun 9, 2015                        Jurassic World   \n",
       "18          Jul 11, 2019                         The Lion King   \n",
       "37          Apr 25, 2012                          The Avengers   \n",
       "\n",
       "            Production Budget  Domestic Gross  Worldwide Gross  \n",
       "Unnamed: 0                                                      \n",
       "32                  237000000       785221649       2923706026  \n",
       "2                   400000000       858373000       2788912285  \n",
       "1                   460000000       684075767       2319591720  \n",
       "57                  200000000       674460013       2223048786  \n",
       "6                   306000000       936662225       2064615817  \n",
       "7                   300000000       678815482       2048359754  \n",
       "55                  200000000       814115070       1907836254  \n",
       "45                  215000000       652306625       1669963641  \n",
       "18                  260000000       543638043       1646106779  \n",
       "37                  225000000       623357910       1515100211  "
      ]
     },
     "execution_count": 53,
     "metadata": {},
     "output_type": "execute_result"
    }
   ],
   "source": [
    "# df.sort_values(by=['Production Budget'], ascending = False).iloc[0:10]\n",
    "# df.sort_values(by=['Domestic Gross'], ascending = False).iloc[0:10]\n",
    "df.sort_values(by=['Worldwide Gross'], ascending = False).iloc[0:10]"
   ]
  },
  {
   "cell_type": "code",
   "execution_count": 49,
   "id": "8a17f246",
   "metadata": {},
   "outputs": [
    {
     "data": {
      "text/html": [
       "<div>\n",
       "<style scoped>\n",
       "    .dataframe tbody tr th:only-of-type {\n",
       "        vertical-align: middle;\n",
       "    }\n",
       "\n",
       "    .dataframe tbody tr th {\n",
       "        vertical-align: top;\n",
       "    }\n",
       "\n",
       "    .dataframe thead th {\n",
       "        text-align: right;\n",
       "    }\n",
       "</style>\n",
       "<table border=\"1\" class=\"dataframe\">\n",
       "  <thead>\n",
       "    <tr style=\"text-align: right;\">\n",
       "      <th></th>\n",
       "      <th>Release Date</th>\n",
       "      <th>Movie</th>\n",
       "      <th>Production Budget</th>\n",
       "      <th>Domestic Gross</th>\n",
       "      <th>Worldwide Gross</th>\n",
       "    </tr>\n",
       "    <tr>\n",
       "      <th>Unnamed: 0</th>\n",
       "      <th></th>\n",
       "      <th></th>\n",
       "      <th></th>\n",
       "      <th></th>\n",
       "      <th></th>\n",
       "    </tr>\n",
       "  </thead>\n",
       "  <tbody>\n",
       "    <tr>\n",
       "      <th>256</th>\n",
       "      <td>Dec 13, 2019</td>\n",
       "      <td>6 Underground</td>\n",
       "      <td>150000000</td>\n",
       "      <td>0</td>\n",
       "      <td>0</td>\n",
       "    </tr>\n",
       "    <tr>\n",
       "      <th>374</th>\n",
       "      <td>Nov 9, 2018</td>\n",
       "      <td>Outlaw King</td>\n",
       "      <td>120000000</td>\n",
       "      <td>0</td>\n",
       "      <td>0</td>\n",
       "    </tr>\n",
       "    <tr>\n",
       "      <th>375</th>\n",
       "      <td>Dec 2, 2022</td>\n",
       "      <td>Emancipation</td>\n",
       "      <td>120000000</td>\n",
       "      <td>0</td>\n",
       "      <td>0</td>\n",
       "    </tr>\n",
       "    <tr>\n",
       "      <th>387</th>\n",
       "      <td>Mar 6, 2019</td>\n",
       "      <td>Triple Frontier</td>\n",
       "      <td>115000000</td>\n",
       "      <td>0</td>\n",
       "      <td>0</td>\n",
       "    </tr>\n",
       "    <tr>\n",
       "      <th>500</th>\n",
       "      <td>Jun 12, 2020</td>\n",
       "      <td>Artemis Fowl</td>\n",
       "      <td>100000000</td>\n",
       "      <td>0</td>\n",
       "      <td>0</td>\n",
       "    </tr>\n",
       "    <tr>\n",
       "      <th>...</th>\n",
       "      <td>...</td>\n",
       "      <td>...</td>\n",
       "      <td>...</td>\n",
       "      <td>...</td>\n",
       "      <td>...</td>\n",
       "    </tr>\n",
       "    <tr>\n",
       "      <th>6445</th>\n",
       "      <td>Nov 25, 2011</td>\n",
       "      <td>The Ridges</td>\n",
       "      <td>17300</td>\n",
       "      <td>0</td>\n",
       "      <td>0</td>\n",
       "    </tr>\n",
       "    <tr>\n",
       "      <th>6459</th>\n",
       "      <td>May 19, 2015</td>\n",
       "      <td>Family Motocross</td>\n",
       "      <td>10000</td>\n",
       "      <td>0</td>\n",
       "      <td>0</td>\n",
       "    </tr>\n",
       "    <tr>\n",
       "      <th>6465</th>\n",
       "      <td>Mar 1, 2022</td>\n",
       "      <td>Red 11</td>\n",
       "      <td>7000</td>\n",
       "      <td>0</td>\n",
       "      <td>0</td>\n",
       "    </tr>\n",
       "    <tr>\n",
       "      <th>6468</th>\n",
       "      <td>Sep 29, 2015</td>\n",
       "      <td>A Plague So Pleasant</td>\n",
       "      <td>1400</td>\n",
       "      <td>0</td>\n",
       "      <td>0</td>\n",
       "    </tr>\n",
       "    <tr>\n",
       "      <th>6470</th>\n",
       "      <td>Mar 2, 2021</td>\n",
       "      <td>Neeras</td>\n",
       "      <td>86</td>\n",
       "      <td>0</td>\n",
       "      <td>0</td>\n",
       "    </tr>\n",
       "  </tbody>\n",
       "</table>\n",
       "<p>328 rows × 5 columns</p>\n",
       "</div>"
      ],
      "text/plain": [
       "            Release Date                 Movie  Production Budget  \\\n",
       "Unnamed: 0                                                          \n",
       "256         Dec 13, 2019         6 Underground          150000000   \n",
       "374          Nov 9, 2018           Outlaw King          120000000   \n",
       "375          Dec 2, 2022          Emancipation          120000000   \n",
       "387          Mar 6, 2019       Triple Frontier          115000000   \n",
       "500         Jun 12, 2020          Artemis Fowl          100000000   \n",
       "...                  ...                   ...                ...   \n",
       "6445        Nov 25, 2011            The Ridges              17300   \n",
       "6459        May 19, 2015      Family Motocross              10000   \n",
       "6465         Mar 1, 2022                Red 11               7000   \n",
       "6468        Sep 29, 2015  A Plague So Pleasant               1400   \n",
       "6470         Mar 2, 2021                Neeras                 86   \n",
       "\n",
       "            Domestic Gross  Worldwide Gross  \n",
       "Unnamed: 0                                   \n",
       "256                      0                0  \n",
       "374                      0                0  \n",
       "375                      0                0  \n",
       "387                      0                0  \n",
       "500                      0                0  \n",
       "...                    ...              ...  \n",
       "6445                     0                0  \n",
       "6459                     0                0  \n",
       "6465                     0                0  \n",
       "6468                     0                0  \n",
       "6470                     0                0  \n",
       "\n",
       "[328 rows x 5 columns]"
      ]
     },
     "execution_count": 49,
     "metadata": {},
     "output_type": "execute_result"
    }
   ],
   "source": [
    "df[(df['Worldwide Gross'] == 0) & ((df['Release Date'] != 'Unknown') & (~df['Release Date'].str.contains('2024')))]"
   ]
  },
  {
   "cell_type": "markdown",
   "id": "1e064a94",
   "metadata": {},
   "source": [
    "### Фильмы, потерявшие деньги\n",
    "\n",
    "* Какой процент фильмов, в которых затраты на производство превысили мировой доход?"
   ]
  },
  {
   "cell_type": "code",
   "execution_count": 57,
   "id": "06e50c15",
   "metadata": {},
   "outputs": [
    {
     "ename": "TypeError",
     "evalue": "'tuple' object is not callable",
     "output_type": "error",
     "traceback": [
      "\u001b[1;31m---------------------------------------------------------------------------\u001b[0m",
      "\u001b[1;31mTypeError\u001b[0m                                 Traceback (most recent call last)",
      "Cell \u001b[1;32mIn[57], line 1\u001b[0m\n\u001b[1;32m----> 1\u001b[0m df[df[\u001b[38;5;124m'\u001b[39m\u001b[38;5;124mWorldwide Gross\u001b[39m\u001b[38;5;124m'\u001b[39m] \u001b[38;5;241m<\u001b[39m df[\u001b[38;5;124m'\u001b[39m\u001b[38;5;124mProduction Budget\u001b[39m\u001b[38;5;124m'\u001b[39m]]\u001b[38;5;241m.\u001b[39mshape(\u001b[38;5;241m0\u001b[39m)\u001b[38;5;241m/\u001b[39mdf\u001b[38;5;241m.\u001b[39mshape[\u001b[38;5;241m0\u001b[39m]\n",
      "\u001b[1;31mTypeError\u001b[0m: 'tuple' object is not callable"
     ]
    }
   ],
   "source": [
    "df[df['Worldwide Gross'] < df['Production Budget']].shape(0)/df.shape[0]"
   ]
  },
  {
   "cell_type": "code",
   "execution_count": null,
   "id": "a265c2a7",
   "metadata": {},
   "outputs": [],
   "source": []
  }
 ],
 "metadata": {
  "kernelspec": {
   "display_name": "Python 3 (ipykernel)",
   "language": "python",
   "name": "python3"
  },
  "language_info": {
   "codemirror_mode": {
    "name": "ipython",
    "version": 3
   },
   "file_extension": ".py",
   "mimetype": "text/x-python",
   "name": "python",
   "nbconvert_exporter": "python",
   "pygments_lexer": "ipython3",
   "version": "3.11.5"
  }
 },
 "nbformat": 4,
 "nbformat_minor": 5
}
