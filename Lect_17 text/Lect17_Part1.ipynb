{
 "cells": [
  {
   "cell_type": "markdown",
   "metadata": {},
   "source": [
    "# Python для анализа данных\n",
    "\n",
    "*Ян Пиле, НИУ ВШЭ*\n",
    "\n",
    "## Что такое анализ текстов и как с этим разобраться"
   ]
  },
  {
   "cell_type": "markdown",
   "metadata": {},
   "source": [
    "В анализе данных как дисциплине существует отдельная область знания, занимающаяся анализом текстовых данных. Называется она NLP (Нет, это не нейролингвистическое программирование) == Natural Language Processing == Обработка естественного языка. NLP - область машинного обучения, дающая компьютеру возможность \"понимать\", анализировать, преобразовывать и  генерировать текст на человеческом языке.\n",
    "### Реальные задачи NLP\n",
    "\n",
    "* Поиск информации (Yandex находит релевантные и похожие результаты).\n",
    "* Извлечение информации (Mail структурирует события из электронных писем).\n",
    "* Машинный перевод (Google Translate переводит язык с одного языка на другой).\n",
    "* Упрощение текста (Rewordify упрощает смысл предложений). \n",
    "* Анализ тональности (Hater News дает нам настроение пользователя).\n",
    "* Краткое изложение текста (Smry или Reddit's autotldr дает краткое изложение предложений).\n",
    "* Спам-фильтр (Gmail фильтрует спам-письма).\n",
    "* Прогнозирование следующих слов (поиск в Google/Yandex/Yahoo предсказывает результаты поиска пользователей).\n",
    "* Автоисправление (Google Keyboard и Grammarly редактируют неправильно написанные слова).\n",
    "* Распознавание речи (Алиса :)).\n",
    "* Ответ на вопрос (ответы IBM Watson).\n",
    "* Natural Language Generation (Генерация текста из изображения или видео.)"
   ]
  },
  {
   "cell_type": "markdown",
   "metadata": {},
   "source": [
    "### Примеры обученных моделей\n",
    "\n",
    "[TensorFlow](https://tfhub.dev/) \\\n",
    "[FastText](https://fasttext.cc/docs/en/language-identification.html) \\\n",
    "[Hugging Face](https://huggingface.co/models?sort=likes)"
   ]
  },
  {
   "cell_type": "markdown",
   "metadata": {},
   "source": [
    "Мы воспользуемся модулем **TextBlob**, который представляет собой библиотеку Python и предлагает простой API для доступа к его методам и выполнения основных задач NLP. Он построен поверх модуля NLTK (Natural Language Toolkit)"
   ]
  },
  {
   "cell_type": "markdown",
   "metadata": {},
   "source": [
    " Сейчас будем устанавливать библиотеку TextBlob и всякие элементы nltk, необходимые для ее работы. Предупреждаю, это долго"
   ]
  },
  {
   "cell_type": "code",
   "execution_count": 1,
   "metadata": {},
   "outputs": [
    {
     "name": "stdout",
     "output_type": "stream",
     "text": [
      "Collecting textblob\n",
      "  Downloading textblob-0.17.1-py2.py3-none-any.whl (636 kB)\n",
      "     ---------------------------------------- 0.0/636.8 kB ? eta -:--:--\n",
      "      --------------------------------------- 10.2/636.8 kB ? eta -:--:--\n",
      "      --------------------------------------- 10.2/636.8 kB ? eta -:--:--\n",
      "      --------------------------------------- 10.2/636.8 kB ? eta -:--:--\n",
      "     - ----------------------------------- 30.7/636.8 kB 145.2 kB/s eta 0:00:05\n",
      "     -- ---------------------------------- 41.0/636.8 kB 164.3 kB/s eta 0:00:04\n",
      "     ------ ----------------------------- 122.9/636.8 kB 423.5 kB/s eta 0:00:02\n",
      "     ----------- ------------------------ 204.8/636.8 kB 623.6 kB/s eta 0:00:01\n",
      "     ------------------- ---------------- 337.9/636.8 kB 912.8 kB/s eta 0:00:01\n",
      "     --------------------------- ---------- 460.8/636.8 kB 1.1 MB/s eta 0:00:01\n",
      "     -------------------------------------  634.9/636.8 kB 1.4 MB/s eta 0:00:01\n",
      "     -------------------------------------- 636.8/636.8 kB 1.3 MB/s eta 0:00:00\n",
      "Requirement already satisfied: nltk>=3.1 in c:\\users\\user_lena\\anaconda3\\lib\\site-packages (from textblob) (3.8.1)\n",
      "Requirement already satisfied: click in c:\\users\\user_lena\\anaconda3\\lib\\site-packages (from nltk>=3.1->textblob) (8.0.4)\n",
      "Requirement already satisfied: joblib in c:\\users\\user_lena\\anaconda3\\lib\\site-packages (from nltk>=3.1->textblob) (1.2.0)\n",
      "Requirement already satisfied: regex>=2021.8.3 in c:\\users\\user_lena\\anaconda3\\lib\\site-packages (from nltk>=3.1->textblob) (2022.7.9)\n",
      "Requirement already satisfied: tqdm in c:\\users\\user_lena\\anaconda3\\lib\\site-packages (from nltk>=3.1->textblob) (4.65.0)\n",
      "Requirement already satisfied: colorama in c:\\users\\user_lena\\anaconda3\\lib\\site-packages (from click->nltk>=3.1->textblob) (0.4.6)\n",
      "Installing collected packages: textblob\n",
      "Successfully installed textblob-0.17.1\n",
      "Finished.\n"
     ]
    },
    {
     "name": "stderr",
     "output_type": "stream",
     "text": [
      "[nltk_data] Downloading package brown to\n",
      "[nltk_data]     C:\\Users\\USER_LENA\\AppData\\Roaming\\nltk_data...\n",
      "[nltk_data]   Unzipping corpora\\brown.zip.\n",
      "[nltk_data] Downloading package punkt to\n",
      "[nltk_data]     C:\\Users\\USER_LENA\\AppData\\Roaming\\nltk_data...\n",
      "[nltk_data]   Package punkt is already up-to-date!\n",
      "[nltk_data] Downloading package wordnet to\n",
      "[nltk_data]     C:\\Users\\USER_LENA\\AppData\\Roaming\\nltk_data...\n",
      "[nltk_data] Downloading package averaged_perceptron_tagger to\n",
      "[nltk_data]     C:\\Users\\USER_LENA\\AppData\\Roaming\\nltk_data...\n",
      "[nltk_data]   Unzipping taggers\\averaged_perceptron_tagger.zip.\n",
      "[nltk_data] Downloading package conll2000 to\n",
      "[nltk_data]     C:\\Users\\USER_LENA\\AppData\\Roaming\\nltk_data...\n",
      "[nltk_data]   Unzipping corpora\\conll2000.zip.\n",
      "[nltk_data] Downloading package movie_reviews to\n",
      "[nltk_data]     C:\\Users\\USER_LENA\\AppData\\Roaming\\nltk_data...\n",
      "[nltk_data]   Unzipping corpora\\movie_reviews.zip.\n"
     ]
    }
   ],
   "source": [
    "!pip install -U textblob\n",
    "!python -m textblob.download_corpora"
   ]
  },
  {
   "cell_type": "code",
   "execution_count": 2,
   "metadata": {},
   "outputs": [],
   "source": [
    "import warnings\n",
    "warnings.filterwarnings(\"ignore\")"
   ]
  },
  {
   "cell_type": "markdown",
   "metadata": {},
   "source": [
    "**Термины:**\n",
    "\n",
    "* **Корпус** — Основная часть текста, единственное число. Корпора - множественное число.\n",
    "* **Лексикон** — Слова и их значения.\n",
    "* **Токен** — каждая «сущность», которая является частью того, что было разделено на основе правил. Например, каждое слово является токеном, когда предложение «токенизируется» на слова. Каждое предложение – токен, если вы токенизировали предложения из абзаца."
   ]
  },
  {
   "cell_type": "markdown",
   "metadata": {},
   "source": [
    "## Токенизация\n",
    "\n",
    "Под токенизацией понимается разбиение большого абзаца на предложения или слова. Обычно токен – слово в текстовом документе. Токенизация с помощью TextBlob – довольно простая штука. Все, что вам нужно сделать, это импортировать объект TextBlob из библиотеки textblob, передать ему документ, который вы хотите разбить на токены и готово :). Давайте посмотрим на это в действии:"
   ]
  },
  {
   "cell_type": "code",
   "execution_count": 3,
   "metadata": {},
   "outputs": [],
   "source": [
    "from textblob import TextBlob"
   ]
  },
  {
   "cell_type": "markdown",
   "metadata": {},
   "source": [
    "Первый параграф из книги \"Солдат всегда солдат\" (к слову, интересная книга) ниже:"
   ]
  },
  {
   "cell_type": "code",
   "execution_count": 4,
   "metadata": {},
   "outputs": [],
   "source": [
    "document = \"THIS is the saddest story I have ever heard. We had known the Ashburnhams \\\n",
    "            for nine seasons of the town of Nauheim with an extreme intimacy—or, rather with an\\\n",
    "            acquaintanceship as loose and easy and yet as close as a good glove's with your hand. \\\n",
    "            My wife and I knew Captain and Mrs Ashburnham as well as it was possible to know anybody, \\\n",
    "            and yet, in another sense, we knew nothing at all about them. This is, I believe, a state of \\\n",
    "            things only possible with English people of whom, till today, when I sit down to puzzle out \\\n",
    "            what I know of this sad affair, I knew nothing whatever. Six months ago I had never been to England,\\\n",
    "            and, certainly, I had never sounded the depths of an English heart. I had known the shallows.\""
   ]
  },
  {
   "cell_type": "markdown",
   "metadata": {},
   "source": [
    "Передадим этот документ в качестве параметра классу TextBlob. Возвращенный объект затем можно использовать для токенизации на слова и предложения."
   ]
  },
  {
   "cell_type": "code",
   "execution_count": 5,
   "metadata": {},
   "outputs": [],
   "source": [
    "text_blob_object = TextBlob(document)"
   ]
  },
  {
   "cell_type": "code",
   "execution_count": 6,
   "metadata": {},
   "outputs": [
    {
     "data": {
      "text/plain": [
       "TextBlob(\"THIS is the saddest story I have ever heard. We had known the Ashburnhams             for nine seasons of the town of Nauheim with an extreme intimacy—or, rather with an            acquaintanceship as loose and easy and yet as close as a good glove's with your hand.             My wife and I knew Captain and Mrs Ashburnham as well as it was possible to know anybody,             and yet, in another sense, we knew nothing at all about them. This is, I believe, a state of             things only possible with English people of whom, till today, when I sit down to puzzle out             what I know of this sad affair, I knew nothing whatever. Six months ago I had never been to England,            and, certainly, I had never sounded the depths of an English heart. I had known the shallows.\")"
      ]
     },
     "execution_count": 6,
     "metadata": {},
     "output_type": "execute_result"
    }
   ],
   "source": [
    "text_blob_object"
   ]
  },
  {
   "cell_type": "code",
   "execution_count": 7,
   "metadata": {},
   "outputs": [
    {
     "name": "stdout",
     "output_type": "stream",
     "text": [
      "[Sentence(\"THIS is the saddest story I have ever heard.\"), Sentence(\"We had known the Ashburnhams             for nine seasons of the town of Nauheim with an extreme intimacy—or, rather with an            acquaintanceship as loose and easy and yet as close as a good glove's with your hand.\"), Sentence(\"My wife and I knew Captain and Mrs Ashburnham as well as it was possible to know anybody,             and yet, in another sense, we knew nothing at all about them.\"), Sentence(\"This is, I believe, a state of             things only possible with English people of whom, till today, when I sit down to puzzle out             what I know of this sad affair, I knew nothing whatever.\"), Sentence(\"Six months ago I had never been to England,            and, certainly, I had never sounded the depths of an English heart.\"), Sentence(\"I had known the shallows.\")]\n",
      "6\n"
     ]
    }
   ],
   "source": [
    "document_sentence = text_blob_object.sentences\n",
    "print(document_sentence)\n",
    "print(len(document_sentence))"
   ]
  },
  {
   "cell_type": "code",
   "execution_count": 10,
   "metadata": {},
   "outputs": [
    {
     "data": {
      "text/plain": [
       "WordList(['THIS', 'is', 'the', 'saddest', 'story', 'I', 'have', 'ever', 'heard'])"
      ]
     },
     "execution_count": 10,
     "metadata": {},
     "output_type": "execute_result"
    }
   ],
   "source": [
    "document_sentence[0].words"
   ]
  },
  {
   "cell_type": "code",
   "execution_count": 11,
   "metadata": {
    "scrolled": true
   },
   "outputs": [
    {
     "name": "stdout",
     "output_type": "stream",
     "text": [
      "['THIS', 'is', 'the', 'saddest', 'story', 'I', 'have', 'ever', 'heard', 'We', 'had', 'known', 'the', 'Ashburnhams', 'for', 'nine', 'seasons', 'of', 'the', 'town', 'of', 'Nauheim', 'with', 'an', 'extreme', 'intimacy—or', 'rather', 'with', 'an', 'acquaintanceship', 'as', 'loose', 'and', 'easy', 'and', 'yet', 'as', 'close', 'as', 'a', 'good', 'glove', \"'s\", 'with', 'your', 'hand', 'My', 'wife', 'and', 'I', 'knew', 'Captain', 'and', 'Mrs', 'Ashburnham', 'as', 'well', 'as', 'it', 'was', 'possible', 'to', 'know', 'anybody', 'and', 'yet', 'in', 'another', 'sense', 'we', 'knew', 'nothing', 'at', 'all', 'about', 'them', 'This', 'is', 'I', 'believe', 'a', 'state', 'of', 'things', 'only', 'possible', 'with', 'English', 'people', 'of', 'whom', 'till', 'today', 'when', 'I', 'sit', 'down', 'to', 'puzzle', 'out', 'what', 'I', 'know', 'of', 'this', 'sad', 'affair', 'I', 'knew', 'nothing', 'whatever', 'Six', 'months', 'ago', 'I', 'had', 'never', 'been', 'to', 'England', 'and', 'certainly', 'I', 'had', 'never', 'sounded', 'the', 'depths', 'of', 'an', 'English', 'heart', 'I', 'had', 'known', 'the', 'shallows']\n",
      "137\n"
     ]
    }
   ],
   "source": [
    "document_words = text_blob_object.words\n",
    "\n",
    "print(document_words)\n",
    "print(len(document_words))"
   ]
  },
  {
   "cell_type": "code",
   "execution_count": 10,
   "metadata": {},
   "outputs": [
    {
     "data": {
      "text/plain": [
       "textblob.blob.Word"
      ]
     },
     "execution_count": 10,
     "metadata": {},
     "output_type": "execute_result"
    }
   ],
   "source": [
    "type(document_words[0])"
   ]
  },
  {
   "cell_type": "code",
   "execution_count": 12,
   "metadata": {},
   "outputs": [
    {
     "data": {
      "text/plain": [
       "WordList(['I', \"'d\", 'like', 'some', 'coffee'])"
      ]
     },
     "execution_count": 12,
     "metadata": {},
     "output_type": "execute_result"
    }
   ],
   "source": [
    "obj = TextBlob(\"I'd like some coffee\")\n",
    "obj.words"
   ]
  },
  {
   "cell_type": "markdown",
   "metadata": {},
   "source": [
    "**Лемматизация**\n",
    "\n",
    "Лемматизация – приведение слова к форме, в которой оно записано в словаре.\n",
    "\n",
    "Чтобы выполнить лемматизацию с помощью TextBlob, вы должны использовать объект Word из библиотеки textblob, передать ему слово, которое вы хотите лемматизировать, а затем вызвать метод lemmatize."
   ]
  },
  {
   "cell_type": "code",
   "execution_count": 13,
   "metadata": {},
   "outputs": [
    {
     "name": "stdout",
     "output_type": "stream",
     "text": [
      "apples: apple\n",
      "media: medium\n",
      "greater: great\n"
     ]
    }
   ],
   "source": [
    "from textblob import Word\n",
    "\n",
    "word1 = Word(\"apples\")\n",
    "print(\"apples:\", word1.lemmatize())\n",
    "\n",
    "word2 = Word(\"media\")\n",
    "print(\"media:\", word2.lemmatize())\n",
    "\n",
    "word3 = Word(\"greater\")\n",
    "print(\"greater:\", word3.lemmatize(\"a\"))"
   ]
  },
  {
   "cell_type": "code",
   "execution_count": null,
   "metadata": {},
   "outputs": [],
   "source": [
    "Еще Наташа и пайморфи работают с русскими текстами"
   ]
  },
  {
   "cell_type": "markdown",
   "metadata": {},
   "source": [
    "В приведенном выше сценарии мы выполняем лемматизацию слов «apples», «media» и «greater». В выходных данных вы видите слова «apple» (в единственном числе), «medium» (в единственном числе) и «great» (безотносительно степени, как в слове «greater»). Обратите внимание, что для слова «greater» мы передаем «a» в качестве параметра методу лемматизации. Это конкретно говорит методу, что слово следует рассматривать как прилагательное (adjective). По умолчанию метод lemmatize () слова считает слова существительными ."
   ]
  },
  {
   "cell_type": "markdown",
   "metadata": {},
   "source": [
    "## Анализ частей речи aka Parts of Speech (POS) Tagging\n",
    "\n",
    "Это лежит в атрибуте tags нашего объекта.\n",
    "Что это за сокращения такие, смотреть [тут](https://www.ling.upenn.edu/courses/Fall_2003/ling001/penn_treebank_pos.html)"
   ]
  },
  {
   "cell_type": "code",
   "execution_count": 14,
   "metadata": {},
   "outputs": [
    {
     "name": "stdout",
     "output_type": "stream",
     "text": [
      "THIS => NNP\n",
      "is => VBZ\n",
      "the => DT\n",
      "saddest => JJS\n",
      "story => NN\n",
      "I => PRP\n",
      "have => VBP\n",
      "ever => RB\n",
      "heard => VBN\n",
      "We => PRP\n",
      "had => VBD\n",
      "known => VBN\n",
      "the => DT\n",
      "Ashburnhams => NNP\n",
      "for => IN\n",
      "nine => CD\n",
      "seasons => NNS\n",
      "of => IN\n",
      "the => DT\n",
      "town => NN\n",
      "of => IN\n",
      "Nauheim => NNP\n",
      "with => IN\n",
      "an => DT\n",
      "extreme => JJ\n",
      "intimacy—or => NN\n",
      "rather => RB\n",
      "with => IN\n",
      "an => DT\n",
      "acquaintanceship => NN\n",
      "as => IN\n",
      "loose => JJ\n",
      "and => CC\n",
      "easy => JJ\n",
      "and => CC\n",
      "yet => RB\n",
      "as => RB\n",
      "close => RB\n",
      "as => IN\n",
      "a => DT\n",
      "good => JJ\n",
      "glove => NN\n",
      "'s => POS\n",
      "with => IN\n",
      "your => PRP$\n",
      "hand => NN\n",
      "My => PRP$\n",
      "wife => NN\n",
      "and => CC\n",
      "I => PRP\n",
      "knew => VBD\n",
      "Captain => NNP\n",
      "and => CC\n",
      "Mrs => NNP\n",
      "Ashburnham => NNP\n",
      "as => RB\n",
      "well => RB\n",
      "as => IN\n",
      "it => PRP\n",
      "was => VBD\n",
      "possible => JJ\n",
      "to => TO\n",
      "know => VB\n",
      "anybody => NN\n",
      "and => CC\n",
      "yet => RB\n",
      "in => IN\n",
      "another => DT\n",
      "sense => NN\n",
      "we => PRP\n",
      "knew => VBD\n",
      "nothing => NN\n",
      "at => IN\n",
      "all => DT\n",
      "about => IN\n",
      "them => PRP\n",
      "This => DT\n",
      "is => VBZ\n",
      "I => PRP\n",
      "believe => VBP\n",
      "a => DT\n",
      "state => NN\n",
      "of => IN\n",
      "things => NNS\n",
      "only => RB\n",
      "possible => JJ\n",
      "with => IN\n",
      "English => JJ\n",
      "people => NNS\n",
      "of => IN\n",
      "whom => WP\n",
      "till => NN\n",
      "today => NN\n",
      "when => WRB\n",
      "I => PRP\n",
      "sit => VBP\n",
      "down => RP\n",
      "to => TO\n",
      "puzzle => VB\n",
      "out => RP\n",
      "what => WP\n",
      "I => PRP\n",
      "know => VBP\n",
      "of => IN\n",
      "this => DT\n",
      "sad => JJ\n",
      "affair => NN\n",
      "I => PRP\n",
      "knew => VBD\n",
      "nothing => NN\n",
      "whatever => NN\n",
      "Six => CD\n",
      "months => NNS\n",
      "ago => IN\n",
      "I => PRP\n",
      "had => VBD\n",
      "never => RB\n",
      "been => VBN\n",
      "to => TO\n",
      "England => NNP\n",
      "and => CC\n",
      "certainly => RB\n",
      "I => PRP\n",
      "had => VBD\n",
      "never => RB\n",
      "sounded => VBN\n",
      "the => DT\n",
      "depths => NNS\n",
      "of => IN\n",
      "an => DT\n",
      "English => JJ\n",
      "heart => NN\n",
      "I => PRP\n",
      "had => VBD\n",
      "known => VBN\n",
      "the => DT\n",
      "shallows => NNS\n"
     ]
    }
   ],
   "source": [
    "for word, pos in text_blob_object.tags:\n",
    "    print(word + \" => \" + pos)"
   ]
  },
  {
   "cell_type": "markdown",
   "metadata": {},
   "source": [
    "## Преобразование текста в единственном и множественном числе\n",
    "\n",
    "TextBlob также позволяет вам преобразовывать слова текста во множественное или единственное число, используя методы pluralize и singularize, соответственно. Пример:"
   ]
  },
  {
   "cell_type": "code",
   "execution_count": 15,
   "metadata": {
    "scrolled": true
   },
   "outputs": [
    {
     "name": "stdout",
     "output_type": "stream",
     "text": [
      "['Footballs', 'iss', 'some', 'goods', 'games', 'Its', 'hass', 'twoes', 'healths', 'benefitss']\n",
      "['Football', 'is', 'a', 'good', 'game', 'It', 'ha', 'many', 'health', 'benefit']\n"
     ]
    }
   ],
   "source": [
    "text = (\"Football is a good game. It has two health benefits\")\n",
    "text_blob_object = TextBlob(text)\n",
    "print(text_blob_object.words.pluralize())\n",
    "\n",
    "text = (\"Footballs is a goods games. Its has many healths benefits\")\n",
    "text_blob_object = TextBlob(text)\n",
    "print(text_blob_object.words.singularize())"
   ]
  },
  {
   "cell_type": "code",
   "execution_count": 16,
   "metadata": {},
   "outputs": [
    {
     "data": {
      "text/plain": [
       "WordList(['nebulae'])"
      ]
     },
     "execution_count": 16,
     "metadata": {},
     "output_type": "execute_result"
    }
   ],
   "source": [
    "text = (\"nebula\")\n",
    "text_blob_object = TextBlob(text)\n",
    "text_blob_object.words.pluralize()"
   ]
  },
  {
   "cell_type": "markdown",
   "metadata": {},
   "source": [
    "## Подсчет количества слов и фраз\n",
    "\n",
    "В предыдущем разделе мы использовали встроенную в Python функцию len для подсчета количества предложений, слов и словосочетаний, возвращаемых объектом TextBlob. Мы можем использовать встроенные методы TextBlob для той же цели.\n",
    "\n",
    "Чтобы найти частоту появления конкретного слова, мы должны передать имя слова в качестве индекса в список word_counts объекта TextBlob."
   ]
  },
  {
   "cell_type": "code",
   "execution_count": 17,
   "metadata": {},
   "outputs": [
    {
     "data": {
      "text/plain": [
       "\"THIS is the saddest story I have ever heard. We had known the Ashburnhams             for nine seasons of the town of Nauheim with an extreme intimacy—or, rather with an            acquaintanceship as loose and easy and yet as close as a good glove's with your hand.             My wife and I knew Captain and Mrs Ashburnham as well as it was possible to know anybody,             and yet, in another sense, we knew nothing at all about them. This is, I believe, a state of             things only possible with English people of whom, till today, when I sit down to puzzle out             what I know of this sad affair, I knew nothing whatever. Six months ago I had never been to England,            and, certainly, I had never sounded the depths of an English heart. I had known the shallows.\""
      ]
     },
     "execution_count": 17,
     "metadata": {},
     "output_type": "execute_result"
    }
   ],
   "source": [
    "document"
   ]
  },
  {
   "cell_type": "code",
   "execution_count": 18,
   "metadata": {},
   "outputs": [
    {
     "data": {
      "text/plain": [
       "2"
      ]
     },
     "execution_count": 18,
     "metadata": {},
     "output_type": "execute_result"
    }
   ],
   "source": [
    "text_blob_object = TextBlob(document)\n",
    "text_blob_object.word_counts['know']"
   ]
  },
  {
   "cell_type": "markdown",
   "metadata": {},
   "source": [
    "Поиск по умолчанию, как видим, регистронезависимый."
   ]
  },
  {
   "cell_type": "code",
   "execution_count": 23,
   "metadata": {},
   "outputs": [
    {
     "data": {
      "text/plain": [
       "0"
      ]
     },
     "execution_count": 23,
     "metadata": {},
     "output_type": "execute_result"
    }
   ],
   "source": [
    "text_blob_object.words.count('Know', case_sensitive = True)"
   ]
  },
  {
   "cell_type": "markdown",
   "metadata": {},
   "source": [
    "## Поиск N-грамм\n",
    "\n",
    "N-граммы – комбинации n рядом стоящих слов в предложении. Например, для предложения «Я люблю смотреть футбол» биграммы будут такие:\n",
    "\n",
    "(я люблю), (люблю смотреть) и (смотреть футбол). N-граммы часто играют решающую роль при классификации текстов.\n",
    "\n",
    "В TextBlob N-граммы можно найти, передав число N в метод ngrams объекта TextBlob. Пример:"
   ]
  },
  {
   "cell_type": "code",
   "execution_count": 19,
   "metadata": {
    "scrolled": true
   },
   "outputs": [
    {
     "name": "stdout",
     "output_type": "stream",
     "text": [
      "['Who', 'could']\n",
      "['could', 'ponder']\n",
      "['ponder', 'equations']\n",
      "['equations', 'when']\n",
      "['when', 'he']\n",
      "['he', 'had']\n",
      "['had', 'a']\n",
      "['a', 'chance']\n",
      "['chance', 'to']\n",
      "['to', 'imagine']\n",
      "['imagine', 'dragons']\n",
      "['dragons', 'Never']\n",
      "['Never', 'have']\n",
      "['have', 'i']\n",
      "['i', 'tried']\n",
      "['tried', 'to']\n",
      "['to', 'do']\n",
      "['do', 'so']\n"
     ]
    }
   ],
   "source": [
    "text = \"Who could ponder equations when he had a chance to imagine dragons. Never have i tried to do so.\"\n",
    "text_blob_object = TextBlob(text)\n",
    "for ngram in text_blob_object.ngrams(2):\n",
    "    print(ngram)"
   ]
  },
  {
   "cell_type": "markdown",
   "metadata": {},
   "source": [
    "## Исправление орфографии\n",
    "\n",
    "Корректировка орфографии является одной из уникальных функций библиотеки TextBlob. С помощью соответствующего метода объекта TextBlob вы можете исправить все орфографические ошибки в вашем тексте. Пример:"
   ]
  },
  {
   "cell_type": "code",
   "execution_count": 20,
   "metadata": {},
   "outputs": [
    {
     "name": "stdout",
     "output_type": "stream",
     "text": [
      "I love to watсhrf football, but I have never played it\n"
     ]
    }
   ],
   "source": [
    "text = \"I lоve to watсhrf footbal, but I have neter played it\"\n",
    "text_blob_object = TextBlob(text)\n",
    "\n",
    "print(text_blob_object.correct())"
   ]
  },
  {
   "cell_type": "markdown",
   "metadata": {},
   "source": [
    "## Анализ тональности\n",
    "\n",
    "В этом разделе мы проанализируем мнение общественности о различных продуктах, купленных через Amazon. Для этого мы будем использовать анализатор тональности TextBlob.\n",
    "\n",
    "Набор данных можно скачать по этой [ссылке](https://www.kaggle.com/sdxingaijing/topic-model-lda-algorithm/data) или по этой [ссылке](https://drive.google.com/file/d/14KCW5bT1lnCM_fWR4NcyeItAl6Nwx6Qe/view?usp=sharing).\n",
    "\n",
    "В качестве первого шага нам нужно импортировать набор данных. Мы импортируем только первые 20 000 - слишком уж большие данные. Вы можете импортировать больше записей, если хотите. Следующий скрипт импортирует набор данных:"
   ]
  },
  {
   "cell_type": "code",
   "execution_count": 21,
   "metadata": {},
   "outputs": [],
   "source": [
    "import pandas as pd\n",
    "\n",
    "reviews_datasets = pd.read_csv('Reviews.csv')"
   ]
  },
  {
   "cell_type": "code",
   "execution_count": 22,
   "metadata": {
    "scrolled": true
   },
   "outputs": [
    {
     "data": {
      "text/plain": [
       "(568454, 10)"
      ]
     },
     "execution_count": 22,
     "metadata": {},
     "output_type": "execute_result"
    }
   ],
   "source": [
    "reviews_datasets.shape"
   ]
  },
  {
   "cell_type": "code",
   "execution_count": 23,
   "metadata": {},
   "outputs": [],
   "source": [
    "reviews_datasets = reviews_datasets.head(20000)"
   ]
  },
  {
   "cell_type": "code",
   "execution_count": 25,
   "metadata": {},
   "outputs": [
    {
     "data": {
      "text/html": [
       "<div>\n",
       "<style scoped>\n",
       "    .dataframe tbody tr th:only-of-type {\n",
       "        vertical-align: middle;\n",
       "    }\n",
       "\n",
       "    .dataframe tbody tr th {\n",
       "        vertical-align: top;\n",
       "    }\n",
       "\n",
       "    .dataframe thead th {\n",
       "        text-align: right;\n",
       "    }\n",
       "</style>\n",
       "<table border=\"1\" class=\"dataframe\">\n",
       "  <thead>\n",
       "    <tr style=\"text-align: right;\">\n",
       "      <th></th>\n",
       "      <th>Id</th>\n",
       "      <th>ProductId</th>\n",
       "      <th>UserId</th>\n",
       "      <th>ProfileName</th>\n",
       "      <th>HelpfulnessNumerator</th>\n",
       "      <th>HelpfulnessDenominator</th>\n",
       "      <th>Score</th>\n",
       "      <th>Time</th>\n",
       "      <th>Summary</th>\n",
       "      <th>Text</th>\n",
       "    </tr>\n",
       "  </thead>\n",
       "  <tbody>\n",
       "    <tr>\n",
       "      <th>0</th>\n",
       "      <td>1</td>\n",
       "      <td>B001E4KFG0</td>\n",
       "      <td>A3SGXH7AUHU8GW</td>\n",
       "      <td>delmartian</td>\n",
       "      <td>1</td>\n",
       "      <td>1</td>\n",
       "      <td>5</td>\n",
       "      <td>1303862400</td>\n",
       "      <td>Good Quality Dog Food</td>\n",
       "      <td>I have bought several of the Vitality canned d...</td>\n",
       "    </tr>\n",
       "    <tr>\n",
       "      <th>1</th>\n",
       "      <td>2</td>\n",
       "      <td>B00813GRG4</td>\n",
       "      <td>A1D87F6ZCVE5NK</td>\n",
       "      <td>dll pa</td>\n",
       "      <td>0</td>\n",
       "      <td>0</td>\n",
       "      <td>1</td>\n",
       "      <td>1346976000</td>\n",
       "      <td>Not as Advertised</td>\n",
       "      <td>Product arrived labeled as Jumbo Salted Peanut...</td>\n",
       "    </tr>\n",
       "    <tr>\n",
       "      <th>2</th>\n",
       "      <td>3</td>\n",
       "      <td>B000LQOCH0</td>\n",
       "      <td>ABXLMWJIXXAIN</td>\n",
       "      <td>Natalia Corres \"Natalia Corres\"</td>\n",
       "      <td>1</td>\n",
       "      <td>1</td>\n",
       "      <td>4</td>\n",
       "      <td>1219017600</td>\n",
       "      <td>\"Delight\" says it all</td>\n",
       "      <td>This is a confection that has been around a fe...</td>\n",
       "    </tr>\n",
       "    <tr>\n",
       "      <th>3</th>\n",
       "      <td>4</td>\n",
       "      <td>B000UA0QIQ</td>\n",
       "      <td>A395BORC6FGVXV</td>\n",
       "      <td>Karl</td>\n",
       "      <td>3</td>\n",
       "      <td>3</td>\n",
       "      <td>2</td>\n",
       "      <td>1307923200</td>\n",
       "      <td>Cough Medicine</td>\n",
       "      <td>If you are looking for the secret ingredient i...</td>\n",
       "    </tr>\n",
       "    <tr>\n",
       "      <th>4</th>\n",
       "      <td>5</td>\n",
       "      <td>B006K2ZZ7K</td>\n",
       "      <td>A1UQRSCLF8GW1T</td>\n",
       "      <td>Michael D. Bigham \"M. Wassir\"</td>\n",
       "      <td>0</td>\n",
       "      <td>0</td>\n",
       "      <td>5</td>\n",
       "      <td>1350777600</td>\n",
       "      <td>Great taffy</td>\n",
       "      <td>Great taffy at a great price.  There was a wid...</td>\n",
       "    </tr>\n",
       "  </tbody>\n",
       "</table>\n",
       "</div>"
      ],
      "text/plain": [
       "   Id   ProductId          UserId                      ProfileName  \\\n",
       "0   1  B001E4KFG0  A3SGXH7AUHU8GW                       delmartian   \n",
       "1   2  B00813GRG4  A1D87F6ZCVE5NK                           dll pa   \n",
       "2   3  B000LQOCH0   ABXLMWJIXXAIN  Natalia Corres \"Natalia Corres\"   \n",
       "3   4  B000UA0QIQ  A395BORC6FGVXV                             Karl   \n",
       "4   5  B006K2ZZ7K  A1UQRSCLF8GW1T    Michael D. Bigham \"M. Wassir\"   \n",
       "\n",
       "   HelpfulnessNumerator  HelpfulnessDenominator  Score        Time  \\\n",
       "0                     1                       1      5  1303862400   \n",
       "1                     0                       0      1  1346976000   \n",
       "2                     1                       1      4  1219017600   \n",
       "3                     3                       3      2  1307923200   \n",
       "4                     0                       0      5  1350777600   \n",
       "\n",
       "                 Summary                                               Text  \n",
       "0  Good Quality Dog Food  I have bought several of the Vitality canned d...  \n",
       "1      Not as Advertised  Product arrived labeled as Jumbo Salted Peanut...  \n",
       "2  \"Delight\" says it all  This is a confection that has been around a fe...  \n",
       "3         Cough Medicine  If you are looking for the secret ingredient i...  \n",
       "4            Great taffy  Great taffy at a great price.  There was a wid...  "
      ]
     },
     "execution_count": 25,
     "metadata": {},
     "output_type": "execute_result"
    }
   ],
   "source": [
    "reviews_datasets.head(5)"
   ]
  },
  {
   "cell_type": "markdown",
   "metadata": {},
   "source": [
    "Текстовый обзор о еде содержится в столбце «Text». Столбец Score содержит оценки пользователя для конкретного продукта, где 1 - самый низкий, а 5 - самый высокий рейтинг.\n",
    "\n",
    "Давайте посмотрим распределение рейтинга:"
   ]
  },
  {
   "cell_type": "code",
   "execution_count": 26,
   "metadata": {},
   "outputs": [
    {
     "data": {
      "image/png": "[encoded data removed]",
      "text/plain": [
       "<Figure size 640x480 with 1 Axes>"
      ]
     },
     "metadata": {},
     "output_type": "display_data"
    }
   ],
   "source": [
    "import seaborn as sns\n",
    "import matplotlib.pyplot as plt\n",
    "%matplotlib inline\n",
    "sns.distplot(reviews_datasets['Score']);"
   ]
  },
  {
   "cell_type": "markdown",
   "metadata": {},
   "source": [
    "Видно, что большинство рейтингов позитивные (==5). Давайте построим гистограмму для рейтингов, чтобы взглянуть на количество записей для каждого рейтинга."
   ]
  },
  {
   "cell_type": "code",
   "execution_count": 27,
   "metadata": {},
   "outputs": [
    {
     "data": {
      "image/png": "[encoded data removed]",
      "text/plain": [
       "<Figure size 640x480 with 1 Axes>"
      ]
     },
     "metadata": {},
     "output_type": "display_data"
    }
   ],
   "source": [
    "sns.countplot(x='Score', data=reviews_datasets);"
   ]
  },
  {
   "cell_type": "markdown",
   "metadata": {},
   "source": [
    "Посмотрим глазами на произвольный отзыв"
   ]
  },
  {
   "cell_type": "code",
   "execution_count": 28,
   "metadata": {},
   "outputs": [],
   "source": [
    "pd.set_option('display.max_colwidth', None) # показ длинных строк в таблице в консоли"
   ]
  },
  {
   "cell_type": "code",
   "execution_count": 29,
   "metadata": {
    "scrolled": true
   },
   "outputs": [
    {
     "data": {
      "text/html": [
       "<div>\n",
       "<style scoped>\n",
       "    .dataframe tbody tr th:only-of-type {\n",
       "        vertical-align: middle;\n",
       "    }\n",
       "\n",
       "    .dataframe tbody tr th {\n",
       "        vertical-align: top;\n",
       "    }\n",
       "\n",
       "    .dataframe thead th {\n",
       "        text-align: right;\n",
       "    }\n",
       "</style>\n",
       "<table border=\"1\" class=\"dataframe\">\n",
       "  <thead>\n",
       "    <tr style=\"text-align: right;\">\n",
       "      <th></th>\n",
       "      <th>Id</th>\n",
       "      <th>ProductId</th>\n",
       "      <th>UserId</th>\n",
       "      <th>ProfileName</th>\n",
       "      <th>HelpfulnessNumerator</th>\n",
       "      <th>HelpfulnessDenominator</th>\n",
       "      <th>Score</th>\n",
       "      <th>Time</th>\n",
       "      <th>Summary</th>\n",
       "      <th>Text</th>\n",
       "    </tr>\n",
       "  </thead>\n",
       "  <tbody>\n",
       "    <tr>\n",
       "      <th>350</th>\n",
       "      <td>351</td>\n",
       "      <td>B00067AD4U</td>\n",
       "      <td>A7DSY3M6P6RG3</td>\n",
       "      <td>taza052007</td>\n",
       "      <td>0</td>\n",
       "      <td>0</td>\n",
       "      <td>5</td>\n",
       "      <td>1181692800</td>\n",
       "      <td>These are the Best!</td>\n",
       "      <td>These chocolate covered espresso beans are wonderful!  The chocolate is very dark and rich and the \"bean\" inside is a very delightful blend of flavors with just enough caffine to really give it a zing.</td>\n",
       "    </tr>\n",
       "  </tbody>\n",
       "</table>\n",
       "</div>"
      ],
      "text/plain": [
       "      Id   ProductId         UserId ProfileName  HelpfulnessNumerator  \\\n",
       "350  351  B00067AD4U  A7DSY3M6P6RG3  taza052007                     0   \n",
       "\n",
       "     HelpfulnessDenominator  Score        Time              Summary  \\\n",
       "350                       0      5  1181692800  These are the Best!   \n",
       "\n",
       "                                                                                                                                                                                                          Text  \n",
       "350  These chocolate covered espresso beans are wonderful!  The chocolate is very dark and rich and the \"bean\" inside is a very delightful blend of flavors with just enough caffine to really give it a zing.  "
      ]
     },
     "execution_count": 29,
     "metadata": {},
     "output_type": "execute_result"
    }
   ],
   "source": [
    "reviews_datasets[reviews_datasets.index==350]"
   ]
  },
  {
   "cell_type": "markdown",
   "metadata": {},
   "source": [
    "Похоже, что отзыв положительный. Давайте проверим это с помощью библиотеки TextBlob. Чтобы найти тональность, мы должны использовать атрибут sentiment объекта TextBlob. Объект sentiment возвращает кортеж, который с тональностью и субъективностью отзыва.\n",
    "\n",
    "Значение тональности может быть между -1 и 1, когда отзывы отрицательные, и тональность должна быть <0, когда же отзывы положительнеые, и тональность должна быть >0.\n",
    "\n",
    "Значение субъективности может быть между 0 и 1. Субъективность количественно определяет долю личного мнения и фактической информации, содержащейся в тексте. Более высокая субъективность означает, что текст содержит личное мнение, а не фактическую информацию."
   ]
  },
  {
   "cell_type": "code",
   "execution_count": 30,
   "metadata": {},
   "outputs": [
    {
     "data": {
      "text/plain": [
       "'These chocolate covered espresso beans are wonderful!  The chocolate is very dark and rich and the \"bean\" inside is a very delightful blend of flavors with just enough caffine to really give it a zing.'"
      ]
     },
     "execution_count": 30,
     "metadata": {},
     "output_type": "execute_result"
    }
   ],
   "source": [
    "reviews_datasets['Text'][350]"
   ]
  },
  {
   "cell_type": "code",
   "execution_count": 31,
   "metadata": {},
   "outputs": [
    {
     "name": "stdout",
     "output_type": "stream",
     "text": [
      "Sentiment(polarity=0.39666666666666667, subjectivity=0.6616666666666667)\n"
     ]
    }
   ],
   "source": [
    "text_blob_object = TextBlob(reviews_datasets['Text'][350])\n",
    "print(text_blob_object.sentiment)"
   ]
  },
  {
   "cell_type": "markdown",
   "metadata": {},
   "source": [
    "Отзыв положительный с высокой субъективностью.\n",
    "\n",
    "Давайте добавим столбец тональности в наш набор данных."
   ]
  },
  {
   "cell_type": "code",
   "execution_count": 32,
   "metadata": {},
   "outputs": [],
   "source": [
    "pd.options.display.max_colwidth = 100"
   ]
  },
  {
   "cell_type": "code",
   "execution_count": 33,
   "metadata": {},
   "outputs": [
    {
     "data": {
      "text/html": [
       "<div>\n",
       "<style scoped>\n",
       "    .dataframe tbody tr th:only-of-type {\n",
       "        vertical-align: middle;\n",
       "    }\n",
       "\n",
       "    .dataframe tbody tr th {\n",
       "        vertical-align: top;\n",
       "    }\n",
       "\n",
       "    .dataframe thead th {\n",
       "        text-align: right;\n",
       "    }\n",
       "</style>\n",
       "<table border=\"1\" class=\"dataframe\">\n",
       "  <thead>\n",
       "    <tr style=\"text-align: right;\">\n",
       "      <th></th>\n",
       "      <th>Id</th>\n",
       "      <th>ProductId</th>\n",
       "      <th>UserId</th>\n",
       "      <th>ProfileName</th>\n",
       "      <th>HelpfulnessNumerator</th>\n",
       "      <th>HelpfulnessDenominator</th>\n",
       "      <th>Score</th>\n",
       "      <th>Time</th>\n",
       "      <th>Summary</th>\n",
       "      <th>Text</th>\n",
       "      <th>Sentiment_Polarity</th>\n",
       "    </tr>\n",
       "  </thead>\n",
       "  <tbody>\n",
       "    <tr>\n",
       "      <th>0</th>\n",
       "      <td>1</td>\n",
       "      <td>B001E4KFG0</td>\n",
       "      <td>A3SGXH7AUHU8GW</td>\n",
       "      <td>delmartian</td>\n",
       "      <td>1</td>\n",
       "      <td>1</td>\n",
       "      <td>5</td>\n",
       "      <td>1303862400</td>\n",
       "      <td>Good Quality Dog Food</td>\n",
       "      <td>I have bought several of the Vitality canned dog food products and have found them all to be of ...</td>\n",
       "      <td>0.450000</td>\n",
       "    </tr>\n",
       "    <tr>\n",
       "      <th>1</th>\n",
       "      <td>2</td>\n",
       "      <td>B00813GRG4</td>\n",
       "      <td>A1D87F6ZCVE5NK</td>\n",
       "      <td>dll pa</td>\n",
       "      <td>0</td>\n",
       "      <td>0</td>\n",
       "      <td>1</td>\n",
       "      <td>1346976000</td>\n",
       "      <td>Not as Advertised</td>\n",
       "      <td>Product arrived labeled as Jumbo Salted Peanuts...the peanuts were actually small sized unsalted...</td>\n",
       "      <td>-0.033333</td>\n",
       "    </tr>\n",
       "    <tr>\n",
       "      <th>2</th>\n",
       "      <td>3</td>\n",
       "      <td>B000LQOCH0</td>\n",
       "      <td>ABXLMWJIXXAIN</td>\n",
       "      <td>Natalia Corres \"Natalia Corres\"</td>\n",
       "      <td>1</td>\n",
       "      <td>1</td>\n",
       "      <td>4</td>\n",
       "      <td>1219017600</td>\n",
       "      <td>\"Delight\" says it all</td>\n",
       "      <td>This is a confection that has been around a few centuries.  It is a light, pillowy citrus gelati...</td>\n",
       "      <td>0.133571</td>\n",
       "    </tr>\n",
       "    <tr>\n",
       "      <th>3</th>\n",
       "      <td>4</td>\n",
       "      <td>B000UA0QIQ</td>\n",
       "      <td>A395BORC6FGVXV</td>\n",
       "      <td>Karl</td>\n",
       "      <td>3</td>\n",
       "      <td>3</td>\n",
       "      <td>2</td>\n",
       "      <td>1307923200</td>\n",
       "      <td>Cough Medicine</td>\n",
       "      <td>If you are looking for the secret ingredient in Robitussin I believe I have found it.  I got thi...</td>\n",
       "      <td>0.166667</td>\n",
       "    </tr>\n",
       "    <tr>\n",
       "      <th>4</th>\n",
       "      <td>5</td>\n",
       "      <td>B006K2ZZ7K</td>\n",
       "      <td>A1UQRSCLF8GW1T</td>\n",
       "      <td>Michael D. Bigham \"M. Wassir\"</td>\n",
       "      <td>0</td>\n",
       "      <td>0</td>\n",
       "      <td>5</td>\n",
       "      <td>1350777600</td>\n",
       "      <td>Great taffy</td>\n",
       "      <td>Great taffy at a great price.  There was a wide assortment of yummy taffy.  Delivery was very qu...</td>\n",
       "      <td>0.483333</td>\n",
       "    </tr>\n",
       "  </tbody>\n",
       "</table>\n",
       "</div>"
      ],
      "text/plain": [
       "   Id   ProductId          UserId                      ProfileName  \\\n",
       "0   1  B001E4KFG0  A3SGXH7AUHU8GW                       delmartian   \n",
       "1   2  B00813GRG4  A1D87F6ZCVE5NK                           dll pa   \n",
       "2   3  B000LQOCH0   ABXLMWJIXXAIN  Natalia Corres \"Natalia Corres\"   \n",
       "3   4  B000UA0QIQ  A395BORC6FGVXV                             Karl   \n",
       "4   5  B006K2ZZ7K  A1UQRSCLF8GW1T    Michael D. Bigham \"M. Wassir\"   \n",
       "\n",
       "   HelpfulnessNumerator  HelpfulnessDenominator  Score        Time  \\\n",
       "0                     1                       1      5  1303862400   \n",
       "1                     0                       0      1  1346976000   \n",
       "2                     1                       1      4  1219017600   \n",
       "3                     3                       3      2  1307923200   \n",
       "4                     0                       0      5  1350777600   \n",
       "\n",
       "                 Summary  \\\n",
       "0  Good Quality Dog Food   \n",
       "1      Not as Advertised   \n",
       "2  \"Delight\" says it all   \n",
       "3         Cough Medicine   \n",
       "4            Great taffy   \n",
       "\n",
       "                                                                                                  Text  \\\n",
       "0  I have bought several of the Vitality canned dog food products and have found them all to be of ...   \n",
       "1  Product arrived labeled as Jumbo Salted Peanuts...the peanuts were actually small sized unsalted...   \n",
       "2  This is a confection that has been around a few centuries.  It is a light, pillowy citrus gelati...   \n",
       "3  If you are looking for the secret ingredient in Robitussin I believe I have found it.  I got thi...   \n",
       "4  Great taffy at a great price.  There was a wide assortment of yummy taffy.  Delivery was very qu...   \n",
       "\n",
       "   Sentiment_Polarity  \n",
       "0            0.450000  \n",
       "1           -0.033333  \n",
       "2            0.133571  \n",
       "3            0.166667  \n",
       "4            0.483333  "
      ]
     },
     "execution_count": 33,
     "metadata": {},
     "output_type": "execute_result"
    }
   ],
   "source": [
    "def find_polarity(review):\n",
    "    return TextBlob(review).sentiment.polarity\n",
    "\n",
    "reviews_datasets['Sentiment_Polarity'] = reviews_datasets['Text'].apply(find_polarity)\n",
    "reviews_datasets.head()"
   ]
  },
  {
   "cell_type": "markdown",
   "metadata": {},
   "source": [
    "Посмотрим на распределение отзывов по полярности:"
   ]
  },
  {
   "cell_type": "code",
   "execution_count": 39,
   "metadata": {},
   "outputs": [
    {
     "data": {
      "image/png": "[encoded data removed]",
      "text/plain": [
       "<Figure size 432x288 with 1 Axes>"
      ]
     },
     "metadata": {
      "needs_background": "light"
     },
     "output_type": "display_data"
    }
   ],
   "source": [
    "sns.distplot(reviews_datasets['Sentiment_Polarity']);"
   ]
  },
  {
   "cell_type": "markdown",
   "metadata": {},
   "source": [
    "Из приведенного выше рисунка видно, что большинство отзывов являются положительными и имеют полярность от 0 до 0,5. Это естественно, так как большинство отзывов в наборе данных имеют 5-звездочные рейтинги.\n",
    "\n",
    "Давайте построим среднюю полярность для каждого рейтинга."
   ]
  },
  {
   "cell_type": "code",
   "execution_count": 34,
   "metadata": {},
   "outputs": [
    {
     "data": {
      "image/png": "[encoded data removed]",
      "text/plain": [
       "<Figure size 900x600 with 1 Axes>"
      ]
     },
     "metadata": {},
     "output_type": "display_data"
    }
   ],
   "source": [
    "plt.figure(figsize=(9,6))\n",
    "ax = sns.barplot(x='Score', y='Sentiment_Polarity', data=reviews_datasets);"
   ]
  },
  {
   "cell_type": "markdown",
   "metadata": {},
   "source": [
    "Результат показывает, что отзывы с высокими баллами имеют высокую положительную полярность.\n",
    "\n",
    "Давайте теперь посмотрим на некоторые из самых негативных отзывов, то есть на отзывы с полярностью -1."
   ]
  },
  {
   "cell_type": "code",
   "execution_count": 35,
   "metadata": {},
   "outputs": [
    {
     "name": "stdout",
     "output_type": "stream",
     "text": [
      "545     These chips are nasty.  I thought someone had spilled a drink in the bag, no the chips were just...\n",
      "1083    All my fault. I thought this would be a carton of 3 boxes of cereal.  Instead it was 1 box of ce...\n",
      "1832    Pop Chips are basically a horribly over-priced version of \"Munchos\" which are baked potato chips...\n",
      "2087    I do not consider Gingerbread, Spicy Eggnog, Caramel Apple Cider, Spiced Apple Cider summer item...\n",
      "2763       This popcorn has alot of hulls I order 4 bags and can't stand to eat it it's so hully - terrible\n",
      "Name: Text, dtype: object\n"
     ]
    }
   ],
   "source": [
    "most_negative = reviews_datasets[reviews_datasets.Sentiment_Polarity == -1].Text.head()\n",
    "print(most_negative)"
   ]
  },
  {
   "cell_type": "code",
   "execution_count": 36,
   "metadata": {},
   "outputs": [
    {
     "data": {
      "text/plain": [
       "\"This popcorn has alot of hulls I order 4 bags and can't stand to eat it it's so hully - terrible\""
      ]
     },
     "execution_count": 36,
     "metadata": {},
     "output_type": "execute_result"
    }
   ],
   "source": [
    "reviews_datasets['Text'][2763]"
   ]
  },
  {
   "cell_type": "markdown",
   "metadata": {},
   "source": [
    "Фу, читать противно."
   ]
  },
  {
   "cell_type": "markdown",
   "metadata": {},
   "source": [
    "Посмотрим лучше на что-то позитивное:"
   ]
  },
  {
   "cell_type": "code",
   "execution_count": 43,
   "metadata": {},
   "outputs": [
    {
     "name": "stdout",
     "output_type": "stream",
     "text": [
      "106      not what I was expecting in terms of the company's reputation for excellent home delivery products\n",
      "223     This is an excellent tea.  One of the best I have ever had.  It is especially great when you pre...\n",
      "338     I like a lot of sesame oil and use it in salads regularly.  Great quality, flavor and aroma.  Ca...\n",
      "796     My mother and father were the recipient of these wonderful pieces of chocolate heaven.  They did...\n",
      "1031    The Kelloggs Muselix are delicious and the delivery was quick.<a href=\"http://www.amazon.com/gp/...\n",
      "Name: Text, dtype: object\n"
     ]
    }
   ],
   "source": [
    "most_positive = reviews_datasets[reviews_datasets.Sentiment_Polarity == 1].Text.head()\n",
    "print(most_positive)"
   ]
  },
  {
   "cell_type": "markdown",
   "metadata": {},
   "source": [
    "Пункт 106 немного настораживает. Посмотрим на него внимательно:"
   ]
  },
  {
   "cell_type": "code",
   "execution_count": 37,
   "metadata": {},
   "outputs": [
    {
     "data": {
      "text/plain": [
       "\"not what I was expecting in terms of the company's reputation for excellent home delivery products\""
      ]
     },
     "execution_count": 37,
     "metadata": {},
     "output_type": "execute_result"
    }
   ],
   "source": [
    "reviews_datasets['Text'][106]\n",
    "\n",
    "reputation for excellent - не умеет воспринимать сарказм и пожтому для него этот отзыв промаркирован как хороший на 1"
   ]
  },
  {
   "cell_type": "markdown",
   "metadata": {},
   "source": [
    "Отзыв не слишком уж положительный, но ему была назначена полярность 1 из-за присутствия таких слов, как «excellent» и «reputation». Важно знать, что анализатор настроений не на 100% защищен от ошибок и в некоторых случаях может предсказать неверную тональность. Но и правильно предсказывать он тоже умеет :)"
   ]
  },
  {
   "cell_type": "code",
   "execution_count": 38,
   "metadata": {},
   "outputs": [
    {
     "data": {
      "text/plain": [
       "'This is an excellent tea.  One of the best I have ever had.  It is especially great when you prepare it with a samovar.'"
      ]
     },
     "execution_count": 38,
     "metadata": {},
     "output_type": "execute_result"
    }
   ],
   "source": [
    "reviews_datasets['Text'][223]"
   ]
  },
  {
   "cell_type": "markdown",
   "metadata": {},
   "source": [
    "В действительности вышеизложенный Sentiment-analysis, зашитый в TextBlob, это предобученный Наивный Байесовский Классификатор (звучит сложновато и немного уничижительно, но это не страшно). Ниже ссылки-доказательства моего утверждения :) \n",
    "\n",
    "[Proof link StackOverflow](https://stackoverflow.com/questions/43871019/polarity-calculation-in-sentiment-analysis-using-textblob)\n",
    "\n",
    "[Ссылка на код в TextBlob](https://github.com/sloria/TextBlob/blob/90cc87ab0f9e25f37379079840ec43aba59af440/textblob/en/sentiments.py)\n",
    "\n",
    "[Ссылка на код в NLTK](http://www.nltk.org/_modules/nltk/classify/naivebayes.html)"
   ]
  },
  {
   "cell_type": "markdown",
   "metadata": {},
   "source": [
    "Давайте разберем, что это за алгоритм такой и как он здесь используется. \n",
    "\n",
    "**Ссылки:**\n",
    "\n",
    "[Условная вероятность](https://ru.wikipedia.org/wiki/Условная_вероятность#Предельная_вероятность_равна_условной_вероятности) \\\n",
    "[Теорема Байеса](https://ru.wikipedia.org/wiki/Теорема_Байеса) \\\n",
    "[Наивный Байесовский Классификатор](https://logic.pdmi.ras.ru/~sergey/teaching/mlstc12/sem01-naivebayes.pdf)\n",
    "\n",
    "А еще можно читать [тут](https://logic.pdmi.ras.ru/~sergey/teaching/mlstc12/sem01-naivebayes.pdf)\n",
    "и [тут](https://towardsdatascience.com/naive-bayes-explained-9d2b96f4a9c0)"
   ]
  },
  {
   "cell_type": "markdown",
   "metadata": {},
   "source": [
    "Коротко о том, что тут происходит. Наивный Байесовский классификатор помогает посчитать вероятность того, что конкретное слово окажется в положительном/отрицательном отзыве. Эта вероятность от нуля до единицы. Можно перевести ее в некую величину  от -1 до 1 (простенькое отображение) и назовем эту величину полярностью/тональностью слова - тональность 1 => вероятность найти такое слово в положительном отзыве велика, тональность = -1 => вероятность найти слово в положительном отзыве крайне мала. Теперь для каждого слова из словаря у нас есть готовая вероятность. \n",
    "\n",
    "После этого делается следующее:\n",
    "\n",
    "Смотрим на новый отзыв, разбиваем его на слова. Слова могут быть:\n",
    "* Известными(с известной полярностью)\n",
    "* Неизвестными(если слова нет в словаре, TextBlob считает, что его вообще нет) или несущественными(TextBlob не берет в расчет слова типа артиклей и тд)\n",
    "* Словами-модификаторами (not, very и тд)\n",
    "\n",
    "Тональность отзыва считается так:\n",
    "1. Отбрасываем все неизвестные и несущественные слова\n",
    "2. Берем слова-модификаторы(их действие распространяется только на слово, идущее за ними) и с их помощью как-то меняем полярность следующего слова\n",
    "3. Считаем для каждого слова-не-модификатора результирующую полярность\n",
    "4. Усредняем полученную полярность для всех слов-не модификаторов. Эта усредненная оценка и будет полярностью отзыва.\n",
    "5. Готово, вы восхитительны"
   ]
  },
  {
   "cell_type": "markdown",
   "metadata": {},
   "source": [
    "Давайте разберем на примере"
   ]
  },
  {
   "cell_type": "code",
   "execution_count": 39,
   "metadata": {},
   "outputs": [
    {
     "data": {
      "text/plain": [
       "Sentiment(polarity=0.7, subjectivity=0.6000000000000001)"
      ]
     },
     "execution_count": 39,
     "metadata": {},
     "output_type": "execute_result"
    }
   ],
   "source": [
    "from textblob import TextBlob\n",
    "\n",
    "TextBlob(\"good\").sentiment"
   ]
  },
  {
   "cell_type": "markdown",
   "metadata": {},
   "source": [
    "[Здесь](https://github.com/sloria/TextBlob/blob/eb08c120d364e908646731d60b4e4c6c1712ff63/textblob/en/en-sentiment.xml) можно посмотреть слова, по которым он это делает."
   ]
  },
  {
   "cell_type": "markdown",
   "metadata": {},
   "source": [
    "А само по себе слово great?"
   ]
  },
  {
   "cell_type": "code",
   "execution_count": 43,
   "metadata": {},
   "outputs": [
    {
     "data": {
      "text/plain": [
       "Sentiment(polarity=0.8, subjectivity=0.75)"
      ]
     },
     "execution_count": 43,
     "metadata": {},
     "output_type": "execute_result"
    }
   ],
   "source": [
    "TextBlob(\"great\").sentiment"
   ]
  },
  {
   "cell_type": "code",
   "execution_count": 41,
   "metadata": {},
   "outputs": [
    {
     "data": {
      "text/plain": [
       "Sentiment(polarity=0.7, subjectivity=0.6000000000000001)"
      ]
     },
     "execution_count": 41,
     "metadata": {},
     "output_type": "execute_result"
    }
   ],
   "source": [
    "TextBlob(\"isn't good\").sentiment"
   ]
  },
  {
   "cell_type": "markdown",
   "metadata": {},
   "source": [
    "Так, добавление not умножает полярность на -0.5"
   ]
  },
  {
   "cell_type": "code",
   "execution_count": 49,
   "metadata": {},
   "outputs": [
    {
     "data": {
      "text/plain": [
       "0.9099999999999999"
      ]
     },
     "execution_count": 49,
     "metadata": {},
     "output_type": "execute_result"
    }
   ],
   "source": [
    "TextBlob(\"very good\").sentiment.polarity"
   ]
  },
  {
   "cell_type": "markdown",
   "metadata": {},
   "source": [
    "А еще у некоторых слов есть свойство intensity. только что наша полярность умножилась именно на нее"
   ]
  },
  {
   "cell_type": "code",
   "execution_count": 50,
   "metadata": {},
   "outputs": [
    {
     "data": {
      "text/plain": [
       "Sentiment(polarity=-0.3076923076923077, subjectivity=0.5769230769230769)"
      ]
     },
     "execution_count": 50,
     "metadata": {},
     "output_type": "execute_result"
    }
   ],
   "source": [
    "TextBlob(\"not very great\").sentiment"
   ]
  },
  {
   "cell_type": "markdown",
   "metadata": {},
   "source": [
    "Артикли и вспомогательные слова TextBlob игнорирует. А вот модификация здесь произошла хитрым образом:\n",
    "    \n",
    "* **polarity** = **-0.5**(not)***1/1.3**(very)***0.8**(great)\n",
    "* **subjectivity** = **1/1.3**(very)***0.75**(great)"
   ]
  },
  {
   "cell_type": "code",
   "execution_count": 51,
   "metadata": {},
   "outputs": [
    {
     "data": {
      "text/plain": [
       "Sentiment(polarity=0.2, subjectivity=0.3)"
      ]
     },
     "execution_count": 51,
     "metadata": {},
     "output_type": "execute_result"
    }
   ],
   "source": [
    "TextBlob(\"very\").sentiment"
   ]
  },
  {
   "cell_type": "markdown",
   "metadata": {},
   "source": [
    "А вот этого слова нет в словаре. И поэтому ничего не происходит)"
   ]
  },
  {
   "cell_type": "code",
   "execution_count": 52,
   "metadata": {},
   "outputs": [
    {
     "data": {
      "text/plain": [
       "Sentiment(polarity=0.0, subjectivity=0.0)"
      ]
     },
     "execution_count": 52,
     "metadata": {},
     "output_type": "execute_result"
    }
   ],
   "source": [
    "TextBlob(\"abominable\").sentiment"
   ]
  },
  {
   "cell_type": "code",
   "execution_count": 53,
   "metadata": {},
   "outputs": [
    {
     "data": {
      "text/plain": [
       "Sentiment(polarity=0.7, subjectivity=0.6000000000000001)"
      ]
     },
     "execution_count": 53,
     "metadata": {},
     "output_type": "execute_result"
    }
   ],
   "source": [
    "TextBlob(\"good\").sentiment"
   ]
  },
  {
   "cell_type": "markdown",
   "metadata": {},
   "source": [
    "Как видите, все усреднилось:"
   ]
  },
  {
   "cell_type": "code",
   "execution_count": 54,
   "metadata": {},
   "outputs": [
    {
     "data": {
      "text/plain": [
       "Sentiment(polarity=0.75, subjectivity=0.675)"
      ]
     },
     "execution_count": 54,
     "metadata": {},
     "output_type": "execute_result"
    }
   ],
   "source": [
    "TextBlob(\"great good\").sentiment"
   ]
  }
 ],
 "metadata": {
  "kernelspec": {
   "display_name": "Python 3 (ipykernel)",
   "language": "python",
   "name": "python3"
  },
  "language_info": {
   "codemirror_mode": {
    "name": "ipython",
    "version": 3
   },
   "file_extension": ".py",
   "mimetype": "text/x-python",
   "name": "python",
   "nbconvert_exporter": "python",
   "pygments_lexer": "ipython3",
   "version": "3.11.5"
  }
 },
 "nbformat": 4,
 "nbformat_minor": 4
}
