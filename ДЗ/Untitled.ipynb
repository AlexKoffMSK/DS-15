{
 "cells": [
  {
   "cell_type": "markdown",
   "id": "ada955c9",
   "metadata": {},
   "source": [
    "# LeetCode\n",
    "## OOP Классы"
   ]
  },
  {
   "cell_type": "markdown",
   "id": "cc53cb09",
   "metadata": {},
   "source": [
    "## Задача 146. LRU Cache\n",
    "https://leetcode.com/problems/lru-cache/"
   ]
  },
  {
   "cell_type": "markdown",
   "id": "d7a8c6a3",
   "metadata": {},
   "source": [
    "### Предлагаемое решение какого-то типа:\n",
    "\n",
    "oops_moment\n",
    "100 Days Badge 2023\n",
    "Поделиться\n",
    "🎉 Этот вопрос был излюбленным среди многих компаний, и, понимая подход и реализацию, вы будете хорошо подготовлены к уверенному решению этой проблемы. Итак, давайте углубимся в подход и упростим кодирование этого кэша LRU!\n",
    "\n",
    "Подход:\n",
    "\n",
    "Подход:\n",
    "\n",
    "1️⃣ Нам нужно выбрать подходящую структуру данных для проектирования нашего кэша LRU. Угадайте что? Связанный список идеально подходит для этого! Но почему связанный список, спросите вы? Что ж, связанные списки позволяют эффективно добавлять и удалять узлы, что делает их идеальными для поддержания порядка LRU. 📚\n",
    "\n",
    "Этапы реализации:\n",
    "\n",
    "1️⃣ Добавление нового узла:\n",
    "Чтобы все было организовано, давайте добавим новые узлы сразу после заголовка. Не забудьте удалить любой существующий узел с таким же ключом перед добавлением нового. 🆕\n",
    "\n",
    "2️⃣ Получение значения с помощью ключа:\n",
    "Вместо обхода всего связанного списка в поисках соответствующего узла давайте воспользуемся возможностями карты. Мы сохраним узлы на карте с их ключами в качестве значений поиска. Как только мы найдем ключ на карте, это означает, что мы его использовали, поэтому мы перемещаем соответствующий узел рядом с заголовком. 🗺️\n",
    "\n",
    "3️⃣ Удаление узла:\n",
    "Когда придет время попрощаться с узлом, давайте обязательно обновим соседние узлы, чтобы обойти удаляемый. Это гарантирует, что наш связанный список останется нетронутым. 🚫\n",
    "\n",
    "Вот и все! Благодаря реализации этих базовых функций добавления, извлечения и удаления узлов ваш кэш LRU будет обновлен.\n",
    "\n",
    "У тебя получилось! 👩‍💻. Слава, если вы зашли так далеко 💪!!!"
   ]
  },
  {
   "cell_type": "code",
   "execution_count": 5,
   "id": "66374e72",
   "metadata": {},
   "outputs": [],
   "source": [
    "class LRUCache:\n",
    "    \n",
    "    def __init__(self, capacity: int):\n",
    "        self.capacity = capacity\n",
    "        self.set_cahce = []\n",
    "        self.seq = iter(range(9999999999999999999999))\n",
    "        \n",
    "    def get(self, key: int) -> int:\n",
    "        for i in range(len(self.set_cahce)):\n",
    "            if self.set_cahce[i][0] == key:\n",
    "                self.set_cahce[i][2] = next(self.seq)\n",
    "                return self.set_cahce[i][1]\n",
    "        return -1\n",
    "            \n",
    "\n",
    "    def put(self, key: int, value: int) -> None:\n",
    "        \n",
    "        #Добавление элемента в список. С проверкой на существование ключа. Если ключ уже существует, то значение ключа перезаписываем.\n",
    "        flg = 0\n",
    "        for i in range(len(self.set_cahce)):\n",
    "            if self.set_cahce[i][0] == key:\n",
    "                flg = 1\n",
    "                self.set_cahce[i][1] = value\n",
    "                self.set_cahce[i][2] = next(self.seq)\n",
    "        if flg == 0:\n",
    "            #Удаление менее используемого элемента\n",
    "            if len(self.set_cahce) >= self.capacity:\n",
    "                minuse = 10000000000000000000000\n",
    "                minuseelem = []\n",
    "                for kv in self.set_cahce:\n",
    "                    if kv[2] < minuse:\n",
    "                        minuse = kv[2]\n",
    "                        minuseelem = kv\n",
    "                self.set_cahce.remove(minuseelem)\n",
    "            \n",
    "            self.set_cahce.append([key, value, next(self.seq)])\n",
    "            \n",
    "\n",
    "\n",
    "# Your LRUCache object will be instantiated and called as such:\n",
    "# capacity = 3\n",
    "# obj = LRUCache(capacity)\n",
    "# param_1 = obj.get(3)\n",
    "# obj.put(3,9)"
   ]
  },
  {
   "cell_type": "code",
   "execution_count": null,
   "id": "794540c9",
   "metadata": {},
   "outputs": [],
   "source": [
    "[\"LRUCache\",\"get\",\"put\",\"get\",\"put\",\"put\",\"get\",\"get\"]\n",
    "[[2],[2],[2,6],[1],[1,5],[1,2],[1],[2]]\n",
    "\n",
    "Use Testcase\n",
    "Output\n",
    "[null,-1,null,-1,null,null,2,-1]\n",
    "Expected\n",
    "[null,-1,null,-1,null,null,2,6]"
   ]
  },
  {
   "cell_type": "code",
   "execution_count": 6,
   "id": "0b4fa94a",
   "metadata": {},
   "outputs": [
    {
     "name": "stdout",
     "output_type": "stream",
     "text": [
      "-1\n",
      "-1\n",
      "2\n",
      "6\n"
     ]
    }
   ],
   "source": [
    "capacity = 2\n",
    "obj = LRUCache(capacity)\n",
    "print(obj.get(2))\n",
    "obj.put(2,6)\n",
    "print(obj.get(1))\n",
    "obj.put(1,5)\n",
    "obj.put(1,2)\n",
    "print(obj.get(1))\n",
    "print(obj.get(2))"
   ]
  },
  {
   "cell_type": "markdown",
   "id": "2d3458de",
   "metadata": {},
   "source": [
    "## Задача 225. Implement Stack using Queues\n",
    "https://leetcode.com/problems/implement-stack-using-queues/\n",
    "Implement a last-in-first-out (LIFO) stack using only two queues. The implemented stack should support all the functions of a normal stack (push, top, pop, and empty).\n",
    "\n",
    "Implement the MyStack class:\n",
    "\n",
    "void push(int x) Pushes element x to the top of the stack.\n",
    "\n",
    "int pop() Removes the element on the top of the stack and returns it.\n",
    "\n",
    "int top() Returns the element on the top of the stack.\n",
    "\n",
    "boolean empty() Returns true if the stack is empty, false otherwise."
   ]
  },
  {
   "cell_type": "code",
   "execution_count": 48,
   "id": "6070e406",
   "metadata": {},
   "outputs": [],
   "source": [
    "from collections import deque\n",
    "class MyStack:\n",
    "\n",
    "    def __init__(self):\n",
    "        self.que = deque()\n",
    "\n",
    "    def push(self, x: int) -> None:\n",
    "        self.que.append(x)\n",
    "        return\n",
    "\n",
    "    def pop(self) -> int:\n",
    "        if self.empty():\n",
    "            return None\n",
    "        else:\n",
    "            return self.que.pop()\n",
    "        \n",
    "\n",
    "    def top(self) -> int:\n",
    "        if self.empty():\n",
    "            return None\n",
    "        else:\n",
    "            return self.que[-1]\n",
    "\n",
    "    def empty(self) -> bool:\n",
    "        return len(self.que) == 0\n",
    "        \n",
    "\n",
    "\n",
    "# Your MyStack object will be instantiated and called as such:\n",
    "# obj = MyStack()\n",
    "# obj.push(x)\n",
    "# param_2 = obj.pop()\n",
    "# param_3 = obj.top()\n",
    "# param_4 = obj.empty()"
   ]
  },
  {
   "cell_type": "code",
   "execution_count": 50,
   "id": "08df4ab9",
   "metadata": {},
   "outputs": [
    {
     "name": "stdout",
     "output_type": "stream",
     "text": [
      "6\n",
      "None\n",
      "True\n"
     ]
    }
   ],
   "source": [
    "obj = MyStack()\n",
    "obj.push(6)\n",
    "print(obj.pop())\n",
    "print(obj.top())\n",
    "print(obj.empty())"
   ]
  },
  {
   "cell_type": "code",
   "execution_count": null,
   "id": "3b034bc1",
   "metadata": {},
   "outputs": [],
   "source": []
  },
  {
   "cell_type": "code",
   "execution_count": 51,
   "id": "3c1b4e8e",
   "metadata": {},
   "outputs": [],
   "source": [
    "q = deque(maxlen = 5)\n",
    "q.append(1)\n",
    "q.append(2)\n",
    "q.append(3)"
   ]
  },
  {
   "cell_type": "code",
   "execution_count": 56,
   "id": "1278e2fc",
   "metadata": {},
   "outputs": [
    {
     "data": {
      "text/plain": [
       "deque([], maxlen=5)"
      ]
     },
     "execution_count": 56,
     "metadata": {},
     "output_type": "execute_result"
    }
   ],
   "source": [
    "q"
   ]
  },
  {
   "cell_type": "code",
   "execution_count": 55,
   "id": "8ba1ae58",
   "metadata": {},
   "outputs": [
    {
     "ename": "IndexError",
     "evalue": "pop from an empty deque",
     "output_type": "error",
     "traceback": [
      "\u001b[1;31m---------------------------------------------------------------------------\u001b[0m",
      "\u001b[1;31mIndexError\u001b[0m                                Traceback (most recent call last)",
      "Cell \u001b[1;32mIn[55], line 1\u001b[0m\n\u001b[1;32m----> 1\u001b[0m q\u001b[38;5;241m.\u001b[39mpop()\n",
      "\u001b[1;31mIndexError\u001b[0m: pop from an empty deque"
     ]
    }
   ],
   "source": [
    "q.pop()"
   ]
  },
  {
   "cell_type": "code",
   "execution_count": 33,
   "id": "5185a1d0",
   "metadata": {},
   "outputs": [],
   "source": [
    "\n",
    "q = deque(maxlen = 5)\n",
    "q.append(1)\n",
    "q.append(2)\n",
    "q.append(3)\n",
    "q.append(4)\n",
    "q.append(5)\n",
    "q.append(6)\n",
    "q.append(7)\n",
    "q.append(8)\n",
    "q.append(9)\n",
    "q.append(10)"
   ]
  },
  {
   "cell_type": "code",
   "execution_count": 36,
   "id": "f2b65377",
   "metadata": {},
   "outputs": [
    {
     "data": {
      "text/plain": [
       "10"
      ]
     },
     "execution_count": 36,
     "metadata": {},
     "output_type": "execute_result"
    }
   ],
   "source": [
    "q[len(q)-1]"
   ]
  },
  {
   "cell_type": "code",
   "execution_count": null,
   "id": "ad1c9390",
   "metadata": {},
   "outputs": [],
   "source": []
  },
  {
   "cell_type": "code",
   "execution_count": null,
   "id": "5e1b3aa8",
   "metadata": {},
   "outputs": [],
   "source": []
  }
 ],
 "metadata": {
  "kernelspec": {
   "display_name": "Python 3 (ipykernel)",
   "language": "python",
   "name": "python3"
  },
  "language_info": {
   "codemirror_mode": {
    "name": "ipython",
    "version": 3
   },
   "file_extension": ".py",
   "mimetype": "text/x-python",
   "name": "python",
   "nbconvert_exporter": "python",
   "pygments_lexer": "ipython3",
   "version": "3.11.5"
  }
 },
 "nbformat": 4,
 "nbformat_minor": 5
}
